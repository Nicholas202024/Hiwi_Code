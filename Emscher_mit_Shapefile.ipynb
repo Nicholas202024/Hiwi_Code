{
 "cells": [
  {
   "cell_type": "code",
   "execution_count": 1,
   "metadata": {},
   "outputs": [],
   "source": [
    "# import packages\n",
    "import pandas as pd\n",
    "import matplotlib.pyplot as plt\n",
    "import os\n",
    "import numpy as np\n",
    "import datetime\n",
    "import functions_hiwi as fct\n",
    "import warnings\n",
    "import xarray as xr\n",
    "from matplotlib.patches import Circle\n",
    "from matplotlib.patches import Rectangle\n",
    "import geopandas as gpd\n",
    "import regionmask"
   ]
  },
  {
   "cell_type": "code",
   "execution_count": 2,
   "metadata": {},
   "outputs": [],
   "source": [
    "# set ignore warnings\n",
    "warnings.simplefilter(action='ignore', category=FutureWarning)\n",
    "warnings.simplefilter(action='ignore', category=RuntimeWarning)"
   ]
  },
  {
   "cell_type": "code",
   "execution_count": 3,
   "metadata": {},
   "outputs": [],
   "source": [
    "# set main directory\n",
    "main_dir = r'C:\\Users\\illic\\Python\\data_hiwi\\Emschergenossenschaft'"
   ]
  },
  {
   "cell_type": "code",
   "execution_count": 4,
   "metadata": {},
   "outputs": [],
   "source": [
    "# set path to data\n",
    "emscher_path = os.path.join(main_dir, r'EGLV_PWS_dataset_5min_v03.nc')\n",
    "emscher_ref_1_path = os.path.join(main_dir, r'EGLV_refenzdaten\\EGLV_rs_1min.nc')\n",
    "emscher_ref_5_path = os.path.join(main_dir, r'EGLV_refenzdaten\\EGLV_rs_5min2.nc')\n",
    "emscher_ref_60_path = os.path.join(main_dir, r'EGLV_refenzdaten\\EGLV_rs_60min.nc')"
   ]
  },
  {
   "cell_type": "code",
   "execution_count": 5,
   "metadata": {},
   "outputs": [],
   "source": [
    "# read data\n",
    "ds_emscher = xr.open_dataset(emscher_path)\n",
    "ds_emscher_ref_1 = xr.open_dataset(emscher_ref_1_path)\n",
    "ds_emscher_ref_5 = xr.open_dataset(emscher_ref_5_path)\n",
    "ds_emscher_ref_60 = xr.open_dataset(emscher_ref_60_path)"
   ]
  },
  {
   "cell_type": "code",
   "execution_count": 6,
   "metadata": {},
   "outputs": [],
   "source": [
    "# id neu setzen\n",
    "id = np.arange(1, len(ds_emscher.id) + 1, 1) # oder: id = ['id_' + str(id) for id in (np.arange(1, len(ds_emscher.id) + 1, 1))]\n",
    "ds_emscher['id'] = id\n",
    "id = np.arange(1, len(ds_emscher_ref_1.id) + 1, 1)\n",
    "ds_emscher_ref_1['id'] = id\n",
    "ds_emscher_ref_5['id'] = id\n",
    "ds_emscher_ref_60['id'] = id"
   ]
  },
  {
   "cell_type": "code",
   "execution_count": 7,
   "metadata": {},
   "outputs": [],
   "source": [
    "# create DataFrame\n",
    "df_emscher = pd.DataFrame(data=ds_emscher.rainfall.sel(id=slice(1, 10)).values.T, index=ds_emscher.time.values ,columns=ds_emscher.id.sel(id=slice(1, 10)).values)\n",
    "\n",
    "# create DataFrame with no NaN values\n",
    "df_emscher_nonan = df_emscher.fillna(0)"
   ]
  },
  {
   "cell_type": "code",
   "execution_count": 8,
   "metadata": {},
   "outputs": [],
   "source": [
    "# create DataFrame with coordinates\n",
    "df_coordinaten_emscher = pd.DataFrame(data=(ds_emscher.lon.values, ds_emscher.lat.values), index=['lon', 'lat'], columns=ds_emscher.id.values).T\n",
    "coordinates_primary_utm32 = pd.DataFrame(data=(ds_emscher_ref_1.x.values, ds_emscher_ref_1.y.values), index=['lon', 'lat'], columns=ds_emscher_ref_1.id.values).T"
   ]
  },
  {
   "cell_type": "code",
   "execution_count": 9,
   "metadata": {},
   "outputs": [],
   "source": [
    "# transform coordinates to x, y\n",
    "\n",
    "# x, y = fct.LatLon_To_XY(primary_locations_df['lon'], primary_locations_df['lat'])\n",
    "# coordinates_primary_utm32 = pd.DataFrame({'lon': x, 'lat': y}, index=primary_locations_df.index)\n",
    "\n",
    "x, y = fct.LatLon_To_XY(df_coordinaten_emscher['lon'], df_coordinaten_emscher['lat'])\n",
    "coordinates_secondary_utm32 = pd.DataFrame({'lon': x, 'lat': y}, index=df_coordinaten_emscher.index)"
   ]
  },
  {
   "cell_type": "code",
   "execution_count": 10,
   "metadata": {},
   "outputs": [],
   "source": [
    "# read shapefile\n",
    "shapefile_path = r'C:\\Users\\illic\\Python\\data_hiwi\\Emschergenossenschaft\\Shapefiles\\eglv_grenze_utm.shp'\n",
    "shapefile = gpd.read_file(shapefile_path)"
   ]
  },
  {
   "cell_type": "code",
   "execution_count": 11,
   "metadata": {},
   "outputs": [],
   "source": [
    "# # set negative values of df to NaN\n",
    "# cond_1min = PluvioDataRT_ds.rainfall < 0 # True wenn condition erfüllt\n",
    "# cond_1h = PluvioDataRT_1h_ds.rainfall < 0\n",
    "\n",
    "# PluvioDataRT_ds = PluvioDataRT_ds.where(~cond_1min) # da wo True, also condition erfüllt ist, wird NaN gesetzt\n",
    "# PluvioDataRT_1h_ds = PluvioDataRT_1h_ds.where(~cond_1h)"
   ]
  },
  {
   "cell_type": "code",
   "execution_count": 12,
   "metadata": {},
   "outputs": [],
   "source": [
    "# # create DataFrame\n",
    "# PluvioDataRT_df = pd.DataFrame(data=PluvioDataRT_ds.rainfall.values.T, index=PluvioDataRT_ds.time.values ,columns=PluvioDataRT_ds.id.values)\n",
    "# PluvioDataRT_1h_df = pd.DataFrame(data=PluvioDataRT_1h_ds.rainfall.values, index=PluvioDataRT_1h_ds.time.values ,columns=PluvioDataRT_1h_ds.id.values)"
   ]
  },
  {
   "cell_type": "code",
   "execution_count": 13,
   "metadata": {},
   "outputs": [
    {
     "data": {
      "text/html": [
       "<div>\n",
       "<style scoped>\n",
       "    .dataframe tbody tr th:only-of-type {\n",
       "        vertical-align: middle;\n",
       "    }\n",
       "\n",
       "    .dataframe tbody tr th {\n",
       "        vertical-align: top;\n",
       "    }\n",
       "\n",
       "    .dataframe thead th {\n",
       "        text-align: right;\n",
       "    }\n",
       "</style>\n",
       "<table border=\"1\" class=\"dataframe\">\n",
       "  <thead>\n",
       "    <tr style=\"text-align: right;\">\n",
       "      <th></th>\n",
       "      <th>Id</th>\n",
       "      <th>NAME</th>\n",
       "      <th>CNT_NAME</th>\n",
       "      <th>AREA</th>\n",
       "      <th>PERIMETER</th>\n",
       "      <th>geometry</th>\n",
       "    </tr>\n",
       "  </thead>\n",
       "  <tbody>\n",
       "    <tr>\n",
       "      <th>0</th>\n",
       "      <td>2</td>\n",
       "      <td>Emschergenossenschaft</td>\n",
       "      <td>0</td>\n",
       "      <td>863.590505</td>\n",
       "      <td>0.0</td>\n",
       "      <td>POLYGON ((340451.718 5715143.124, 340595.119 5...</td>\n",
       "    </tr>\n",
       "    <tr>\n",
       "      <th>1</th>\n",
       "      <td>0</td>\n",
       "      <td>Lippeverband</td>\n",
       "      <td>0</td>\n",
       "      <td>3309.934617</td>\n",
       "      <td>0.0</td>\n",
       "      <td>POLYGON ((340451.718 5715143.124, 340396.407 5...</td>\n",
       "    </tr>\n",
       "  </tbody>\n",
       "</table>\n",
       "</div>"
      ],
      "text/plain": [
       "   Id                   NAME  CNT_NAME         AREA  PERIMETER  \\\n",
       "0   2  Emschergenossenschaft         0   863.590505        0.0   \n",
       "1   0           Lippeverband         0  3309.934617        0.0   \n",
       "\n",
       "                                            geometry  \n",
       "0  POLYGON ((340451.718 5715143.124, 340595.119 5...  \n",
       "1  POLYGON ((340451.718 5715143.124, 340396.407 5...  "
      ]
     },
     "execution_count": 13,
     "metadata": {},
     "output_type": "execute_result"
    }
   ],
   "source": [
    "shapefile"
   ]
  },
  {
   "cell_type": "code",
   "execution_count": 15,
   "metadata": {},
   "outputs": [],
   "source": [
    "# shapefile.plot()"
   ]
  },
  {
   "cell_type": "code",
   "execution_count": 22,
   "metadata": {},
   "outputs": [
    {
     "ename": "ValueError",
     "evalue": "Cannot pass a single ndarray as region - please pass it as a list.",
     "output_type": "error",
     "traceback": [
      "\u001b[1;31m---------------------------------------------------------------------------\u001b[0m",
      "\u001b[1;31mValueError\u001b[0m                                Traceback (most recent call last)",
      "Cell \u001b[1;32mIn[22], line 1\u001b[0m\n\u001b[1;32m----> 1\u001b[0m poly \u001b[38;5;241m=\u001b[39m \u001b[43mregionmask\u001b[49m\u001b[38;5;241;43m.\u001b[39;49m\u001b[43mRegions\u001b[49m\u001b[43m(\u001b[49m\u001b[43mnp\u001b[49m\u001b[38;5;241;43m.\u001b[39;49m\u001b[43marray\u001b[49m\u001b[43m(\u001b[49m\u001b[43mshapefile\u001b[49m\u001b[38;5;241;43m.\u001b[39;49m\u001b[43mloc\u001b[49m\u001b[43m[\u001b[49m\u001b[38;5;241;43m0\u001b[39;49m\u001b[43m]\u001b[49m\u001b[38;5;241;43m.\u001b[39;49m\u001b[43mgeometry\u001b[49m\u001b[43m)\u001b[49m\u001b[43m)\u001b[49m\n",
      "File \u001b[1;32mc:\\Users\\illic\\miniforge3\\envs\\hiwi_emscher\\lib\\site-packages\\regionmask\\core\\regions.py:136\u001b[0m, in \u001b[0;36mRegions.__init__\u001b[1;34m(self, outlines, numbers, names, abbrevs, name, source, overlap)\u001b[0m\n\u001b[0;32m    134\u001b[0m \u001b[38;5;28;01mif\u001b[39;00m \u001b[38;5;28misinstance\u001b[39m(outlines, (np\u001b[38;5;241m.\u001b[39mndarray, Polygon, MultiPolygon)):\n\u001b[0;32m    135\u001b[0m     klass \u001b[38;5;241m=\u001b[39m \u001b[38;5;28mtype\u001b[39m(outlines)\u001b[38;5;241m.\u001b[39m\u001b[38;5;18m__name__\u001b[39m\n\u001b[1;32m--> 136\u001b[0m     \u001b[38;5;28;01mraise\u001b[39;00m \u001b[38;5;167;01mValueError\u001b[39;00m(\n\u001b[0;32m    137\u001b[0m         \u001b[38;5;124mf\u001b[39m\u001b[38;5;124m\"\u001b[39m\u001b[38;5;124mCannot pass a single \u001b[39m\u001b[38;5;132;01m{\u001b[39;00mklass\u001b[38;5;132;01m}\u001b[39;00m\u001b[38;5;124m as region - please pass it as a list.\u001b[39m\u001b[38;5;124m\"\u001b[39m\n\u001b[0;32m    138\u001b[0m     )\n\u001b[0;32m    140\u001b[0m \u001b[38;5;28;01mif\u001b[39;00m numbers \u001b[38;5;129;01mis\u001b[39;00m \u001b[38;5;28;01mNone\u001b[39;00m:\n\u001b[0;32m    141\u001b[0m     numbers \u001b[38;5;241m=\u001b[39m \u001b[38;5;28mrange\u001b[39m(\u001b[38;5;28mlen\u001b[39m(outlines))\n",
      "\u001b[1;31mValueError\u001b[0m: Cannot pass a single ndarray as region - please pass it as a list."
     ]
    }
   ],
   "source": [
    "poly = regionmask.Regions(np.array(shapefile.loc[0].geometry))"
   ]
  },
  {
   "cell_type": "code",
   "execution_count": 47,
   "metadata": {},
   "outputs": [],
   "source": [
    "poly_emscher = regionmask.Regions(list(shapefile.geometry))"
   ]
  },
  {
   "cell_type": "code",
   "execution_count": 53,
   "metadata": {},
   "outputs": [
    {
     "name": "stderr",
     "output_type": "stream",
     "text": [
      "c:\\Users\\illic\\miniforge3\\envs\\hiwi_emscher\\lib\\site-packages\\regionmask\\core\\_deprecate.py:108: UserWarning: No gridpoint belongs to any region. Returning an all-NaN mask.\n",
      "  return func(*args, **kwargs)\n"
     ]
    }
   ],
   "source": [
    "mask = poly_emscher.mask(ds_emscher, lat_name='lat', lon_name='lon')"
   ]
  },
  {
   "cell_type": "code",
   "execution_count": 55,
   "metadata": {},
   "outputs": [],
   "source": [
    "ds_emscher_mask = ds_emscher.where(mask)"
   ]
  },
  {
   "cell_type": "code",
   "execution_count": null,
   "metadata": {},
   "outputs": [],
   "source": []
  }
 ],
 "metadata": {
  "kernelspec": {
   "display_name": "Python 3",
   "language": "python",
   "name": "python3"
  },
  "language_info": {
   "codemirror_mode": {
    "name": "ipython",
    "version": 3
   },
   "file_extension": ".py",
   "mimetype": "text/x-python",
   "name": "python",
   "nbconvert_exporter": "python",
   "pygments_lexer": "ipython3",
   "version": "3.10.8"
  }
 },
 "nbformat": 4,
 "nbformat_minor": 2
}
