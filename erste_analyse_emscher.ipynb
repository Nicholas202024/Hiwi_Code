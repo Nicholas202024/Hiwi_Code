{
 "cells": [
  {
   "cell_type": "code",
   "execution_count": 1,
   "metadata": {},
   "outputs": [],
   "source": [
    "# import packages\n",
    "import pandas as pd\n",
    "import matplotlib.pyplot as plt\n",
    "import os\n",
    "import numpy as np\n",
    "import datetime\n",
    "import functions_hiwi as fct\n",
    "import warnings\n",
    "import xarray as xr\n",
    "from matplotlib.patches import Circle\n",
    "from matplotlib.patches import Rectangle"
   ]
  },
  {
   "cell_type": "code",
   "execution_count": 2,
   "metadata": {},
   "outputs": [],
   "source": [
    "# set ignore warnings\n",
    "warnings.simplefilter(action='ignore', category=FutureWarning)\n",
    "warnings.simplefilter(action='ignore', category=RuntimeWarning)"
   ]
  },
  {
   "cell_type": "code",
   "execution_count": 3,
   "metadata": {},
   "outputs": [],
   "source": [
    "# set main directory\n",
    "main_dir = r'C:\\Users\\illic\\Python\\data_hiwi\\Emschergenossenschaft'"
   ]
  },
  {
   "cell_type": "code",
   "execution_count": 4,
   "metadata": {},
   "outputs": [],
   "source": [
    "# set path to data\n",
    "emscher_path = os.path.join(main_dir, r'EGLV_PWS_dataset_5min_v03.nc')"
   ]
  },
  {
   "cell_type": "code",
   "execution_count": 5,
   "metadata": {},
   "outputs": [],
   "source": [
    "# read data\n",
    "ds_emscher = xr.open_dataset(emscher_path)"
   ]
  },
  {
   "cell_type": "code",
   "execution_count": 6,
   "metadata": {},
   "outputs": [],
   "source": [
    "# id neu setzen\n",
    "id = np.arange(1, len(ds_emscher.id) + 1, 1) # oder: id = ['id_' + str(id) for id in (np.arange(1, len(ds_emscher.id) + 1, 1))]\n",
    "ds_emscher['id'] = id"
   ]
  },
  {
   "cell_type": "code",
   "execution_count": 7,
   "metadata": {},
   "outputs": [],
   "source": [
    "# create DataFrame\n",
    "df_emscher = pd.DataFrame(data=ds_emscher.rainfall.sel(id=slice(1, 10)).values.T, index=ds_emscher.time.values ,columns=ds_emscher.id.sel(id=slice(1, 10)).values)\n",
    "\n",
    "# create DataFrame with no NaN values\n",
    "df_emscher_nonan = df_emscher.fillna(0)"
   ]
  },
  {
   "cell_type": "code",
   "execution_count": 8,
   "metadata": {},
   "outputs": [],
   "source": [
    "# create DataFrame with coordinates\n",
    "df_coordinaten_emscher = pd.DataFrame(data=(ds_emscher.lon.values, ds_emscher.lat.values), index=['lon', 'lat'], columns=ds_emscher.id.values).T"
   ]
  },
  {
   "cell_type": "code",
   "execution_count": 9,
   "metadata": {},
   "outputs": [],
   "source": [
    "# transform coordinates to x, y\n",
    "\n",
    "# x, y = fct.LatLon_To_XY(primary_locations_df['lon'], primary_locations_df['lat'])\n",
    "# coordinates_primary_utm32 = pd.DataFrame({'lon': x, 'lat': y}, index=primary_locations_df.index)\n",
    "\n",
    "x, y = fct.LatLon_To_XY(df_coordinaten_emscher['lon'], df_coordinaten_emscher['lat'])\n",
    "coordinates_secondary_utm32 = pd.DataFrame({'lon': x, 'lat': y}, index=df_coordinaten_emscher.index)"
   ]
  },
  {
   "cell_type": "code",
   "execution_count": 10,
   "metadata": {},
   "outputs": [
    {
     "data": {
      "text/html": [
       "<div>\n",
       "<style scoped>\n",
       "    .dataframe tbody tr th:only-of-type {\n",
       "        vertical-align: middle;\n",
       "    }\n",
       "\n",
       "    .dataframe tbody tr th {\n",
       "        vertical-align: top;\n",
       "    }\n",
       "\n",
       "    .dataframe thead th {\n",
       "        text-align: right;\n",
       "    }\n",
       "</style>\n",
       "<table border=\"1\" class=\"dataframe\">\n",
       "  <thead>\n",
       "    <tr style=\"text-align: right;\">\n",
       "      <th></th>\n",
       "      <th>lon</th>\n",
       "      <th>lat</th>\n",
       "    </tr>\n",
       "  </thead>\n",
       "  <tbody>\n",
       "    <tr>\n",
       "      <th>1</th>\n",
       "      <td>6.548694</td>\n",
       "      <td>51.426193</td>\n",
       "    </tr>\n",
       "    <tr>\n",
       "      <th>2</th>\n",
       "      <td>6.526900</td>\n",
       "      <td>51.436256</td>\n",
       "    </tr>\n",
       "    <tr>\n",
       "      <th>3</th>\n",
       "      <td>6.535824</td>\n",
       "      <td>51.432460</td>\n",
       "    </tr>\n",
       "    <tr>\n",
       "      <th>4</th>\n",
       "      <td>6.545567</td>\n",
       "      <td>51.439660</td>\n",
       "    </tr>\n",
       "    <tr>\n",
       "      <th>5</th>\n",
       "      <td>6.538055</td>\n",
       "      <td>51.455025</td>\n",
       "    </tr>\n",
       "    <tr>\n",
       "      <th>...</th>\n",
       "      <td>...</td>\n",
       "      <td>...</td>\n",
       "    </tr>\n",
       "    <tr>\n",
       "      <th>3546</th>\n",
       "      <td>7.727395</td>\n",
       "      <td>51.910908</td>\n",
       "    </tr>\n",
       "    <tr>\n",
       "      <th>3547</th>\n",
       "      <td>8.577646</td>\n",
       "      <td>51.683721</td>\n",
       "    </tr>\n",
       "    <tr>\n",
       "      <th>3548</th>\n",
       "      <td>8.433512</td>\n",
       "      <td>51.686384</td>\n",
       "    </tr>\n",
       "    <tr>\n",
       "      <th>3549</th>\n",
       "      <td>8.637683</td>\n",
       "      <td>51.847763</td>\n",
       "    </tr>\n",
       "    <tr>\n",
       "      <th>3550</th>\n",
       "      <td>8.875950</td>\n",
       "      <td>51.900608</td>\n",
       "    </tr>\n",
       "  </tbody>\n",
       "</table>\n",
       "<p>3550 rows × 2 columns</p>\n",
       "</div>"
      ],
      "text/plain": [
       "           lon        lat\n",
       "1     6.548694  51.426193\n",
       "2     6.526900  51.436256\n",
       "3     6.535824  51.432460\n",
       "4     6.545567  51.439660\n",
       "5     6.538055  51.455025\n",
       "...        ...        ...\n",
       "3546  7.727395  51.910908\n",
       "3547  8.577646  51.683721\n",
       "3548  8.433512  51.686384\n",
       "3549  8.637683  51.847763\n",
       "3550  8.875950  51.900608\n",
       "\n",
       "[3550 rows x 2 columns]"
      ]
     },
     "execution_count": 10,
     "metadata": {},
     "output_type": "execute_result"
    }
   ],
   "source": [
    "df_coordinaten_emscher"
   ]
  },
  {
   "cell_type": "code",
   "execution_count": 11,
   "metadata": {},
   "outputs": [
    {
     "data": {
      "text/html": [
       "<div>\n",
       "<style scoped>\n",
       "    .dataframe tbody tr th:only-of-type {\n",
       "        vertical-align: middle;\n",
       "    }\n",
       "\n",
       "    .dataframe tbody tr th {\n",
       "        vertical-align: top;\n",
       "    }\n",
       "\n",
       "    .dataframe thead th {\n",
       "        text-align: right;\n",
       "    }\n",
       "</style>\n",
       "<table border=\"1\" class=\"dataframe\">\n",
       "  <thead>\n",
       "    <tr style=\"text-align: right;\">\n",
       "      <th></th>\n",
       "      <th>1</th>\n",
       "      <th>2</th>\n",
       "      <th>3</th>\n",
       "      <th>4</th>\n",
       "      <th>5</th>\n",
       "      <th>6</th>\n",
       "      <th>7</th>\n",
       "      <th>8</th>\n",
       "      <th>9</th>\n",
       "      <th>10</th>\n",
       "    </tr>\n",
       "  </thead>\n",
       "  <tbody>\n",
       "    <tr>\n",
       "      <th>2014-04-26 16:30:00</th>\n",
       "      <td>NaN</td>\n",
       "      <td>NaN</td>\n",
       "      <td>NaN</td>\n",
       "      <td>NaN</td>\n",
       "      <td>NaN</td>\n",
       "      <td>NaN</td>\n",
       "      <td>NaN</td>\n",
       "      <td>NaN</td>\n",
       "      <td>NaN</td>\n",
       "      <td>NaN</td>\n",
       "    </tr>\n",
       "    <tr>\n",
       "      <th>2014-04-26 16:35:00</th>\n",
       "      <td>NaN</td>\n",
       "      <td>NaN</td>\n",
       "      <td>NaN</td>\n",
       "      <td>NaN</td>\n",
       "      <td>NaN</td>\n",
       "      <td>NaN</td>\n",
       "      <td>NaN</td>\n",
       "      <td>NaN</td>\n",
       "      <td>NaN</td>\n",
       "      <td>NaN</td>\n",
       "    </tr>\n",
       "    <tr>\n",
       "      <th>2014-04-26 16:40:00</th>\n",
       "      <td>NaN</td>\n",
       "      <td>NaN</td>\n",
       "      <td>NaN</td>\n",
       "      <td>NaN</td>\n",
       "      <td>NaN</td>\n",
       "      <td>NaN</td>\n",
       "      <td>NaN</td>\n",
       "      <td>NaN</td>\n",
       "      <td>NaN</td>\n",
       "      <td>NaN</td>\n",
       "    </tr>\n",
       "    <tr>\n",
       "      <th>2014-04-26 16:45:00</th>\n",
       "      <td>NaN</td>\n",
       "      <td>NaN</td>\n",
       "      <td>NaN</td>\n",
       "      <td>NaN</td>\n",
       "      <td>NaN</td>\n",
       "      <td>NaN</td>\n",
       "      <td>NaN</td>\n",
       "      <td>NaN</td>\n",
       "      <td>NaN</td>\n",
       "      <td>NaN</td>\n",
       "    </tr>\n",
       "    <tr>\n",
       "      <th>2014-04-26 16:50:00</th>\n",
       "      <td>NaN</td>\n",
       "      <td>NaN</td>\n",
       "      <td>NaN</td>\n",
       "      <td>NaN</td>\n",
       "      <td>NaN</td>\n",
       "      <td>NaN</td>\n",
       "      <td>NaN</td>\n",
       "      <td>NaN</td>\n",
       "      <td>NaN</td>\n",
       "      <td>NaN</td>\n",
       "    </tr>\n",
       "    <tr>\n",
       "      <th>...</th>\n",
       "      <td>...</td>\n",
       "      <td>...</td>\n",
       "      <td>...</td>\n",
       "      <td>...</td>\n",
       "      <td>...</td>\n",
       "      <td>...</td>\n",
       "      <td>...</td>\n",
       "      <td>...</td>\n",
       "      <td>...</td>\n",
       "      <td>...</td>\n",
       "    </tr>\n",
       "    <tr>\n",
       "      <th>2024-01-10 23:35:00</th>\n",
       "      <td>NaN</td>\n",
       "      <td>NaN</td>\n",
       "      <td>NaN</td>\n",
       "      <td>NaN</td>\n",
       "      <td>NaN</td>\n",
       "      <td>NaN</td>\n",
       "      <td>NaN</td>\n",
       "      <td>NaN</td>\n",
       "      <td>NaN</td>\n",
       "      <td>NaN</td>\n",
       "    </tr>\n",
       "    <tr>\n",
       "      <th>2024-01-10 23:40:00</th>\n",
       "      <td>NaN</td>\n",
       "      <td>NaN</td>\n",
       "      <td>NaN</td>\n",
       "      <td>NaN</td>\n",
       "      <td>NaN</td>\n",
       "      <td>NaN</td>\n",
       "      <td>NaN</td>\n",
       "      <td>NaN</td>\n",
       "      <td>NaN</td>\n",
       "      <td>NaN</td>\n",
       "    </tr>\n",
       "    <tr>\n",
       "      <th>2024-01-10 23:45:00</th>\n",
       "      <td>NaN</td>\n",
       "      <td>NaN</td>\n",
       "      <td>NaN</td>\n",
       "      <td>NaN</td>\n",
       "      <td>NaN</td>\n",
       "      <td>NaN</td>\n",
       "      <td>NaN</td>\n",
       "      <td>NaN</td>\n",
       "      <td>NaN</td>\n",
       "      <td>NaN</td>\n",
       "    </tr>\n",
       "    <tr>\n",
       "      <th>2024-01-10 23:50:00</th>\n",
       "      <td>NaN</td>\n",
       "      <td>NaN</td>\n",
       "      <td>NaN</td>\n",
       "      <td>NaN</td>\n",
       "      <td>NaN</td>\n",
       "      <td>NaN</td>\n",
       "      <td>NaN</td>\n",
       "      <td>NaN</td>\n",
       "      <td>NaN</td>\n",
       "      <td>NaN</td>\n",
       "    </tr>\n",
       "    <tr>\n",
       "      <th>2024-01-10 23:55:00</th>\n",
       "      <td>NaN</td>\n",
       "      <td>NaN</td>\n",
       "      <td>NaN</td>\n",
       "      <td>NaN</td>\n",
       "      <td>NaN</td>\n",
       "      <td>NaN</td>\n",
       "      <td>NaN</td>\n",
       "      <td>NaN</td>\n",
       "      <td>NaN</td>\n",
       "      <td>NaN</td>\n",
       "    </tr>\n",
       "  </tbody>\n",
       "</table>\n",
       "<p>1021338 rows × 10 columns</p>\n",
       "</div>"
      ],
      "text/plain": [
       "                     1   2   3   4   5   6   7   8   9   10\n",
       "2014-04-26 16:30:00 NaN NaN NaN NaN NaN NaN NaN NaN NaN NaN\n",
       "2014-04-26 16:35:00 NaN NaN NaN NaN NaN NaN NaN NaN NaN NaN\n",
       "2014-04-26 16:40:00 NaN NaN NaN NaN NaN NaN NaN NaN NaN NaN\n",
       "2014-04-26 16:45:00 NaN NaN NaN NaN NaN NaN NaN NaN NaN NaN\n",
       "2014-04-26 16:50:00 NaN NaN NaN NaN NaN NaN NaN NaN NaN NaN\n",
       "...                  ..  ..  ..  ..  ..  ..  ..  ..  ..  ..\n",
       "2024-01-10 23:35:00 NaN NaN NaN NaN NaN NaN NaN NaN NaN NaN\n",
       "2024-01-10 23:40:00 NaN NaN NaN NaN NaN NaN NaN NaN NaN NaN\n",
       "2024-01-10 23:45:00 NaN NaN NaN NaN NaN NaN NaN NaN NaN NaN\n",
       "2024-01-10 23:50:00 NaN NaN NaN NaN NaN NaN NaN NaN NaN NaN\n",
       "2024-01-10 23:55:00 NaN NaN NaN NaN NaN NaN NaN NaN NaN NaN\n",
       "\n",
       "[1021338 rows x 10 columns]"
      ]
     },
     "execution_count": 11,
     "metadata": {},
     "output_type": "execute_result"
    }
   ],
   "source": [
    "df_emscher"
   ]
  },
  {
   "cell_type": "code",
   "execution_count": 12,
   "metadata": {},
   "outputs": [],
   "source": [
    "# for i in range(1, 6):\n",
    "#     fct.sum_curve(df_emscher, i, df_emscher.index[0], df_emscher.index[-1])"
   ]
  },
  {
   "cell_type": "code",
   "execution_count": 13,
   "metadata": {},
   "outputs": [],
   "source": [
    "# for i in range(1, 6):\n",
    "#     fct.histogramm_scatter(df_emscher, i, '5min')"
   ]
  },
  {
   "cell_type": "code",
   "execution_count": 14,
   "metadata": {},
   "outputs": [],
   "source": [
    "# for i in range(1, 6):\n",
    "#     x, y = np.unique(fct.list_nan_sequences_schnell(df_emscher, i, '5min')[2], return_counts=True)\n",
    "#     print('id', str(i) + ':', 'longest sequenze: ', x.max())"
   ]
  },
  {
   "cell_type": "code",
   "execution_count": 15,
   "metadata": {},
   "outputs": [],
   "source": [
    "# for i in range(1, 6):\n",
    "#     print('id', str(i) + ':', 'Anzahl Peaks:', len(fct.get_data_nan_seq_before_peak(df_emscher, 'sc', i, 0.99)[3]))"
   ]
  },
  {
   "cell_type": "code",
   "execution_count": 16,
   "metadata": {},
   "outputs": [],
   "source": [
    "def sum_curve(data, station, date_start, date_end):\n",
    "\n",
    "    # set DataFrame for this run of this funktion\n",
    "    dataframe = data\n",
    "    \n",
    "    # Messwerte der Station aufsummieren\n",
    "    sum_list = dataframe.cumsum().values\n",
    "    sum = dataframe.sum().item()\n",
    "\n",
    "    # \"Summendataframe\" erstellen\n",
    "    index_sum_df = dataframe.time.values\n",
    "    sum_df = pd.Series(data=sum_list, index=index_sum_df)\n",
    "\n",
    "    # Subplot erstellen\n",
    "    fig, ax = plt.subplots()\n",
    "\n",
    "    # plot Tageswerte\n",
    "    ax.plot(index_sum_df, dataframe, label='Tageswerte', color='green')\n",
    "    ax.set_ylabel('Tageswert [mm]')\n",
    "    plt.xticks(rotation=45)\n",
    "    plt.legend(loc=9)\n",
    "\n",
    "    # plot Summenkurve\n",
    "    ax = ax.twinx()\n",
    "    ax.plot(index_sum_df, sum_list, label='Summenkurve', color='red')\n",
    "    ax.set_ylabel('Summenkurve [mm]')\n",
    "    plt.legend(loc=2)\n",
    "\n",
    "    name_plot = 'Summenkurve + Tageswerte, Station: ' + str(station)\n",
    "    plt.title(name_plot)\n",
    "    plt.xlabel('DateTime')\n",
    "    plt.legend()\n",
    "    \n",
    "    plt.show()\n",
    "    plt.close()\n",
    "    \n",
    "    return print('Gesamtniederschlag über Zeitraum:', round(sum, 2), 'mm\\n') # (print('Index Station', str(station), ': \\n\\n', index_sum_df, '\\n\\n', 'Summe aktuel zu Zeitstempel:\\n\\n', sum_df))\n"
   ]
  },
  {
   "cell_type": "code",
   "execution_count": 17,
   "metadata": {},
   "outputs": [],
   "source": [
    "# for i in range(1, 6):\n",
    "#     sum_curve(ds_emscher.rainfall.sel(id=i), i, ds_emscher.sel(id=i).time[0], ds_emscher.sel(id=i).time[-1])"
   ]
  },
  {
   "cell_type": "code",
   "execution_count": 18,
   "metadata": {},
   "outputs": [],
   "source": [
    "# list_nans_gesamt = []\n",
    "# list_nan_sequences = []\n",
    "# list_nan_sequences_1_2 = []\n",
    "# list_peaks = []\n",
    "# list_nans_gesamt_corr = []\n",
    "# list_nan_sequences_corr = []\n",
    "# list_verhaeltnis_nans = []\n",
    "# list_verhaeltnis_nan_sequences = []\n",
    "\n",
    "# for station in range(1, 6):\n",
    "#     sum_nan_u = df_emscher[station].isna().sum()\n",
    "#     list_u = fct.list_nan_sequences_schnell(df_emscher, station, '5min')[2]\n",
    "#     x_u, y_u = np.unique(list_u, return_counts=True)\n",
    "#     peaks_u = fct.get_data_nan_seq_before_peak(df_emscher, 'sc', station, 0.99)[3]\n",
    "\n",
    "#     print(station, 'unkorrigiert')\n",
    "#     print('   nans gesamt: ', sum_nan_u)\n",
    "#     print('   nan sequenzen: ', y_u.sum())\n",
    "#     print('   davon 1er und 2er nan sequenzen: ', y_u[0:2].sum())\n",
    "#     print('   peaks: ', len(peaks_u))\n",
    "\n",
    "#     list_nans_gesamt.append(sum_nan_u)\n",
    "#     list_nan_sequences.append(y_u.sum())\n",
    "#     list_nan_sequences_1_2.append(y_u[0:2].sum())\n",
    "#     list_peaks.append(len(peaks_u))\n",
    "\n",
    "#     # sum_nan = df_reutlingen_corrected[station].isna().sum()\n",
    "#     # list = fct.list_nan_sequences_schnell(df_reutlingen_corrected, station, '5min')[2]\n",
    "#     # x, y = np.unique(list, return_counts=True)\n",
    "#     # peaks = fct.get_data_nan_seq_before_peak(df_reutlingen_corrected, 'sc', station, 0.99)[3]\n",
    "\n",
    "#     # print(station, 'korrigiert')\n",
    "#     # print('   nans gesamt: ', sum_nan)\n",
    "#     # print('   nan sequenzen: ', y.sum())\n",
    "#     # print('Verhältnis korrigiert zu unkorrigiert: ', round(((sum_nan_u - sum_nan)/sum_nan_u)*100, 2), '% werden korrigiert')\n",
    "\n",
    "#     # list_nans_gesamt_corr.append(sum_nan)\n",
    "#     # list_nan_sequences_corr.append(y.sum())\n",
    "#     # list_verhaeltnis_nans.append(round(((sum_nan_u - sum_nan)/sum_nan_u)*100))\n",
    "#     # list_verhaeltnis_nan_sequences.append(round(((y_u.sum() - y.sum())/y_u.sum())*100))\n",
    "    "
   ]
  },
  {
   "cell_type": "code",
   "execution_count": 19,
   "metadata": {},
   "outputs": [],
   "source": [
    "def coordinates(loc_prim, loc_sec, y, station, ref1, ref2, ref3, ref4):\n",
    "    \n",
    "    if y == 'primary':\n",
    "        coords_lon = loc_prim['lon']\n",
    "        coords_lat = loc_prim['lat']\n",
    "    elif y == 'secondary':\n",
    "        coords_lon = loc_sec.lon\n",
    "        coords_lat = loc_sec.lat\n",
    "    elif y == 'both':\n",
    "        coords_lon_prim = loc_prim['lon']\n",
    "        coords_lat_prim = loc_prim['lat']\n",
    "        coords_lon_sec = loc_sec['lon']\n",
    "        coords_lat_sec = loc_sec['lat']\n",
    "\n",
    "    if y == 'both':\n",
    "        name_plot = 'Coordinates ' + y + ' networks'\n",
    "        plt.scatter(x=coords_lon_prim, y=coords_lat_prim, s=20, color='red', label='primary network', marker='x', linewidth=1)\n",
    "        plt.scatter(x=coords_lon_sec, y=coords_lat_sec, s=2, color='blue', label='secondary network', alpha=0.5)\n",
    "        if type(station) == int:\n",
    "            plt.scatter(loc_prim['lon'].iloc[station], loc_prim['lat'].iloc[station], color='black')\n",
    "        plt.legend()\n",
    "    else:\n",
    "        name_plot = 'Coordinates ' + y + ' network'\n",
    "        plt.scatter(x=coords_lon, y=coords_lat, s=10)\n",
    "        if type(station) == int:\n",
    "            if y == 'primary':\n",
    "                plt.scatter(loc_prim['lon'].iloc[station], loc_prim['lat'].iloc[station], color='red')\n",
    "            elif y == 'secondary':\n",
    "                plt.scatter(loc_sec.lon.sel(id=station), loc_sec.lat.sel(id=station), color='red')\n",
    "\n",
    "            try:\n",
    "                plt.scatter(loc_sec['lon'].iloc[ref1 - 1], loc_sec['lat'].iloc[ref1 - 1], color='lime', s=10)\n",
    "                plt.scatter(loc_sec['lon'].iloc[ref2 - 1], loc_sec['lat'].iloc[ref2 - 1], color='lime', s=10)\n",
    "                plt.scatter(loc_sec['lon'].iloc[ref3 - 1], loc_sec['lat'].iloc[ref3 - 1], color='lime', s=10)\n",
    "                plt.scatter(loc_sec['lon'].iloc[ref4 - 1], loc_sec['lat'].iloc[ref4 - 1], color='lime', s=10)\n",
    "            except:\n",
    "                pass\n",
    "\n",
    "    plt.xlabel('longitude')\n",
    "    plt.ylabel('latitude')\n",
    "    plt.title(name_plot)\n",
    "\n",
    "    plt.show()\n",
    "    plt.close()\n",
    "    \n",
    "    return # print(coords_lon, coords_lat)"
   ]
  },
  {
   "cell_type": "code",
   "execution_count": 20,
   "metadata": {},
   "outputs": [
    {
     "data": {
      "image/png": "[encoded data removed]",
      "text/plain": [
       "<Figure size 640x480 with 1 Axes>"
      ]
     },
     "metadata": {},
     "output_type": "display_data"
    }
   ],
   "source": [
    "coordinates(ds_emscher, ds_emscher, 'secondary', 5, '-', '-', '-', '-')"
   ]
  },
  {
   "cell_type": "code",
   "execution_count": 21,
   "metadata": {},
   "outputs": [],
   "source": [
    "# ds_emscher['id']"
   ]
  },
  {
   "cell_type": "code",
   "execution_count": 22,
   "metadata": {},
   "outputs": [],
   "source": [
    "# ds_emscher.sel(id=1).lon"
   ]
  },
  {
   "cell_type": "code",
   "execution_count": 23,
   "metadata": {},
   "outputs": [],
   "source": [
    "def coordinates_all_stations_in_range(loc_prim, loc_sec, y, station, ref1, ref2, ref3, ref4, frame, geo, radius, ref_df, all_stations_in_range):\n",
    "    \n",
    "    if y == 'primary':\n",
    "        coords_lon = loc_prim['lon']\n",
    "        coords_lat = loc_prim['lat']\n",
    "    elif y == 'secondary':\n",
    "        coords_lon = loc_sec['lon']\n",
    "        coords_lat = loc_sec['lat']\n",
    "    elif y == 'both':\n",
    "        coords_lon_prim = loc_prim['lon']\n",
    "        coords_lat_prim = loc_prim['lat']\n",
    "        coords_lon_sec = loc_sec['lon']\n",
    "        coords_lat_sec = loc_sec['lat']\n",
    "\n",
    "    if y == 'both':\n",
    "        name_plot = 'Coordinates ' + y + ' networks'\n",
    "        plt.scatter(x=coords_lon_prim, y=coords_lat_prim, s=20, color='red', label='primary network', marker='x', linewidth=1)\n",
    "        plt.scatter(x=coords_lon_sec, y=coords_lat_sec, s=2, color='blue', label='secondary network', alpha=0.5)\n",
    "        if type(station) == int:\n",
    "            plt.scatter(loc_prim['lon'].loc[station], loc_prim['lat'].loc[station], color='black')\n",
    "        plt.legend()\n",
    "    else:\n",
    "        name_plot = 'Coordinates ' + y + ' network: ams' + str(station)\n",
    "        plt.scatter(x=coords_lon, y=coords_lat, s=10)\n",
    "        if type(station) == int:\n",
    "            if y == 'primary':\n",
    "                plt.scatter(loc_prim['lon'].loc[station], loc_prim['lat'].loc[station], color='red')\n",
    "            elif y == 'secondary':\n",
    "                plt.scatter(loc_sec['lon'].loc[station], loc_sec['lat'].loc[station], color='red')\n",
    "\n",
    "            if all_stations_in_range:\n",
    "                for station_ref in ref_df.index:\n",
    "                    plt.scatter(loc_sec['lon'].loc[station_ref], loc_sec['lat'].loc[station_ref], color='lime', s=10)\n",
    "            else:\n",
    "                try:\n",
    "                    plt.scatter(loc_sec['lon'].loc[ref1], loc_sec['lat'].loc[ref1], color='lime', s=10)\n",
    "                    plt.scatter(loc_sec['lon'].loc[ref2], loc_sec['lat'].loc[ref2], color='lime', s=10)\n",
    "                    plt.scatter(loc_sec['lon'].loc[ref3], loc_sec['lat'].loc[ref3], color='lime', s=10)\n",
    "                    plt.scatter(loc_sec['lon'].loc[ref4], loc_sec['lat'].loc[ref4], color='lime', s=10)\n",
    "                except:\n",
    "                    pass\n",
    "\n",
    "    if geo == 'circle':\n",
    "        kreis = Circle((loc_sec['lon'].loc[station], loc_sec['lat'].loc[station]), radius=radius, color='black', linewidth=0.5, fill=False)\n",
    "        plt.gca().add_patch(kreis)\n",
    "    elif geo == 'rectangle':\n",
    "        quadrat = Rectangle((loc_sec['lon'].loc[station] - radius, loc_sec['lat'].loc[station] - radius), radius*2, radius*2, color='black', linewidth=0.5, fill=False)\n",
    "        plt.hlines(loc_sec['lat'].loc[station], loc_sec['lon'].loc[station] - radius, loc_sec['lon'].loc[station] + radius, linewidths=0.5, color='black')\n",
    "        plt.vlines(loc_sec['lon'].loc[station], loc_sec['lat'].loc[station] - radius, loc_sec['lat'].loc[station] + radius, linewidths=0.5, color='black')\n",
    "        plt.gca().add_patch(quadrat) \n",
    "\n",
    "    plt.axis('equal')\n",
    "\n",
    "    if type(frame) == int:\n",
    "        try:\n",
    "            plt.xlim(loc_sec['lon'].loc[station] - frame, loc_sec['lon'].loc[station] + frame)\n",
    "        except:\n",
    "            if ((loc_sec['lon'].loc[station] - frame) < loc_sec['lon'].min()):\n",
    "                plt.xlim(loc_sec['lon'].min(), loc_sec['lon'].loc[station] + frame)\n",
    "            if ((loc_sec['lon'].loc[station] + frame) > loc_sec['lon'].max()):\n",
    "                plt.xlim(loc_sec['lon'].loc[station] - frame, loc_sec['lon'].max())\n",
    "        try:\n",
    "            plt.ylim(loc_sec['lat'].loc[station] - frame, loc_sec['lat'].loc[station] + frame)\n",
    "        except:\n",
    "            if ((loc_sec['lat'].loc[station] - frame) < loc_sec['lat'].min()):\n",
    "                plt.ylim(loc_sec['lat'].min(), loc_sec['lat'].loc[station] + frame)\n",
    "            if ((loc_sec['lat'].loc[station] + frame) > loc_sec['lat'].max()):\n",
    "                plt.ylim(loc_sec['lat'].loc[station] - frame, loc_sec['lat'].max())\n",
    "    else:\n",
    "        pass\n",
    "    \n",
    "    plt.xlabel('longitude')\n",
    "    plt.ylabel('latitude')\n",
    "    plt.title(name_plot)\n",
    "\n",
    "    plt.show()\n",
    "    plt.close()\n",
    "    \n",
    "    return"
   ]
  },
  {
   "cell_type": "code",
   "execution_count": 24,
   "metadata": {},
   "outputs": [],
   "source": [
    "def find_all_stations_in_range(loc_prim, loc_sec, station, frame, geo, radius, all_stations_in_range, plot=True):\n",
    "    coordinates = loc_sec\n",
    "    # finde stationen, die innerhalb eines bestimmten Bereich um die Station liegen\n",
    "    # set frame for search\n",
    "\n",
    "    # set coordinates of the station\n",
    "    lon_station = coordinates['lon'].loc[station]\n",
    "    lat_station = coordinates['lat'].loc[station]\n",
    "\n",
    "    list_reference_stations_lon = []\n",
    "    list_reference_stations_lat = []\n",
    "    list_station = []\n",
    "    list_distance = []\n",
    "\n",
    "    # find the 4 nearest stations in frame\n",
    "    for i in coordinates.index:\n",
    "        lon = coordinates['lon'].loc[i]\n",
    "        lat = coordinates['lat'].loc[i]\n",
    "        if (np.sqrt((lon - lon_station)**2 + (lat - lat_station)**2) <= radius):\n",
    "            if lon == lon_station and lat == lat_station:\n",
    "                pass\n",
    "            else:\n",
    "                # print('lon:', lon, 'lat:', lat, '\\nstation nr.:', i)\n",
    "                # print('\\n')\n",
    "\n",
    "                distance = round(np.sqrt((lon - lon_station)**2 + (lat - lat_station)**2), 2)\n",
    "                \n",
    "                list_distance.append(distance)\n",
    "                list_station.append(i)\n",
    "                list_reference_stations_lon.append(round(lon, 2))\n",
    "                list_reference_stations_lat.append(round(lat, 2))\n",
    "        \n",
    "        array_reference_stations = np.array([list_reference_stations_lon, list_reference_stations_lat, list_distance]).T\n",
    "        df_reference_stations = pd.DataFrame(array_reference_stations, columns=['lon', 'lat', 'distance'], index=list_station)\n",
    "\n",
    "    if plot:\n",
    "        if all_stations_in_range:\n",
    "            coordinates_all_stations_in_range(loc_prim, loc_sec, 'secondary', station, '-', '-', '-', '-', frame, geo, radius, df_reference_stations, all_stations_in_range)\n",
    "        else:\n",
    "            if len(df_reference_stations) == 0:\n",
    "                pass\n",
    "            elif len(df_reference_stations) == 1:\n",
    "                coordinates_all_stations_in_range(loc_prim, loc_sec, 'secondary', station, df_reference_stations.index[0], '-', '-', '-', frame, geo, radius, df_reference_stations, all_stations_in_range)\n",
    "            elif len(df_reference_stations) == 2:\n",
    "                coordinates_all_stations_in_range(loc_prim, loc_sec, 'secondary', station, df_reference_stations.index[0], df_reference_stations.index[1], '-', '-', frame, geo, radius, df_reference_stations, all_stations_in_range)\n",
    "            elif len(df_reference_stations) == 3:\n",
    "                coordinates_all_stations_in_range(loc_prim, loc_sec, 'secondary', station, df_reference_stations.index[0], df_reference_stations.index[1], df_reference_stations.index[2], '-', frame, geo, radius, df_reference_stations, all_stations_in_range)\n",
    "            elif len(df_reference_stations) == 4:\n",
    "                coordinates_all_stations_in_range(loc_prim, loc_sec, 'secondary', station, df_reference_stations.index[0], df_reference_stations.index[1], df_reference_stations.index[2], df_reference_stations.index[3], frame, geo, radius, df_reference_stations, all_stations_in_range)\n",
    "\n",
    "    return df_reference_stations"
   ]
  },
  {
   "cell_type": "code",
   "execution_count": 25,
   "metadata": {},
   "outputs": [
    {
     "data": {
      "image/png": "[encoded data removed]",
      "text/plain": [
       "<Figure size 640x480 with 1 Axes>"
      ]
     },
     "metadata": {},
     "output_type": "display_data"
    },
    {
     "data": {
      "text/html": [
       "<div>\n",
       "<style scoped>\n",
       "    .dataframe tbody tr th:only-of-type {\n",
       "        vertical-align: middle;\n",
       "    }\n",
       "\n",
       "    .dataframe tbody tr th {\n",
       "        vertical-align: top;\n",
       "    }\n",
       "\n",
       "    .dataframe thead th {\n",
       "        text-align: right;\n",
       "    }\n",
       "</style>\n",
       "<table border=\"1\" class=\"dataframe\">\n",
       "  <thead>\n",
       "    <tr style=\"text-align: right;\">\n",
       "      <th></th>\n",
       "      <th>lon</th>\n",
       "      <th>lat</th>\n",
       "      <th>distance</th>\n",
       "    </tr>\n",
       "  </thead>\n",
       "  <tbody>\n",
       "    <tr>\n",
       "      <th>8</th>\n",
       "      <td>329495.01</td>\n",
       "      <td>5708035.97</td>\n",
       "      <td>731.35</td>\n",
       "    </tr>\n",
       "    <tr>\n",
       "      <th>9</th>\n",
       "      <td>329503.94</td>\n",
       "      <td>5708426.05</td>\n",
       "      <td>712.74</td>\n",
       "    </tr>\n",
       "  </tbody>\n",
       "</table>\n",
       "</div>"
      ],
      "text/plain": [
       "         lon         lat  distance\n",
       "8  329495.01  5708035.97    731.35\n",
       "9  329503.94  5708426.05    712.74"
      ]
     },
     "execution_count": 25,
     "metadata": {},
     "output_type": "execute_result"
    }
   ],
   "source": [
    "df_reference_stations = find_all_stations_in_range(coordinates_secondary_utm32, coordinates_secondary_utm32, 7, 5000, 'circle', radius=1000, all_stations_in_range=True)\n",
    "df_reference_stations"
   ]
  },
  {
   "cell_type": "code",
   "execution_count": 26,
   "metadata": {},
   "outputs": [],
   "source": [
    "# df_emscher"
   ]
  },
  {
   "cell_type": "code",
   "execution_count": 27,
   "metadata": {},
   "outputs": [],
   "source": [
    "def berechnung_gewichte_emscher(df_reference_stations):\n",
    "\n",
    "    list_gewichte = []\n",
    "\n",
    "    # berechnung Teiler\n",
    "    teiler = 0\n",
    "    for ref_station in df_reference_stations.index:\n",
    "        teiler += (1/(df_reference_stations['distance'].loc[ref_station])**2)\n",
    "\n",
    "    # berechnung Gewichte der Referenzstationen\n",
    "    for ref_station in df_reference_stations.index:\n",
    "        weight = (1/(df_reference_stations['distance'].loc[ref_station])**2)/teiler\n",
    "        list_gewichte.append(weight)\n",
    "\n",
    "    df_reference_stations['weight'] = list_gewichte\n",
    "\n",
    "    return df_reference_stations"
   ]
  },
  {
   "cell_type": "code",
   "execution_count": 28,
   "metadata": {},
   "outputs": [
    {
     "data": {
      "text/html": [
       "<div>\n",
       "<style scoped>\n",
       "    .dataframe tbody tr th:only-of-type {\n",
       "        vertical-align: middle;\n",
       "    }\n",
       "\n",
       "    .dataframe tbody tr th {\n",
       "        vertical-align: top;\n",
       "    }\n",
       "\n",
       "    .dataframe thead th {\n",
       "        text-align: right;\n",
       "    }\n",
       "</style>\n",
       "<table border=\"1\" class=\"dataframe\">\n",
       "  <thead>\n",
       "    <tr style=\"text-align: right;\">\n",
       "      <th></th>\n",
       "      <th>lon</th>\n",
       "      <th>lat</th>\n",
       "      <th>distance</th>\n",
       "      <th>weight</th>\n",
       "    </tr>\n",
       "  </thead>\n",
       "  <tbody>\n",
       "    <tr>\n",
       "      <th>8</th>\n",
       "      <td>329495.01</td>\n",
       "      <td>5708035.97</td>\n",
       "      <td>731.35</td>\n",
       "      <td>0.487115</td>\n",
       "    </tr>\n",
       "    <tr>\n",
       "      <th>9</th>\n",
       "      <td>329503.94</td>\n",
       "      <td>5708426.05</td>\n",
       "      <td>712.74</td>\n",
       "      <td>0.512885</td>\n",
       "    </tr>\n",
       "  </tbody>\n",
       "</table>\n",
       "</div>"
      ],
      "text/plain": [
       "         lon         lat  distance    weight\n",
       "8  329495.01  5708035.97    731.35  0.487115\n",
       "9  329503.94  5708426.05    712.74  0.512885"
      ]
     },
     "execution_count": 28,
     "metadata": {},
     "output_type": "execute_result"
    }
   ],
   "source": [
    "berechnung_gewichte_emscher(df_reference_stations)"
   ]
  },
  {
   "cell_type": "code",
   "execution_count": 58,
   "metadata": {},
   "outputs": [],
   "source": [
    "def list_nan_sequences_schnell(data, station, timedelta):\n",
    "    \n",
    "    '''starts, ends, len_seq'''\n",
    "    \n",
    "    if timedelta == '1min':\n",
    "        timedelta = datetime.timedelta(minutes=1)\n",
    "    if timedelta == '5min':\n",
    "        timedelta = datetime.timedelta(minutes=5)\n",
    "    if timedelta == '1h':\n",
    "        timedelta = datetime.timedelta(hours=1)\n",
    "\n",
    "    is_nan = data[station].isna() # gibt true zurück, wenn Wert NaN ist\n",
    "    diff = is_nan.diff() # gibt true zurück, wenn Wert zu Nan oder Nan zu Wert springt\n",
    "\n",
    "    # print(is_nan)\n",
    "    # print(diff)\n",
    "\n",
    "    if is_nan[0] == True:\n",
    "        diff[0] = True\n",
    "\n",
    "    starts = diff[diff == True].index[::2]\n",
    "    ends = diff[diff == True].index[1::2] - timedelta\n",
    "\n",
    "    if is_nan[-1] == True:\n",
    "        ends = ends.append(data.index[-1:])\n",
    "    elif len(starts) > len(ends):\n",
    "        starts = starts.delete(-1)\n",
    "\n",
    "    len_seq = ((ends + timedelta) - starts)/timedelta\n",
    "    len_seq = len_seq.astype(int)\n",
    "    \n",
    "    # print('starts:', starts)\n",
    "    # print('ends:', ends)\n",
    "    \n",
    "    return starts, ends, len_seq"
   ]
  },
  {
   "cell_type": "code",
   "execution_count": 59,
   "metadata": {},
   "outputs": [],
   "source": [
    "def get_data_nan_seq_before_peak_new(data, station,quantile):\n",
    "\n",
    "    # get info about nan sequences and peaks\n",
    "    starts, ends, len_seq = list_nan_sequences_schnell(data, station, '5min') # gives start, end and length of nan sequences\n",
    "    peaks = data[station][data[station] > data[station].quantile(quantile)] # gives values + index of peak\n",
    "\n",
    "    # check wich sequence has peak\n",
    "    ends_plus_timedelta = ends + datetime.timedelta(minutes=5) # add timedelta to ends, because the peak is in the next time step\n",
    "    peaks_with_nan_seq = ends_plus_timedelta.intersection(peaks.index)\n",
    "\n",
    "    # create mask to filter for starts of nan sequences with peaks\n",
    "    mask = ends_plus_timedelta.isin(peaks_with_nan_seq) # are the values of ends_plus_timedelta in ends_nan_seq_mit_peak, to get the place of starts of nan sequences with peaks\n",
    "    starts_nan_seq_mit_peak = starts[mask]\n",
    "\n",
    "    return starts_nan_seq_mit_peak, peaks_with_nan_seq  "
   ]
  },
  {
   "cell_type": "code",
   "execution_count": 83,
   "metadata": {},
   "outputs": [],
   "source": [
    "def berechnung_referenzniederschlag_emscher(df_reference_stations, df_emscher, df_emscher_nonan, station_zahl):\n",
    "    \n",
    "    # df zum speichern der Referenzniederschläge erstellen\n",
    "    df_reference_values = df_emscher[[station_zahl]].copy()\n",
    "\n",
    "    # abrufen der Informationen über NaN-Sequenz und Peaks\n",
    "    # list_counts_start, list_counts_end, list_counts, list_index_peak = fct.get_data_nan_seq_before_peak(df_emscher, 'sc', station_zahl, 0.99)\n",
    "    list_counts_start, list_index_peak = get_data_nan_seq_before_peak_new(df_emscher, station_zahl, 0.99)\n",
    "\n",
    "    # berechnung Referenzniederschlag\n",
    "    # für jede NaN-Sequenz und Peak\n",
    "    for c, p in zip(range(0, len(list_counts_start)), range(0, len(list_index_peak))):\n",
    "        # für jeden Index in der NaN-Sequenz\n",
    "        for index in df_emscher_nonan.loc[list_counts_start[c] : list_index_peak[p]].index:\n",
    "            h_ref = 0\n",
    "            # für jede Referenzstation\n",
    "            for ref_station in df_reference_stations.index:\n",
    "                h_ref += df_emscher_nonan[ref_station].loc[index] * df_reference_stations['weight'].loc[ref_station]\n",
    "\n",
    "            # speichern des Referenzniederschlags für den Index\n",
    "            df_reference_values.loc[index] = h_ref\n",
    "\n",
    "        # alle Werte außerhalb der NaN-Sequenz und Peaks auf NaN setzen\n",
    "        if c == 0 and p == 0:\n",
    "            df_reference_values.loc[(df_reference_values.index[0]) : (list_counts_start[c] - datetime.timedelta(minutes=5))] = np.nan\n",
    "        if (c > 0 and p > 0) and ((c < len(list_counts_start) - 1) and (p < len(list_index_peak) - 1)):\n",
    "            df_reference_values.loc[(list_index_peak[p - 1] + datetime.timedelta(minutes=5)) : (list_counts_start[c] - datetime.timedelta(minutes=5))] = np.nan\n",
    "        if (c == len(list_counts_start) - 1) and (p == len(list_index_peak) - 1):\n",
    "            df_reference_values.loc[(list_index_peak[p] + datetime.timedelta(minutes=5)) : (df_reference_values.index[-1])] = np.nan\n",
    "    \n",
    "    return df_reference_values"
   ]
  },
  {
   "cell_type": "code",
   "execution_count": 84,
   "metadata": {},
   "outputs": [],
   "source": [
    "df_reference_values = berechnung_referenzniederschlag_emscher(df_reference_stations, df_emscher, df_emscher_nonan, 7)"
   ]
  },
  {
   "cell_type": "code",
   "execution_count": 31,
   "metadata": {},
   "outputs": [
    {
     "data": {
      "text/html": [
       "<div>\n",
       "<style scoped>\n",
       "    .dataframe tbody tr th:only-of-type {\n",
       "        vertical-align: middle;\n",
       "    }\n",
       "\n",
       "    .dataframe tbody tr th {\n",
       "        vertical-align: top;\n",
       "    }\n",
       "\n",
       "    .dataframe thead th {\n",
       "        text-align: right;\n",
       "    }\n",
       "</style>\n",
       "<table border=\"1\" class=\"dataframe\">\n",
       "  <thead>\n",
       "    <tr style=\"text-align: right;\">\n",
       "      <th></th>\n",
       "      <th>7</th>\n",
       "    </tr>\n",
       "  </thead>\n",
       "  <tbody>\n",
       "    <tr>\n",
       "      <th>2014-04-26 16:30:00</th>\n",
       "      <td>NaN</td>\n",
       "    </tr>\n",
       "    <tr>\n",
       "      <th>2014-04-26 16:35:00</th>\n",
       "      <td>NaN</td>\n",
       "    </tr>\n",
       "    <tr>\n",
       "      <th>2014-04-26 16:40:00</th>\n",
       "      <td>NaN</td>\n",
       "    </tr>\n",
       "    <tr>\n",
       "      <th>2014-04-26 16:45:00</th>\n",
       "      <td>NaN</td>\n",
       "    </tr>\n",
       "    <tr>\n",
       "      <th>2014-04-26 16:50:00</th>\n",
       "      <td>NaN</td>\n",
       "    </tr>\n",
       "    <tr>\n",
       "      <th>...</th>\n",
       "      <td>...</td>\n",
       "    </tr>\n",
       "    <tr>\n",
       "      <th>2024-01-10 23:35:00</th>\n",
       "      <td>NaN</td>\n",
       "    </tr>\n",
       "    <tr>\n",
       "      <th>2024-01-10 23:40:00</th>\n",
       "      <td>NaN</td>\n",
       "    </tr>\n",
       "    <tr>\n",
       "      <th>2024-01-10 23:45:00</th>\n",
       "      <td>NaN</td>\n",
       "    </tr>\n",
       "    <tr>\n",
       "      <th>2024-01-10 23:50:00</th>\n",
       "      <td>NaN</td>\n",
       "    </tr>\n",
       "    <tr>\n",
       "      <th>2024-01-10 23:55:00</th>\n",
       "      <td>NaN</td>\n",
       "    </tr>\n",
       "  </tbody>\n",
       "</table>\n",
       "<p>1021338 rows × 1 columns</p>\n",
       "</div>"
      ],
      "text/plain": [
       "                      7\n",
       "2014-04-26 16:30:00 NaN\n",
       "2014-04-26 16:35:00 NaN\n",
       "2014-04-26 16:40:00 NaN\n",
       "2014-04-26 16:45:00 NaN\n",
       "2014-04-26 16:50:00 NaN\n",
       "...                  ..\n",
       "2024-01-10 23:35:00 NaN\n",
       "2024-01-10 23:40:00 NaN\n",
       "2024-01-10 23:45:00 NaN\n",
       "2024-01-10 23:50:00 NaN\n",
       "2024-01-10 23:55:00 NaN\n",
       "\n",
       "[1021338 rows x 1 columns]"
      ]
     },
     "execution_count": 31,
     "metadata": {},
     "output_type": "execute_result"
    }
   ],
   "source": [
    "df_reference_values"
   ]
  },
  {
   "cell_type": "code",
   "execution_count": 32,
   "metadata": {},
   "outputs": [
    {
     "data": {
      "text/plain": [
       "[<matplotlib.lines.Line2D at 0x1bc5ddd72b0>]"
      ]
     },
     "execution_count": 32,
     "metadata": {},
     "output_type": "execute_result"
    },
    {
     "data": {
      "image/png": "[encoded data removed]",
      "text/plain": [
       "<Figure size 640x480 with 1 Axes>"
      ]
     },
     "metadata": {},
     "output_type": "display_data"
    }
   ],
   "source": [
    "plt.plot(df_reference_values)"
   ]
  },
  {
   "cell_type": "code",
   "execution_count": 33,
   "metadata": {},
   "outputs": [
    {
     "data": {
      "text/plain": [
       "[<matplotlib.lines.Line2D at 0x1bc587dc040>]"
      ]
     },
     "execution_count": 33,
     "metadata": {},
     "output_type": "execute_result"
    },
    {
     "data": {
      "image/png": "[encoded data removed]",
      "text/plain": [
       "<Figure size 640x480 with 1 Axes>"
      ]
     },
     "metadata": {},
     "output_type": "display_data"
    }
   ],
   "source": [
    "plt.plot(df_emscher[7])"
   ]
  },
  {
   "cell_type": "code",
   "execution_count": 60,
   "metadata": {},
   "outputs": [],
   "source": [
    "def correct_data_new_emscher(data, reference, station_zahl, quantile, correct_peak=True, correct_1_2=True, correct_0_pres_ref=True):\n",
    "\n",
    "    # nans vor peaks korrigieren\n",
    "    if correct_peak:\n",
    "\n",
    "        # output_list_counts_start, output_list_counts_end, output_list_counts, output_list_index_peak = fct.get_data_nan_seq_before_peak(data, 'sc', station_zahl, quantile)\n",
    "        output_list_counts_start, output_list_index_peak = get_data_nan_seq_before_peak_new(data, station_zahl, quantile)\n",
    "    \n",
    "        data_corrected = data[[station_zahl]].copy() # copy the data to a new dataframe\n",
    "\n",
    "        frequency = '5min'\n",
    "\n",
    "        for i in range(len(output_list_index_peak)):\n",
    "\n",
    "            datetime_index = pd.date_range(start=output_list_counts_start[i], end=output_list_index_peak[i], freq=frequency) # create a datetime index for the time period of the nan sequence before the peak\n",
    "            sum = reference[station_zahl].loc[output_list_counts_start[i] : output_list_index_peak[i]].sum() # sum of the reference values for the time period of the nan sequence before the peak\n",
    "            value_peak = data[station_zahl].loc[output_list_index_peak[i]] # value of the peak\n",
    "\n",
    "            for index in datetime_index:\n",
    "                try:\n",
    "                    peak_portion = round(((reference[station_zahl].loc[index] / sum) * value_peak), 2)\n",
    "                except ZeroDivisionError:\n",
    "                    peak_portion = 0\n",
    "                    \n",
    "                data_corrected[station_zahl].loc[index] = peak_portion # replace the nan values with the calculated peak portion\n",
    "            \n",
    "    # 1er und 2er nan sequenzen korrigieren\n",
    "    if correct_1_2:\n",
    "\n",
    "        data_corrected = fct.einer_zweier_sequ_korrigieren(data_corrected, station_zahl, True, True)\n",
    "\n",
    "    # nan sequenzen korrigieren, die mit 0 anfnagen und enden und bei denen die summe des niederschlag im referenz df 0 ist\n",
    "    if correct_0_pres_ref:\n",
    "\n",
    "        starts, ends, nan_sequs = fct.list_nan_sequences_schnell(data_corrected, station_zahl, frequency)\n",
    "\n",
    "        list = []\n",
    "\n",
    "        # erste und letzte nan sequenz extra kontrollieren\n",
    "        sum = reference[station_zahl].loc[starts[0] : ends[0]].values.sum()\n",
    "        if sum == 0:\n",
    "            list.append(0)\n",
    "        sum = reference[station_zahl].loc[starts[-1] : ends[-1]].values.sum()\n",
    "        if sum == 0:\n",
    "            list.append(-1)\n",
    "\n",
    "        for i in range(len(starts)):\n",
    "            try:\n",
    "                if ((data_corrected.loc[starts[i] - datetime.timedelta(minutes=5)]) == 0).bool() and ((data_corrected.loc[ends[i] + datetime.timedelta(minutes=5)]) == 0).bool():\n",
    "                    sum = reference[station_zahl].loc[starts[i] : ends[i]].values.sum()\n",
    "                    if sum == 0:\n",
    "                        list.append(i)\n",
    "            except KeyError:\n",
    "                continue\n",
    "            \n",
    "        for i in list:\n",
    "            data_corrected.loc[starts[i] : ends[i]] = 0\n",
    "\n",
    "    return data_corrected"
   ]
  },
  {
   "cell_type": "code",
   "execution_count": 61,
   "metadata": {},
   "outputs": [],
   "source": [
    "data_corrected = correct_data_new_emscher(df_emscher, df_reference_values, 7, 0.99)"
   ]
  },
  {
   "cell_type": "code",
   "execution_count": 62,
   "metadata": {},
   "outputs": [
    {
     "data": {
      "text/plain": [
       "[<matplotlib.lines.Line2D at 0x1bc5de50160>]"
      ]
     },
     "execution_count": 62,
     "metadata": {},
     "output_type": "execute_result"
    },
    {
     "data": {
      "image/png": "[encoded data removed]",
      "text/plain": [
       "<Figure size 640x480 with 1 Axes>"
      ]
     },
     "metadata": {},
     "output_type": "display_data"
    }
   ],
   "source": [
    "plt.plot(data_corrected)"
   ]
  },
  {
   "cell_type": "code",
   "execution_count": 37,
   "metadata": {},
   "outputs": [],
   "source": [
    "# list_nans_gesamt = []\n",
    "# list_nan_sequences = []\n",
    "# list_nan_sequences_1_2 = []\n",
    "# list_nan_sequences_1_2_corr = []\n",
    "# list_peaks_u = []\n",
    "# list_peaks = []\n",
    "# list_nans_gesamt_corr = []\n",
    "# list_nan_sequences_corr = []\n",
    "# list_verhaeltnis_nans = []\n",
    "# list_verhaeltnis_nan_sequences = []\n",
    "\n",
    "# for station in data_corrected.columns:\n",
    "#     sum_nan_u = df_emscher[station].isna().sum()\n",
    "#     list_u = fct.list_nan_sequences_schnell(df_emscher, station, '5min')[2]\n",
    "#     x_u, y_u = np.unique(list_u, return_counts=True)\n",
    "#     peaks_u = fct.get_data_nan_seq_before_peak(df_emscher, 'sc', station, 0.99)[3]\n",
    "\n",
    "#     # print(station, 'unkorrigiert')\n",
    "#     # print('   nans gesamt: ', sum_nan_u)\n",
    "#     # print('   nan sequenzen: ', y_u.sum())\n",
    "#     # print('   davon 1er und 2er nan sequenzen: ', y_u[0:2].sum())\n",
    "#     # print('   peaks: ', len(peaks_u))\n",
    "\n",
    "#     list_nans_gesamt.append(sum_nan_u)\n",
    "#     list_nan_sequences.append(y_u.sum())\n",
    "#     list_nan_sequences_1_2.append(y_u[0:2].sum())\n",
    "#     list_peaks_u.append(len(peaks_u))\n",
    "\n",
    "#     sum_nan = data_corrected[station].isna().sum()\n",
    "#     list = fct.list_nan_sequences_schnell(data_corrected, station, '5min')[2]\n",
    "#     x, y = np.unique(list, return_counts=True)\n",
    "#     peaks = fct.get_data_nan_seq_before_peak(data_corrected, 'sc', station, 0.99)[3]\n",
    "\n",
    "#     # print(station, 'korrigiert')\n",
    "#     # print('   nans gesamt: ', sum_nan)\n",
    "#     # print('   nan sequenzen: ', y.sum())\n",
    "#     # print('Verhältnis korrigiert zu unkorrigiert: ', round(((sum_nan_u - sum_nan)/sum_nan_u)*100, 2), '% werden korrigiert')\n",
    "\n",
    "#     list_nans_gesamt_corr.append(sum_nan)\n",
    "#     list_nan_sequences_corr.append(y.sum())\n",
    "#     list_verhaeltnis_nans.append(round(((sum_nan_u - sum_nan)/sum_nan_u)*100))\n",
    "#     list_verhaeltnis_nan_sequences.append(round(((y_u.sum() - y.sum())/y_u.sum())*100))\n",
    "#     list_peaks.append(len(peaks))\n",
    "#     list_nan_sequences_1_2_corr.append(y[0:2].sum())"
   ]
  },
  {
   "cell_type": "code",
   "execution_count": 38,
   "metadata": {},
   "outputs": [],
   "source": [
    "# df_emscher_statistik = pd.DataFrame(index=['NaNs gesamt', 'NaN-Sequenzen', '1er und 2er NaN-Sequenzen', 'Peaks', '--------------------------------------------------', 'NaNs nach Korrektur', 'NaN-Sequenzen nach Korrektur', '1er und 2er NaN-Sequenzen nach Korrektur', 'Peaks nach Korrektur', '--------------------------------------------------', '% NaNs korrigiert', '% NaN-Sequenzen korrigiert'], data=[list_nans_gesamt, list_nan_sequences, list_nan_sequences_1_2, list_peaks_u, [], list_nans_gesamt_corr, list_nan_sequences_corr, list_nan_sequences_1_2_corr, list_peaks, [], list_verhaeltnis_nans, list_verhaeltnis_nan_sequences], columns=data_corrected.columns)\n",
    "# df_emscher_statistik = df_emscher_statistik.fillna('')"
   ]
  },
  {
   "cell_type": "code",
   "execution_count": 39,
   "metadata": {},
   "outputs": [],
   "source": [
    "# df_emscher_statistik"
   ]
  },
  {
   "cell_type": "code",
   "execution_count": 40,
   "metadata": {},
   "outputs": [],
   "source": [
    "# fct.calculate_correlation_with_without_resample(df_emscher, data_corrected, 7, 7, 0.99, True, True)"
   ]
  },
  {
   "cell_type": "code",
   "execution_count": 41,
   "metadata": {},
   "outputs": [],
   "source": [
    "# fct.calculate_correlation_with_without_resample(df_emscher, df_emscher, 8, 7, 0.99, True, True)"
   ]
  },
  {
   "cell_type": "code",
   "execution_count": 42,
   "metadata": {},
   "outputs": [],
   "source": [
    "# fct.calculate_correlation_with_without_resample(df_emscher, df_emscher, 9, 7, 0.99, True, True)"
   ]
  },
  {
   "cell_type": "code",
   "execution_count": 43,
   "metadata": {},
   "outputs": [],
   "source": [
    "# fct.calculate_correlation_with_without_resample(df_emscher, data_corrected, 8, 7, 0.99, True, True)"
   ]
  },
  {
   "cell_type": "code",
   "execution_count": 44,
   "metadata": {},
   "outputs": [],
   "source": [
    "# fct.calculate_correlation_with_without_resample(df_emscher, data_corrected, 9, 7, 0.99, True, True)"
   ]
  },
  {
   "cell_type": "code",
   "execution_count": 45,
   "metadata": {},
   "outputs": [],
   "source": [
    "def get_data_nan_seq_before_peak(data, y, station, quantile):\n",
    "\n",
    "    '''\n",
    "    outside of function, write:\n",
    "    output_list_counts_start, output_list_counts_end, output_list_counts, output_list_index_peak = get_data_nan_seq_before_peak(...)\n",
    "    '''\n",
    "\n",
    "    if y == 'pr':\n",
    "        timegap = datetime.timedelta(hours=1)\n",
    "    elif y == 'sc':\n",
    "        timegap = datetime.timedelta(minutes=5)\n",
    "\n",
    "    dataframe = data[station]\n",
    "\n",
    "    peaks = dataframe[dataframe > dataframe.quantile(quantile)]\n",
    "    list_index_peak = []\n",
    "    list_counts = []\n",
    "    list_counts_start = []\n",
    "    list_counts_end = []\n",
    "\n",
    "    for index_peak in peaks.index:\n",
    "        count = 0\n",
    "        for i in reversed(dataframe.loc[: index_peak - timegap].isna()):\n",
    "            if i == True:\n",
    "                count += 1\n",
    "            else:\n",
    "                if count > 0:\n",
    "                    count_start = index_peak - (timegap * count)\n",
    "                    list_counts_start.append(count_start)\n",
    "                    list_counts_end.append(index_peak - timegap)\n",
    "                    list_counts.append(count)\n",
    "                    list_index_peak.append(index_peak)\n",
    "                    break\n",
    "                else:\n",
    "                    break      \n",
    "    return list_counts_start, list_counts_end, list_counts, list_index_peak"
   ]
  },
  {
   "cell_type": "code",
   "execution_count": 46,
   "metadata": {},
   "outputs": [],
   "source": [
    "def list_nan_sequences_schnell(data, station, timedelta):\n",
    "    \n",
    "    '''starts, ends, len_seq'''\n",
    "    \n",
    "    if timedelta == '1min':\n",
    "        timedelta = datetime.timedelta(minutes=1)\n",
    "    if timedelta == '5min':\n",
    "        timedelta = datetime.timedelta(minutes=5)\n",
    "    if timedelta == '1h':\n",
    "        timedelta = datetime.timedelta(hours=1)\n",
    "\n",
    "    is_nan = data[station].isna() # gibt true zurück, wenn Wert NaN ist\n",
    "    diff = is_nan.diff() # gibt true zurück, wenn Wert zu Nan oder Nan zu Wert springt\n",
    "\n",
    "    # print(is_nan)\n",
    "    # print(diff)\n",
    "\n",
    "    if is_nan[0] == True:\n",
    "        diff[0] = True\n",
    "\n",
    "    starts = diff[diff == True].index[::2]\n",
    "    ends = diff[diff == True].index[1::2] - timedelta\n",
    "\n",
    "    if is_nan[-1] == True:\n",
    "        ends = ends.append(data.index[-1:])\n",
    "    elif len(starts) > len(ends):\n",
    "        starts = starts.delete(-1)\n",
    "\n",
    "    len_seq = ((ends + timedelta) - starts)/timedelta\n",
    "    len_seq = len_seq.astype(int)\n",
    "    \n",
    "    # print('starts:', starts)\n",
    "    # print('ends:', ends)\n",
    "    \n",
    "    return starts, ends, len_seq"
   ]
  },
  {
   "cell_type": "code",
   "execution_count": 47,
   "metadata": {},
   "outputs": [],
   "source": [
    "starts, ends, len_seq = list_nan_sequences_schnell(df_emscher, 7, '5min')\n",
    "peaks = df_emscher[7][df_emscher[7] > df_emscher[7].quantile(0.99)]"
   ]
  },
  {
   "cell_type": "code",
   "execution_count": 48,
   "metadata": {},
   "outputs": [
    {
     "data": {
      "text/plain": [
       "2017-12-25 00:00:00    0.0\n",
       "2017-12-25 00:05:00    NaN\n",
       "2017-12-25 00:10:00    NaN\n",
       "2017-12-25 00:15:00    0.0\n",
       "Name: 7, dtype: float64"
      ]
     },
     "execution_count": 48,
     "metadata": {},
     "output_type": "execute_result"
    }
   ],
   "source": [
    "df_emscher[7].loc['2017-12-25 00:00:00':'2017-12-25 00:15:00']"
   ]
  },
  {
   "cell_type": "code",
   "execution_count": 49,
   "metadata": {},
   "outputs": [],
   "source": [
    "ends_p1 = ends + datetime.timedelta(minutes=5)"
   ]
  },
  {
   "cell_type": "code",
   "execution_count": 50,
   "metadata": {},
   "outputs": [
    {
     "data": {
      "text/plain": [
       "2017-12-29 13:55:00    0.30\n",
       "2017-12-29 14:00:00    0.30\n",
       "2017-12-30 08:10:00    0.30\n",
       "2017-12-30 09:25:00    0.30\n",
       "2017-12-31 01:45:00    0.30\n",
       "                       ... \n",
       "2022-05-27 03:05:00    0.30\n",
       "2022-05-27 03:10:00    0.81\n",
       "2022-05-29 08:35:00    0.30\n",
       "2022-05-31 07:25:00    0.30\n",
       "2022-05-31 19:05:00    0.50\n",
       "Name: 7, Length: 3433, dtype: float64"
      ]
     },
     "execution_count": 50,
     "metadata": {},
     "output_type": "execute_result"
    }
   ],
   "source": [
    "peaks"
   ]
  },
  {
   "cell_type": "code",
   "execution_count": 51,
   "metadata": {},
   "outputs": [],
   "source": [
    "nan_seq_mit_peak = ends_p1.intersection(peaks.index)"
   ]
  },
  {
   "cell_type": "code",
   "execution_count": 52,
   "metadata": {},
   "outputs": [
    {
     "data": {
      "text/plain": [
       "DatetimeIndex(['2017-12-31 11:50:00', '2017-12-31 13:20:00',\n",
       "               '2018-01-17 01:15:00', '2018-03-13 06:50:00',\n",
       "               '2018-03-22 06:20:00', '2018-03-27 17:55:00',\n",
       "               '2018-03-28 12:25:00', '2018-03-28 12:55:00',\n",
       "               '2018-03-28 13:40:00', '2018-03-28 15:20:00',\n",
       "               ...\n",
       "               '2022-02-10 11:45:00', '2022-02-11 04:05:00',\n",
       "               '2022-02-17 07:15:00', '2022-02-19 21:20:00',\n",
       "               '2022-02-20 22:35:00', '2022-02-20 22:45:00',\n",
       "               '2022-02-25 13:10:00', '2022-03-31 19:00:00',\n",
       "               '2022-04-04 11:15:00', '2022-04-05 11:45:00'],\n",
       "              dtype='datetime64[ns]', length=191, freq=None)"
      ]
     },
     "execution_count": 52,
     "metadata": {},
     "output_type": "execute_result"
    }
   ],
   "source": [
    "nan_seq_mit_peak"
   ]
  },
  {
   "cell_type": "code",
   "execution_count": 53,
   "metadata": {},
   "outputs": [],
   "source": [
    "mask = ends_p1.isin(nan_seq_mit_peak) # sind die werte von ends_p1 in nan_seq_mit_peak enthalten?"
   ]
  },
  {
   "cell_type": "code",
   "execution_count": 54,
   "metadata": {},
   "outputs": [
    {
     "data": {
      "text/plain": [
       "DatetimeIndex(['2017-12-31 08:55:00', '2017-12-31 12:05:00',\n",
       "               '2018-01-17 01:10:00', '2018-03-13 06:40:00',\n",
       "               '2018-03-22 06:15:00', '2018-03-27 14:20:00',\n",
       "               '2018-03-28 11:35:00', '2018-03-28 12:30:00',\n",
       "               '2018-03-28 13:35:00', '2018-03-28 14:45:00',\n",
       "               ...\n",
       "               '2022-02-10 10:00:00', '2022-02-11 03:50:00',\n",
       "               '2022-02-17 07:00:00', '2022-02-19 21:15:00',\n",
       "               '2022-02-20 22:25:00', '2022-02-20 22:40:00',\n",
       "               '2022-02-25 12:50:00', '2022-03-31 18:50:00',\n",
       "               '2022-04-04 11:00:00', '2022-04-05 11:30:00'],\n",
       "              dtype='datetime64[ns]', length=191, freq=None)"
      ]
     },
     "execution_count": 54,
     "metadata": {},
     "output_type": "execute_result"
    }
   ],
   "source": [
    "starts[mask]"
   ]
  },
  {
   "cell_type": "code",
   "execution_count": 55,
   "metadata": {},
   "outputs": [
    {
     "data": {
      "text/plain": [
       "2017-12-31 08:50:00    1.72\n",
       "2017-12-31 08:55:00     NaN\n",
       "2017-12-31 09:00:00     NaN\n",
       "2017-12-31 09:05:00     NaN\n",
       "2017-12-31 09:10:00     NaN\n",
       "2017-12-31 09:15:00     NaN\n",
       "2017-12-31 09:20:00     NaN\n",
       "2017-12-31 09:25:00     NaN\n",
       "2017-12-31 09:30:00     NaN\n",
       "2017-12-31 09:35:00     NaN\n",
       "2017-12-31 09:40:00     NaN\n",
       "2017-12-31 09:45:00     NaN\n",
       "2017-12-31 09:50:00     NaN\n",
       "2017-12-31 09:55:00     NaN\n",
       "2017-12-31 10:00:00     NaN\n",
       "2017-12-31 10:05:00     NaN\n",
       "2017-12-31 10:10:00     NaN\n",
       "2017-12-31 10:15:00     NaN\n",
       "2017-12-31 10:20:00     NaN\n",
       "2017-12-31 10:25:00     NaN\n",
       "2017-12-31 10:30:00     NaN\n",
       "2017-12-31 10:35:00     NaN\n",
       "2017-12-31 10:40:00     NaN\n",
       "2017-12-31 10:45:00     NaN\n",
       "2017-12-31 10:50:00     NaN\n",
       "2017-12-31 10:55:00     NaN\n",
       "2017-12-31 11:00:00     NaN\n",
       "2017-12-31 11:05:00     NaN\n",
       "2017-12-31 11:10:00     NaN\n",
       "2017-12-31 11:15:00     NaN\n",
       "2017-12-31 11:20:00     NaN\n",
       "2017-12-31 11:25:00     NaN\n",
       "2017-12-31 11:30:00     NaN\n",
       "2017-12-31 11:35:00     NaN\n",
       "2017-12-31 11:40:00     NaN\n",
       "2017-12-31 11:45:00     NaN\n",
       "2017-12-31 11:50:00    0.50\n",
       "Name: 7, dtype: float64"
      ]
     },
     "execution_count": 55,
     "metadata": {},
     "output_type": "execute_result"
    }
   ],
   "source": [
    "df_emscher[7].loc[starts[mask][0] - datetime.timedelta(minutes=5):nan_seq_mit_peak[0]]"
   ]
  },
  {
   "cell_type": "code",
   "execution_count": 56,
   "metadata": {},
   "outputs": [],
   "source": [
    "def get_data_nan_seq_before_peak_new(data, station,quantile):\n",
    "\n",
    "    # get info about nan sequences and peaks\n",
    "    starts, ends, len_seq = list_nan_sequences_schnell(data, station, '5min') # gives start, end and length of nan sequences\n",
    "    peaks = data[station][data[station] > data[station].quantile(quantile)] # gives values + index of peak\n",
    "\n",
    "    # check wich sequence has peak\n",
    "    ends_plus_timedelta = ends + datetime.timedelta(minutes=5) # add timedelta to ends, because the peak is in the next time step\n",
    "    peaks_with_nan_seq = ends_plus_timedelta.intersection(peaks.index)\n",
    "\n",
    "    # create mask to filter for starts of nan sequences with peaks\n",
    "    mask = ends_plus_timedelta.isin(peaks_with_nan_seq) # are the values of ends_plus_timedelta in ends_nan_seq_mit_peak, to get the place of starts of nan sequences with peaks\n",
    "    starts_nan_seq_mit_peak = starts[mask]\n",
    "\n",
    "    return starts_nan_seq_mit_peak, peaks_with_nan_seq  "
   ]
  },
  {
   "cell_type": "code",
   "execution_count": 66,
   "metadata": {},
   "outputs": [],
   "source": [
    "old = fct.get_data_nan_seq_before_peak(df_emscher, 'sc', 7, 0.99)[3]"
   ]
  },
  {
   "cell_type": "code",
   "execution_count": 73,
   "metadata": {},
   "outputs": [
    {
     "data": {
      "text/plain": [
       "pandas.core.indexes.datetimes.DatetimeIndex"
      ]
     },
     "execution_count": 73,
     "metadata": {},
     "output_type": "execute_result"
    }
   ],
   "source": [
    "type(new)"
   ]
  },
  {
   "cell_type": "code",
   "execution_count": 67,
   "metadata": {},
   "outputs": [],
   "source": [
    "new = get_data_nan_seq_before_peak_new(df_emscher, 7, 0.99)[1]"
   ]
  },
  {
   "cell_type": "code",
   "execution_count": 82,
   "metadata": {},
   "outputs": [
    {
     "data": {
      "text/plain": [
       "False"
      ]
     },
     "execution_count": 82,
     "metadata": {},
     "output_type": "execute_result"
    }
   ],
   "source": [
    "~new.isin(old).any()"
   ]
  },
  {
   "cell_type": "code",
   "execution_count": null,
   "metadata": {},
   "outputs": [],
   "source": []
  }
 ],
 "metadata": {
  "kernelspec": {
   "display_name": "Python 3",
   "language": "python",
   "name": "python3"
  },
  "language_info": {
   "codemirror_mode": {
    "name": "ipython",
    "version": 3
   },
   "file_extension": ".py",
   "mimetype": "text/x-python",
   "name": "python",
   "nbconvert_exporter": "python",
   "pygments_lexer": "ipython3",
   "version": "3.10.8"
  }
 },
 "nbformat": 4,
 "nbformat_minor": 2
}
