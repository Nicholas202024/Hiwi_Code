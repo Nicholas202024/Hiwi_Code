{
 "cells": [
  {
   "cell_type": "code",
   "execution_count": 2,
   "metadata": {},
   "outputs": [],
   "source": [
    "# import packages\n",
    "import pandas as pd\n",
    "import matplotlib.pyplot as plt\n",
    "import os\n",
    "import numpy as np\n",
    "import datetime\n",
    "import functions as fct"
   ]
  },
  {
   "cell_type": "code",
   "execution_count": 3,
   "metadata": {},
   "outputs": [],
   "source": [
    "main_dir = r'C:\\Users\\illic\\Downloads'"
   ]
  },
  {
   "cell_type": "code",
   "execution_count": 6,
   "metadata": {},
   "outputs": [],
   "source": [
    "# set paths to specific data\n",
    "WS100_path = os.path.join(main_dir, r'WS100.csv')\n",
    "WS300_path = os.path.join(main_dir, r'WS300.csv')\n",
    "Raine_path = os.path.join(main_dir, r'Raine.csv')\n",
    "L_pcp_path = os.path.join(main_dir, r'Lauchaecker_pcp.csv')"
   ]
  },
  {
   "cell_type": "code",
   "execution_count": 9,
   "metadata": {},
   "outputs": [
    {
     "name": "stderr",
     "output_type": "stream",
     "text": [
      "C:\\Users\\illic\\AppData\\Local\\Temp\\ipykernel_15848\\1856798586.py:7: DtypeWarning: Columns (5,6,12,13,19,20) have mixed types. Specify dtype option on import or set low_memory=False.\n",
      "  WS300_raw = pd.read_csv(WS300_path, sep=';', index_col=0) # , skiprows=1\n"
     ]
    }
   ],
   "source": [
    "# read data\n",
    "\n",
    "# read data and convert to utc\n",
    "WS100_raw = pd.read_csv(WS100_path, sep=';', index_col=0) # , skiprows=1\n",
    "WS100_raw.index = pd.to_datetime(WS100_raw.index, format='%Y-%m-%d %H:%M:%S') # - pd.DateOffset(hours=1)\n",
    "\n",
    "WS300_raw = pd.read_csv(WS300_path, sep=';', index_col=0) # , skiprows=1\n",
    "WS300_raw.index = pd.to_datetime(WS300_raw.index, format='%Y-%m-%d %H:%M:%S') # - pd.DateOffset(hours=1)\n",
    "\n",
    "Raine_raw = pd.read_csv(Raine_path, sep=';', index_col=0) # , skiprows=1\n",
    "Raine_raw.index = pd.to_datetime(Raine_raw.index, format='%Y-%m-%d %H:%M:%S') # - pd.DateOffset(hours=1)"
   ]
  },
  {
   "cell_type": "code",
   "execution_count": null,
   "metadata": {},
   "outputs": [],
   "source": []
  }
 ],
 "metadata": {
  "kernelspec": {
   "display_name": "ts",
   "language": "python",
   "name": "python3"
  },
  "language_info": {
   "codemirror_mode": {
    "name": "ipython",
    "version": 3
   },
   "file_extension": ".py",
   "mimetype": "text/x-python",
   "name": "python",
   "nbconvert_exporter": "python",
   "pygments_lexer": "ipython3",
   "version": "3.10.8"
  }
 },
 "nbformat": 4,
 "nbformat_minor": 2
}
