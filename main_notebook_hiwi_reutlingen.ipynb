{
 "cells": [
  {
   "cell_type": "code",
   "execution_count": 6,
   "metadata": {},
   "outputs": [],
   "source": [
    "# import packages\n",
    "\n",
    "import pandas as pd\n",
    "import matplotlib.pyplot as plt\n",
    "import os\n",
    "import numpy as np\n",
    "import datetime\n",
    "import functions_hiwi as fct\n",
    "import warnings"
   ]
  },
  {
   "cell_type": "code",
   "execution_count": 7,
   "metadata": {},
   "outputs": [],
   "source": [
    "warnings.simplefilter(action='ignore', category=FutureWarning)\n",
    "warnings.simplefilter(action='ignore', category=RuntimeWarning)"
   ]
  },
  {
   "cell_type": "code",
   "execution_count": 8,
   "metadata": {},
   "outputs": [],
   "source": [
    "main_dir = r'C:\\Users\\illic\\Python\\data_hiwi\\Reutlingen'"
   ]
  },
  {
   "cell_type": "code",
   "execution_count": 9,
   "metadata": {},
   "outputs": [],
   "source": [
    "# set paths to specific data\n",
    "\n",
    "RT_pluvio_1min_path = os.path.join(main_dir, r'RT_pluvio_1min_rtu.csv')\n",
    "RT_pluvio_5min_path = os.path.join(main_dir, r'RT_pluvio_5min_rtu.csv')\n",
    "RT_pluvio_meta_path = os.path.join(main_dir, r'RT_Pluvio_meta.csv')\n",
    "\n",
    "RT_pws_5min_path = os.path.join(main_dir, r'RT_pws_5min_rtu.csv')\n",
    "RT_pws_meta_path = os.path.join(main_dir, r'RT_pws_meta.csv')"
   ]
  },
  {
   "cell_type": "code",
   "execution_count": 10,
   "metadata": {},
   "outputs": [],
   "source": [
    "# read data\n",
    "\n",
    "RT_pluvio_1min = pd.read_csv(RT_pluvio_1min_path, sep=',', index_col=0, parse_dates=True)\n",
    "RT_pluvio_5min = pd.read_csv(RT_pluvio_5min_path, sep=',', index_col=0, parse_dates=True)\n",
    "RT_pluvio_meta = pd.read_csv(RT_pluvio_meta_path, sep=',', index_col=0)\n",
    "\n",
    "RT_pws_5min = pd.read_csv(RT_pws_5min_path, sep=',', index_col=0, parse_dates=True)"
   ]
  },
  {
   "cell_type": "code",
   "execution_count": 11,
   "metadata": {},
   "outputs": [],
   "source": [
    "RT_pluvio_meta.index = [1, 2, 3, 4, 5, 6, 7, 8, 9, 10, 11, 12]\n",
    "\n",
    "# transform coordinates to x, y\n",
    "x, y = fct.LatLon_To_XY(RT_pluvio_meta['lon'], RT_pluvio_meta['lat'])\n",
    "coordinates_pluvio_utm32 = pd.DataFrame({'lon': x, 'lat': y}, index=RT_pluvio_meta.index)"
   ]
  },
  {
   "cell_type": "code",
   "execution_count": 12,
   "metadata": {},
   "outputs": [],
   "source": [
    "RT_pws_meta = pd.read_csv(RT_pws_meta_path, sep=';', index_col=0)\n",
    "RT_pws_meta = RT_pws_meta.reset_index(drop=True)  # Setzt den aktuellen Index zurück und entfernt ihn\n",
    "RT_pws_meta['ID'] = range(1, len(RT_pws_meta) + 1)  # Erstellt eine neue Spalte mit einer fortlaufenden Nummerierung\n",
    "RT_pws_meta = RT_pws_meta.set_index('ID')  # Setzt die neue Spalte als Index"
   ]
  },
  {
   "cell_type": "code",
   "execution_count": 19,
   "metadata": {},
   "outputs": [],
   "source": [
    "index = pd.date_range(start=RT_pws_5min.index[0], end=RT_pws_5min.index[-1], freq='5min')\n",
    "RT_pws_5min_reindexed = RT_pws_5min.reindex(index)"
   ]
  },
  {
   "cell_type": "code",
   "execution_count": 13,
   "metadata": {},
   "outputs": [],
   "source": [
    "# precipitation_type für WS100\n",
    "\n",
    "# 0 = No precipitation\n",
    "# 60 = Liquid precipitation, e.g. rain\n",
    "# 70 = Solid precipitation, e.g. snow\n",
    "# 40 = unspecified precipitation\n",
    "# (WS401-UMB, WS601-UMB, external\n",
    "# rain gauge)\n",
    "# WS100-UMB only:\n",
    "# 67 = freezing rain\n",
    "# 69 = sleet\n",
    "# 90 = hail"
   ]
  }
 ],
 "metadata": {
  "kernelspec": {
   "display_name": "ts",
   "language": "python",
   "name": "python3"
  },
  "language_info": {
   "codemirror_mode": {
    "name": "ipython",
    "version": 3
   },
   "file_extension": ".py",
   "mimetype": "text/x-python",
   "name": "python",
   "nbconvert_exporter": "python",
   "pygments_lexer": "ipython3",
   "version": "3.10.8"
  }
 },
 "nbformat": 4,
 "nbformat_minor": 2
}
