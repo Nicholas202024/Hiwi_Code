{
 "cells": [
  {
   "cell_type": "code",
   "execution_count": 2,
   "metadata": {},
   "outputs": [
    {
     "name": "stderr",
     "output_type": "stream",
     "text": [
      "C:\\Users\\illic\\AppData\\Local\\Temp\\ipykernel_2112\\269306038.py:2: DeprecationWarning: \n",
      "Pyarrow will become a required dependency of pandas in the next major release of pandas (pandas 3.0),\n",
      "(to allow more performant data types, such as the Arrow string type, and better interoperability with other libraries)\n",
      "but was not found to be installed on your system.\n",
      "If this would cause problems for you,\n",
      "please provide us feedback at https://github.com/pandas-dev/pandas/issues/54466\n",
      "        \n",
      "  import pandas as pd\n"
     ]
    }
   ],
   "source": [
    "# import packages\n",
    "\n",
    "import pandas as pd\n",
    "import matplotlib.pyplot as plt\n",
    "import os\n",
    "import numpy as np\n",
    "import datetime\n",
    "import functions_hiwi as fct\n",
    "import warnings"
   ]
  },
  {
   "cell_type": "code",
   "execution_count": 3,
   "metadata": {},
   "outputs": [],
   "source": [
    "warnings.simplefilter(action='ignore', category=FutureWarning)\n",
    "warnings.simplefilter(action='ignore', category=RuntimeWarning)"
   ]
  },
  {
   "cell_type": "code",
   "execution_count": 4,
   "metadata": {},
   "outputs": [],
   "source": [
    "main_dir = r'C:\\Users\\illic\\Python\\data_hiwi\\Reutlingen'"
   ]
  },
  {
   "cell_type": "code",
   "execution_count": 19,
   "metadata": {},
   "outputs": [],
   "source": [
    "# set paths to specific data\n",
    "\n",
    "RT_pluvio_1min_path = os.path.join(main_dir, r'RT_pluvio_1min_rtu.csv')\n",
    "RT_pluvio_5min_path = os.path.join(main_dir, r'RT_pluvio_5min_rtu.csv')\n",
    "RT_pluvio_meta_path = os.path.join(main_dir, r'RT_Pluvio_meta.csv')"
   ]
  },
  {
   "cell_type": "code",
   "execution_count": 20,
   "metadata": {},
   "outputs": [],
   "source": [
    "# read data\n",
    "\n",
    "RT_pluvio_1min = pd.read_csv(RT_pluvio_1min_path, sep=',', index_col=0, parse_dates=True)\n",
    "RT_pluvio_5min = pd.read_csv(RT_pluvio_5min_path, sep=',', index_col=0, parse_dates=True)\n",
    "RT_pluvio_meta = pd.read_csv(RT_pluvio_meta_path, sep=',', index_col=0)"
   ]
  },
  {
   "cell_type": "code",
   "execution_count": 13,
   "metadata": {},
   "outputs": [],
   "source": [
    "RT_pluvio_meta.index = [1, 2, 3, 4, 5, 6, 7, 8, 9, 10, 11, 12]\n",
    "\n",
    "# transform coordinates to x, y\n",
    "x, y = fct.LatLon_To_XY(RT_pluvio_meta['lon'], RT_pluvio_meta['lat'])\n",
    "coordinates_pluvio_utm32 = pd.DataFrame({'lon': x, 'lat': y}, index=RT_pluvio_meta.index)"
   ]
  },
  {
   "cell_type": "code",
   "execution_count": 6,
   "metadata": {},
   "outputs": [],
   "source": [
    "# precipitation_type für WS100\n",
    "\n",
    "# 0 = No precipitation\n",
    "# 60 = Liquid precipitation, e.g. rain\n",
    "# 70 = Solid precipitation, e.g. snow\n",
    "# 40 = unspecified precipitation\n",
    "# (WS401-UMB, WS601-UMB, external\n",
    "# rain gauge)\n",
    "# WS100-UMB only:\n",
    "# 67 = freezing rain\n",
    "# 69 = sleet\n",
    "# 90 = hail"
   ]
  },
  {
   "cell_type": "code",
   "execution_count": null,
   "metadata": {},
   "outputs": [],
   "source": []
  }
 ],
 "metadata": {
  "kernelspec": {
   "display_name": "ts",
   "language": "python",
   "name": "python3"
  },
  "language_info": {
   "codemirror_mode": {
    "name": "ipython",
    "version": 3
   },
   "file_extension": ".py",
   "mimetype": "text/x-python",
   "name": "python",
   "nbconvert_exporter": "python",
   "pygments_lexer": "ipython3",
   "version": "3.10.8"
  }
 },
 "nbformat": 4,
 "nbformat_minor": 2
}
