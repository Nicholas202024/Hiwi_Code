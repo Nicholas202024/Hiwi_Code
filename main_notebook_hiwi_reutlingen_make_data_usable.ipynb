{
 "cells": [
  {
   "cell_type": "code",
   "execution_count": 2,
   "id": "e8d9bb43-1abd-4282-93ba-27df0b5baa0e",
   "metadata": {},
   "outputs": [
    {
     "name": "stderr",
     "output_type": "stream",
     "text": [
      "C:\\Users\\illic\\AppData\\Local\\Temp\\ipykernel_15448\\3213900408.py:2: DeprecationWarning: \n",
      "Pyarrow will become a required dependency of pandas in the next major release of pandas (pandas 3.0),\n",
      "(to allow more performant data types, such as the Arrow string type, and better interoperability with other libraries)\n",
      "but was not found to be installed on your system.\n",
      "If this would cause problems for you,\n",
      "please provide us feedback at https://github.com/pandas-dev/pandas/issues/54466\n",
      "        \n",
      "  import pandas as pd\n"
     ]
    }
   ],
   "source": [
    "# import packages\n",
    "import pandas as pd\n",
    "import matplotlib.pyplot as plt\n",
    "import os\n",
    "import numpy as np\n",
    "import datetime\n",
    "import functions_hiwi as fct\n",
    "import xarray as xr"
   ]
  },
  {
   "cell_type": "code",
   "execution_count": 3,
   "id": "65ec5bf1",
   "metadata": {},
   "outputs": [],
   "source": [
    "import warnings\n",
    "warnings.simplefilter(action='ignore', category=FutureWarning)\n",
    "warnings.simplefilter(action='ignore', category=RuntimeWarning)"
   ]
  },
  {
   "cell_type": "code",
   "execution_count": 4,
   "id": "6111ca39-269e-4174-beec-0e269aa1c3b5",
   "metadata": {},
   "outputs": [],
   "source": [
    "# main path to data\n",
    "main_dir = r'C:\\Users\\illic\\Python\\data_hiwi\\Reutlingen'"
   ]
  },
  {
   "cell_type": "code",
   "execution_count": 5,
   "id": "7686869d-cbe8-4c7d-8065-be264f1e9e3f",
   "metadata": {},
   "outputs": [],
   "source": [
    "# set paths to specific data\n",
    "RT_pluvio_1min_path = os.path.join(main_dir, r'RT_pluvio_1min_data.csv')\n",
    "RT_pluvio_meta_path = os.path.join(main_dir, r'RT_pluvio_meta.csv')\n",
    "\n"
   ]
  },
  {
   "cell_type": "code",
   "execution_count": 81,
   "id": "8186f7b8",
   "metadata": {},
   "outputs": [],
   "source": [
    "RT_pluvio_meta = pd.read_csv(RT_pluvio_meta_path, sep=',', index_col=0)"
   ]
  },
  {
   "cell_type": "code",
   "execution_count": 84,
   "id": "512afec3",
   "metadata": {},
   "outputs": [
    {
     "data": {
      "text/plain": [
       "lon     9.215899\n",
       "lat    48.552922\n",
       "Name: RT_01, dtype: float64"
      ]
     },
     "execution_count": 84,
     "metadata": {},
     "output_type": "execute_result"
    }
   ],
   "source": [
    "RT_pluvio_meta.loc['RT_01']"
   ]
  },
  {
   "cell_type": "code",
   "execution_count": 6,
   "id": "d98114de",
   "metadata": {},
   "outputs": [],
   "source": [
    "# read data pws\n",
    "RT_pluvio_1min = pd.read_csv(RT_pluvio_1min_path, sep=';')\n",
    "RT_pluvio_1min.index = pd.to_datetime(RT_pluvio_1min.T.index, format='%Y-%m-%d %H:%M:%S')"
   ]
  },
  {
   "cell_type": "code",
   "execution_count": 37,
   "id": "2749d772",
   "metadata": {},
   "outputs": [],
   "source": [
    "RT_pluvio_1min = RT_pluvio_1min.T.drop(RT_pluvio_1min.T.index[0])"
   ]
  },
  {
   "cell_type": "code",
   "execution_count": 48,
   "id": "17fdbc37",
   "metadata": {},
   "outputs": [],
   "source": [
    "RT_pluvio_1min.columns = ['RT_01', 'RT_02', 'RT_03', 'RT_04', 'RT_05', 'RT_06', 'RT_07', 'RT_08', 'RT_09', 'RT_10', 'RT_11', 'RT_12']"
   ]
  },
  {
   "cell_type": "code",
   "execution_count": 50,
   "id": "1fb9e90a",
   "metadata": {},
   "outputs": [],
   "source": [
    "RT_pluvio_1min.index = pd.to_datetime(RT_pluvio_1min.index, format='%Y-%m-%d %H:%M:%S')"
   ]
  },
  {
   "cell_type": "code",
   "execution_count": 75,
   "id": "282e845a",
   "metadata": {},
   "outputs": [],
   "source": [
    "RT_pluvio_1min.to_csv(os.path.join(main_dir, 'RT_pluvio_1min_rtu.csv'))"
   ]
  },
  {
   "cell_type": "code",
   "execution_count": 76,
   "id": "4a106865",
   "metadata": {},
   "outputs": [],
   "source": [
    "RT_pluvio_5min = fct.resampleDf(RT_pluvio_1min, '5min')"
   ]
  },
  {
   "cell_type": "code",
   "execution_count": 78,
   "id": "69839f1e",
   "metadata": {},
   "outputs": [],
   "source": [
    "RT_pluvio_5min.to_csv(os.path.join(main_dir, 'RT_pluvio_5min_rtu.csv'))"
   ]
  }
 ],
 "metadata": {
  "kernelspec": {
   "display_name": "Python 3 (ipykernel)",
   "language": "python",
   "name": "python3"
  },
  "language_info": {
   "codemirror_mode": {
    "name": "ipython",
    "version": 3
   },
   "file_extension": ".py",
   "mimetype": "text/x-python",
   "name": "python",
   "nbconvert_exporter": "python",
   "pygments_lexer": "ipython3",
   "version": "3.10.8"
  }
 },
 "nbformat": 4,
 "nbformat_minor": 5
}
