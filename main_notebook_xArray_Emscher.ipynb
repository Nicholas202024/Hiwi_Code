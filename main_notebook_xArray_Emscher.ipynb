{
 "cells": [
  {
   "cell_type": "code",
   "execution_count": 1,
   "metadata": {},
   "outputs": [],
   "source": [
    "# import packages\n",
    "import pandas as pd\n",
    "import matplotlib.pyplot as plt\n",
    "import os\n",
    "import numpy as np\n",
    "import datetime\n",
    "import functions_hiwi as fct\n",
    "import warnings\n",
    "import xarray as xr\n",
    "from matplotlib.patches import Circle\n",
    "from matplotlib.patches import Rectangle"
   ]
  },
  {
   "cell_type": "code",
   "execution_count": 2,
   "metadata": {},
   "outputs": [],
   "source": [
    "# set ignore warnings\n",
    "warnings.simplefilter(action='ignore', category=FutureWarning)\n",
    "warnings.simplefilter(action='ignore', category=RuntimeWarning)"
   ]
  },
  {
   "cell_type": "code",
   "execution_count": 3,
   "metadata": {},
   "outputs": [],
   "source": [
    "# set main directory\n",
    "main_dir = r'C:\\Users\\illic\\Python\\data_hiwi\\Emschergenossenschaft'"
   ]
  },
  {
   "cell_type": "code",
   "execution_count": 4,
   "metadata": {},
   "outputs": [],
   "source": [
    "# set path to data\n",
    "emscher_path = os.path.join(main_dir, r'EGLV_PWS_dataset_5min_v03.nc')\n",
    "emscher_ref_1_path = os.path.join(main_dir, r'EGLV_refenzdaten\\EGLV_rs_1min.nc')\n",
    "emscher_ref_5_path = os.path.join(main_dir, r'EGLV_refenzdaten\\EGLV_rs_5min2.nc')\n",
    "emscher_ref_60_path = os.path.join(main_dir, r'EGLV_refenzdaten\\EGLV_rs_60min.nc')"
   ]
  },
  {
   "cell_type": "code",
   "execution_count": 5,
   "metadata": {},
   "outputs": [],
   "source": [
    "# read data\n",
    "ds_emscher = xr.open_dataset(emscher_path)\n",
    "ds_emscher_ref_1 = xr.open_dataset(emscher_ref_1_path)\n",
    "ds_emscher_ref_5 = xr.open_dataset(emscher_ref_5_path)\n",
    "ds_emscher_ref_60 = xr.open_dataset(emscher_ref_60_path)"
   ]
  },
  {
   "cell_type": "code",
   "execution_count": 19,
   "metadata": {},
   "outputs": [],
   "source": [
    "# id neu setzen\n",
    "id = np.arange(1, len(ds_emscher.id) + 1, 1) # oder: id = ['id_' + str(id) for id in (np.arange(1, len(ds_emscher.id) + 1, 1))]\n",
    "ds_emscher['id'] = id\n",
    "id = np.arange(1, len(ds_emscher_ref_1.id) + 1, 1)\n",
    "ds_emscher_ref_1['id'] = id\n",
    "ds_emscher_ref_5['id'] = id\n",
    "ds_emscher_ref_60['id'] = id"
   ]
  },
  {
   "cell_type": "code",
   "execution_count": null,
   "metadata": {},
   "outputs": [],
   "source": [
    "# create DataFrame\n",
    "df_emscher = pd.DataFrame(data=ds_emscher.rainfall.sel(id=slice(1, 10)).values.T, index=ds_emscher.time.values ,columns=ds_emscher.id.sel(id=slice(1, 10)).values)\n",
    "\n",
    "# create DataFrame with no NaN values\n",
    "df_emscher_nonan = df_emscher.fillna(0)"
   ]
  },
  {
   "cell_type": "code",
   "execution_count": null,
   "metadata": {},
   "outputs": [],
   "source": [
    "# create DataFrame with coordinates\n",
    "df_coordinaten_emscher = pd.DataFrame(data=(ds_emscher.lon.values, ds_emscher.lat.values), index=['lon', 'lat'], columns=ds_emscher.id.values).T\n",
    "coordinates_primary_utm32 = pd.DataFrame(data=(ds_emscher_ref_1.x.values, ds_emscher_ref_1.y.values), index=['lon', 'lat'], columns=ds_emscher_ref_1.id.values).T"
   ]
  },
  {
   "cell_type": "code",
   "execution_count": null,
   "metadata": {},
   "outputs": [],
   "source": [
    "# transform coordinates to x, y\n",
    "\n",
    "# x, y = fct.LatLon_To_XY(primary_locations_df['lon'], primary_locations_df['lat'])\n",
    "# coordinates_primary_utm32 = pd.DataFrame({'lon': x, 'lat': y}, index=primary_locations_df.index)\n",
    "\n",
    "x, y = fct.LatLon_To_XY(df_coordinaten_emscher['lon'], df_coordinaten_emscher['lat'])\n",
    "coordinates_secondary_utm32 = pd.DataFrame({'lon': x, 'lat': y}, index=df_coordinaten_emscher.index)"
   ]
  },
  {
   "cell_type": "code",
   "execution_count": 6,
   "metadata": {},
   "outputs": [],
   "source": [
    "# # set negative values of df to NaN\n",
    "# cond_1min = PluvioDataRT_ds.rainfall < 0 # True wenn condition erfüllt\n",
    "# cond_1h = PluvioDataRT_1h_ds.rainfall < 0\n",
    "\n",
    "# PluvioDataRT_ds = PluvioDataRT_ds.where(~cond_1min) # da wo True, also condition erfüllt ist, wird NaN gesetzt\n",
    "# PluvioDataRT_1h_ds = PluvioDataRT_1h_ds.where(~cond_1h)"
   ]
  },
  {
   "cell_type": "code",
   "execution_count": 7,
   "metadata": {},
   "outputs": [],
   "source": [
    "# # create DataFrame\n",
    "# PluvioDataRT_df = pd.DataFrame(data=PluvioDataRT_ds.rainfall.values.T, index=PluvioDataRT_ds.time.values ,columns=PluvioDataRT_ds.id.values)\n",
    "# PluvioDataRT_1h_df = pd.DataFrame(data=PluvioDataRT_1h_ds.rainfall.values, index=PluvioDataRT_1h_ds.time.values ,columns=PluvioDataRT_1h_ds.id.values)"
   ]
  },
  {
   "cell_type": "code",
   "execution_count": null,
   "metadata": {},
   "outputs": [],
   "source": []
  }
 ],
 "metadata": {
  "kernelspec": {
   "display_name": "Python 3",
   "language": "python",
   "name": "python3"
  },
  "language_info": {
   "codemirror_mode": {
    "name": "ipython",
    "version": 3
   },
   "file_extension": ".py",
   "mimetype": "text/x-python",
   "name": "python",
   "nbconvert_exporter": "python",
   "pygments_lexer": "ipython3",
   "version": "3.10.8"
  }
 },
 "nbformat": 4,
 "nbformat_minor": 2
}
