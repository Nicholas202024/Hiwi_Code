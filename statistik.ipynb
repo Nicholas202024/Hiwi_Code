{
 "cells": [
  {
   "cell_type": "code",
   "execution_count": 5,
   "metadata": {},
   "outputs": [],
   "source": [
    "# import packages\n",
    "import pandas as pd\n",
    "import matplotlib.pyplot as plt\n",
    "import os\n",
    "import numpy as np\n",
    "import datetime\n",
    "import functions_hiwi as fct"
   ]
  },
  {
   "cell_type": "code",
   "execution_count": 6,
   "metadata": {},
   "outputs": [],
   "source": [
    "main_dir = r'C:\\Users\\illic\\Python\\data_hiwi'"
   ]
  },
  {
   "cell_type": "code",
   "execution_count": 7,
   "metadata": {},
   "outputs": [],
   "source": [
    "# set paths to specific data\n",
    "WS100_rtu_path = os.path.join(main_dir, r'WS100_ready_to_use.csv')\n",
    "WS300_rtu_path = os.path.join(main_dir, r'WS300_ready_to_use.csv')\n",
    "Raine_rtu_path = os.path.join(main_dir, r'Raine_ready_to_use.csv')\n",
    "L_pcp_rtu_path = os.path.join(main_dir, r'L_pcp_ready_to_use.csv')"
   ]
  },
  {
   "cell_type": "code",
   "execution_count": 8,
   "metadata": {},
   "outputs": [],
   "source": [
    "# read data\n",
    "\n",
    "# read data and convert to utc\n",
    "WS100_rtu = pd.read_csv(WS100_rtu_path, sep=',', index_col=0) # , skiprows=1\n",
    "WS100_rtu.index = pd.to_datetime(WS100_rtu.index, format='%Y-%m-%d %H:%M:%S') # - pd.DateOffset(hours=1)\n",
    "\n",
    "WS300_rtu = pd.read_csv(WS300_rtu_path, sep=',', index_col=0) # , skiprows=1\n",
    "WS300_rtu.index = pd.to_datetime(WS300_rtu.index, format='%Y-%m-%d %H:%M:%S') # - pd.DateOffset(hours=1)\n",
    "\n",
    "Raine_rtu = pd.read_csv(Raine_rtu_path, sep=',', index_col=0) # , skiprows=1\n",
    "Raine_rtu.index = pd.to_datetime(Raine_rtu.index, format='%Y-%m-%d %H:%M:%S') # - pd.DateOffset(hours=1)\n",
    "\n",
    "L_pcp_rtu = pd.read_csv(L_pcp_rtu_path, sep=',', index_col=0) # , skiprows=1\n",
    "L_pcp_rtu.index = pd.to_datetime(L_pcp_rtu.index, format='%Y-%m-%d %H:%M:%S') # - pd.DateOffset(hours=1)"
   ]
  },
  {
   "cell_type": "code",
   "execution_count": 9,
   "metadata": {},
   "outputs": [],
   "source": [
    "# # Ausreißer manuell auf np.nan setzen\n",
    "# WS100_rtu['precipitation.1'][WS100_rtu['precipitation.1'] == WS100_rtu['precipitation.1'].max()] = np.nan\n",
    "\n",
    "# WS100_rtu['precipitation.2'][WS100_rtu['precipitation.2'] == WS100_rtu['precipitation.2'].max()] = np.nan\n",
    "# WS100_rtu['precipitation.2'][WS100_rtu['precipitation.2'] == WS100_rtu['precipitation.2'].max()] = np.nan\n",
    "\n",
    "# L_pcp_rtu['rr_10'][L_pcp_rtu['rr_10'] == L_pcp_rtu['rr_10'].max()] = np.nan\n",
    "# L_pcp_rtu['rr_10'][L_pcp_rtu['rr_10'] == L_pcp_rtu['rr_10'].max()] = np.nan"
   ]
  },
  {
   "cell_type": "code",
   "execution_count": 10,
   "metadata": {},
   "outputs": [],
   "source": [
    "# precipitation_type für WS100\n",
    "\n",
    "# 0 = No precipitation\n",
    "# 60 = Liquid precipitation, e.g. rain\n",
    "# 70 = Solid precipitation, e.g. snow\n",
    "# 40 = unspecified precipitation\n",
    "# (WS401-UMB, WS601-UMB, external\n",
    "# rain gauge)\n",
    "# WS100-UMB only:\n",
    "# 67 = freezing rain\n",
    "# 69 = sleet\n",
    "# 90 = hail"
   ]
  },
  {
   "cell_type": "code",
   "execution_count": null,
   "metadata": {},
   "outputs": [],
   "source": [
    "# nan Auswertung"
   ]
  },
  {
   "cell_type": "code",
   "execution_count": 12,
   "metadata": {},
   "outputs": [
    {
     "name": "stdout",
     "output_type": "stream",
     "text": [
      "WS100\n",
      "count of nans: 8 \n",
      "length of data: 1051019 \n",
      "Ratio of nan/nonan: 0.0 %\n",
      "count of nans: 8 \n",
      "length of data: 1051019 \n",
      "Ratio of nan/nonan: 0.0 %\n",
      "\n",
      "\n",
      "WS300\n",
      "count of nans: 493811 \n",
      "length of data: 1575142 \n",
      "Ratio of nan/nonan: 31.35 %\n",
      "\n",
      "\n",
      "Raine\n",
      "count of nans: 193 \n",
      "length of data: 772077 \n",
      "Ratio of nan/nonan: 0.02 %\n",
      "\n",
      "\n",
      "L_pcp\n",
      "count of nans: 2660 \n",
      "length of data: 2266560 \n",
      "Ratio of nan/nonan: 0.12 %\n",
      "count of nans: 2660 \n",
      "length of data: 2266560 \n",
      "Ratio of nan/nonan: 0.12 %\n",
      "count of nans: 2660 \n",
      "length of data: 2266560 \n",
      "Ratio of nan/nonan: 0.12 %\n"
     ]
    }
   ],
   "source": [
    "print('WS100')\n",
    "fct.nan_nonan_ratio(WS100_rtu, 'precipitation.1')\n",
    "fct.nan_nonan_ratio(WS100_rtu, 'precipitation.2')\n",
    "print('\\n')\n",
    "print('WS300')\n",
    "fct.nan_nonan_ratio(WS300_rtu, 'precipitation.1')\n",
    "print('\\n')\n",
    "print('Raine')\n",
    "fct.nan_nonan_ratio(Raine_rtu, 'Niederschlagsmenge')\n",
    "print('\\n')\n",
    "print('L_pcp')\n",
    "fct.nan_nonan_ratio(L_pcp_rtu, 'rr_07')\n",
    "fct.nan_nonan_ratio(L_pcp_rtu, 'rr_09')\n",
    "fct.nan_nonan_ratio(L_pcp_rtu, 'rr_10')"
   ]
  },
  {
   "cell_type": "code",
   "execution_count": 14,
   "metadata": {},
   "outputs": [
    {
     "name": "stdout",
     "output_type": "stream",
     "text": [
      "{'precipitation.1': 3}\n",
      "{'precipitation.2': 3}\n",
      "\n",
      "\n",
      "{'precipitation.1': 493798}\n",
      "\n",
      "\n",
      "{'Niederschlagsmenge': 159}\n",
      "\n",
      "\n",
      "{'rr_07': 1390}\n",
      "{'rr_09': 1390}\n",
      "{'rr_10': 1390}\n"
     ]
    }
   ],
   "source": [
    "x = fct.longest_nan_sequence(WS100_rtu, 'precipitation.1')\n",
    "print(x)\n",
    "x = fct.longest_nan_sequence(WS100_rtu, 'precipitation.2')\n",
    "print(x)\n",
    "print('\\n')\n",
    "x = fct.longest_nan_sequence(WS300_rtu, 'precipitation.1')\n",
    "print(x)\n",
    "print('\\n')\n",
    "x = fct.longest_nan_sequence(Raine_rtu, 'Niederschlagsmenge')\n",
    "print(x)\n",
    "print('\\n')\n",
    "x = fct.longest_nan_sequence(L_pcp_rtu, 'rr_07')\n",
    "print(x)\n",
    "x = fct.longest_nan_sequence(L_pcp_rtu, 'rr_09')\n",
    "print(x)\n",
    "x = fct.longest_nan_sequence(L_pcp_rtu, 'rr_10')\n",
    "print(x)\n"
   ]
  },
  {
   "cell_type": "code",
   "execution_count": 91,
   "metadata": {},
   "outputs": [],
   "source": [
    "def list_nan_sequences(dataframe, column, min_len):\n",
    "\n",
    "    dataframe = dataframe\n",
    "    dataframe_mask = dataframe.isna()\n",
    "    column = column\n",
    "\n",
    "    list = []\n",
    "\n",
    "    count = 0\n",
    "    index_count = 0\n",
    "\n",
    "    for value in dataframe_mask[column]:\n",
    "        if value == True:\n",
    "            if count == 0:    \n",
    "                index_start = dataframe[column].index[index_count]\n",
    "                count += 1\n",
    "            else:\n",
    "                count += 1\n",
    "        else:\n",
    "            if count == 0:\n",
    "                pass\n",
    "            else:\n",
    "                index_end = dataframe[column].index[index_count - 1]\n",
    "                if count < min_len:\n",
    "                    pass\n",
    "                else:\n",
    "                    list.append([count, index_start, index_end])\n",
    "                count = 0\n",
    "        index_count += 1\n",
    "\n",
    "    print('Count of nan sequences with min len ' + str(min_len) + ':', len(list))\n",
    "\n",
    "    return list"
   ]
  },
  {
   "cell_type": "code",
   "execution_count": 95,
   "metadata": {},
   "outputs": [
    {
     "name": "stdout",
     "output_type": "stream",
     "text": [
      "Count of nan sequences with min len 0: 4\n",
      "[[2, Timestamp('2021-11-05 08:31:00'), Timestamp('2021-11-05 08:32:00')], [1, Timestamp('2021-11-05 08:43:00'), Timestamp('2021-11-05 08:43:00')], [3, Timestamp('2022-11-03 11:10:00'), Timestamp('2022-11-03 11:12:00')], [2, Timestamp('2022-11-21 16:21:00'), Timestamp('2022-11-21 16:22:00')]]\n",
      "Count of nan sequences with min len 0: 4\n",
      "[[2, Timestamp('2021-11-05 08:31:00'), Timestamp('2021-11-05 08:32:00')], [1, Timestamp('2021-11-05 08:43:00'), Timestamp('2021-11-05 08:43:00')], [3, Timestamp('2022-11-03 11:10:00'), Timestamp('2022-11-03 11:12:00')], [2, Timestamp('2022-11-21 16:21:00'), Timestamp('2022-11-21 16:22:00')]]\n",
      "Count of nan sequences with min len 0: 7\n",
      "[[3, Timestamp('2021-02-24 08:00:00'), Timestamp('2021-02-24 08:06:00')], [2, Timestamp('2021-04-29 11:30:00'), Timestamp('2021-04-29 12:00:00')], [1, Timestamp('2021-09-16 14:59:00'), Timestamp('2021-09-16 14:59:00')], [1, Timestamp('2021-09-27 09:42:00'), Timestamp('2021-09-27 09:42:00')], [2, Timestamp('2021-11-05 08:31:00'), Timestamp('2021-11-05 08:32:00')], [1, Timestamp('2021-11-05 08:43:00'), Timestamp('2021-11-05 08:43:00')], [3, Timestamp('2022-11-03 11:10:00'), Timestamp('2022-11-03 11:12:00')]]\n",
      "Count of nan sequences with min len 0: 3\n",
      "[[32, Timestamp('2022-11-03 11:46:00'), Timestamp('2022-11-03 12:18:00')], [159, Timestamp('2022-11-21 12:14:00'), Timestamp('2022-11-21 14:52:00')], [2, Timestamp('2022-11-21 16:21:00'), Timestamp('2022-11-21 16:22:00')]]\n",
      "Count of nan sequences with min len 5: 9\n",
      "[[36, Timestamp('2020-05-13 12:49:00'), Timestamp('2020-05-13 13:24:00')], [5, Timestamp('2020-05-13 13:26:00'), Timestamp('2020-05-13 13:30:00')], [5, Timestamp('2020-07-30 11:55:00'), Timestamp('2020-07-30 11:59:00')], [6, Timestamp('2020-07-31 00:16:00'), Timestamp('2020-07-31 00:21:00')], [10, Timestamp('2020-07-31 01:35:00'), Timestamp('2020-07-31 01:44:00')], [5, Timestamp('2020-07-31 03:02:00'), Timestamp('2020-07-31 03:06:00')], [17, Timestamp('2020-07-31 03:08:00'), Timestamp('2020-07-31 03:24:00')], [1150, Timestamp('2020-07-31 16:30:00'), Timestamp('2020-08-01 11:39:00')], [1390, Timestamp('2021-06-15 09:51:00'), Timestamp('2021-06-16 09:00:00')]]\n",
      "Count of nan sequences with min len 5: 9\n",
      "[[36, Timestamp('2020-05-13 12:49:00'), Timestamp('2020-05-13 13:24:00')], [5, Timestamp('2020-05-13 13:26:00'), Timestamp('2020-05-13 13:30:00')], [5, Timestamp('2020-07-30 11:55:00'), Timestamp('2020-07-30 11:59:00')], [6, Timestamp('2020-07-31 00:16:00'), Timestamp('2020-07-31 00:21:00')], [10, Timestamp('2020-07-31 01:35:00'), Timestamp('2020-07-31 01:44:00')], [5, Timestamp('2020-07-31 03:02:00'), Timestamp('2020-07-31 03:06:00')], [17, Timestamp('2020-07-31 03:08:00'), Timestamp('2020-07-31 03:24:00')], [1150, Timestamp('2020-07-31 16:30:00'), Timestamp('2020-08-01 11:39:00')], [1390, Timestamp('2021-06-15 09:51:00'), Timestamp('2021-06-16 09:00:00')]]\n",
      "Count of nan sequences with min len 5: 9\n",
      "[[36, Timestamp('2020-05-13 12:49:00'), Timestamp('2020-05-13 13:24:00')], [5, Timestamp('2020-05-13 13:26:00'), Timestamp('2020-05-13 13:30:00')], [5, Timestamp('2020-07-30 11:55:00'), Timestamp('2020-07-30 11:59:00')], [6, Timestamp('2020-07-31 00:16:00'), Timestamp('2020-07-31 00:21:00')], [10, Timestamp('2020-07-31 01:35:00'), Timestamp('2020-07-31 01:44:00')], [5, Timestamp('2020-07-31 03:02:00'), Timestamp('2020-07-31 03:06:00')], [17, Timestamp('2020-07-31 03:08:00'), Timestamp('2020-07-31 03:24:00')], [1150, Timestamp('2020-07-31 16:30:00'), Timestamp('2020-08-01 11:39:00')], [1390, Timestamp('2021-06-15 09:51:00'), Timestamp('2021-06-16 09:00:00')]]\n"
     ]
    }
   ],
   "source": [
    "print(list_nan_sequences(WS100_rtu, 'precipitation.1', 0))\n",
    "print(list_nan_sequences(WS100_rtu, 'precipitation.2', 0))\n",
    "print(list_nan_sequences(WS300_rtu, 'precipitation.1', 0))\n",
    "print(list_nan_sequences(Raine_rtu, 'Niederschlagsmenge', 0))\n",
    "print(list_nan_sequences(L_pcp_rtu, 'rr_07', 5))\n",
    "print(list_nan_sequences(L_pcp_rtu, 'rr_09', 5))\n",
    "print(list_nan_sequences(L_pcp_rtu, 'rr_10', 5))"
   ]
  },
  {
   "cell_type": "code",
   "execution_count": null,
   "metadata": {},
   "outputs": [],
   "source": []
  }
 ],
 "metadata": {
  "kernelspec": {
   "display_name": "ts",
   "language": "python",
   "name": "python3"
  },
  "language_info": {
   "codemirror_mode": {
    "name": "ipython",
    "version": 3
   },
   "file_extension": ".py",
   "mimetype": "text/x-python",
   "name": "python",
   "nbconvert_exporter": "python",
   "pygments_lexer": "ipython3",
   "version": "3.10.8"
  }
 },
 "nbformat": 4,
 "nbformat_minor": 2
}
