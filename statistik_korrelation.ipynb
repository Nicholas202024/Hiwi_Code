{
 "cells": [
  {
   "cell_type": "code",
   "execution_count": 7,
   "metadata": {},
   "outputs": [],
   "source": [
    "# import packages\n",
    "import pandas as pd\n",
    "import matplotlib.pyplot as plt\n",
    "import os\n",
    "import numpy as np\n",
    "import datetime\n",
    "import functions_hiwi as fct"
   ]
  },
  {
   "cell_type": "code",
   "execution_count": 8,
   "metadata": {},
   "outputs": [],
   "source": [
    "main_dir = r'C:\\Users\\illic\\Python\\data_hiwi'"
   ]
  },
  {
   "cell_type": "code",
   "execution_count": 9,
   "metadata": {},
   "outputs": [],
   "source": [
    "# set paths to specific data\n",
    "WS100_rtu_path = os.path.join(main_dir, r'WS100_ready_to_use.csv')\n",
    "WS300_rtu_path = os.path.join(main_dir, r'WS300_ready_to_use.csv')\n",
    "Raine_rtu_path = os.path.join(main_dir, r'Raine_ready_to_use.csv')\n",
    "L_pcp_rtu_path = os.path.join(main_dir, r'L_pcp_ready_to_use.csv')\n",
    "lhg_rtu_path = os.path.join(main_dir, r'lhg_rtu.csv')"
   ]
  },
  {
   "cell_type": "code",
   "execution_count": 10,
   "metadata": {},
   "outputs": [],
   "source": [
    "# read data\n",
    "\n",
    "# read data and convert to utc\n",
    "WS100_rtu = pd.read_csv(WS100_rtu_path, sep=',', index_col=0) # , skiprows=1\n",
    "WS100_rtu.index = pd.to_datetime(WS100_rtu.index, format='%Y-%m-%d %H:%M:%S') # - pd.DateOffset(hours=1)\n",
    "\n",
    "WS300_rtu = pd.read_csv(WS300_rtu_path, sep=',', index_col=0) # , skiprows=1\n",
    "WS300_rtu.index = pd.to_datetime(WS300_rtu.index, format='%Y-%m-%d %H:%M:%S') # - pd.DateOffset(hours=1)\n",
    "\n",
    "Raine_rtu = pd.read_csv(Raine_rtu_path, sep=',', index_col=0) # , skiprows=1\n",
    "Raine_rtu.index = pd.to_datetime(Raine_rtu.index, format='%Y-%m-%d %H:%M:%S') # - pd.DateOffset(hours=1)\n",
    "\n",
    "L_pcp_rtu = pd.read_csv(L_pcp_rtu_path, sep=',', index_col=0) # , skiprows=1\n",
    "L_pcp_rtu.index = pd.to_datetime(L_pcp_rtu.index, format='%Y-%m-%d %H:%M:%S') # - pd.DateOffset(hours=1)\n",
    "\n",
    "lhg_rtu = pd.read_csv(lhg_rtu_path, sep=',', index_col=0) # , skiprows=1\n",
    "lhg_rtu.index = pd.to_datetime(lhg_rtu.index, format='%Y-%m-%d %H:%M:%S') + pd.DateOffset(hours=1)"
   ]
  },
  {
   "cell_type": "code",
   "execution_count": 11,
   "metadata": {},
   "outputs": [],
   "source": [
    "# Ausreißer manuell auf np.nan setzen\n",
    "WS100_rtu['precipitation.1'][WS100_rtu['precipitation.1'] == WS100_rtu['precipitation.1'].max()] = np.nan\n",
    "\n",
    "WS100_rtu['precipitation.2'][WS100_rtu['precipitation.2'] == WS100_rtu['precipitation.2'].max()] = np.nan\n",
    "WS100_rtu['precipitation.2'][WS100_rtu['precipitation.2'] == WS100_rtu['precipitation.2'].max()] = np.nan\n",
    "\n",
    "L_pcp_rtu['rr_10'][L_pcp_rtu['rr_10'] == L_pcp_rtu['rr_10'].max()] = np.nan\n",
    "L_pcp_rtu['rr_10'][L_pcp_rtu['rr_10'] == L_pcp_rtu['rr_10'].max()] = np.nan"
   ]
  },
  {
   "cell_type": "code",
   "execution_count": 12,
   "metadata": {},
   "outputs": [],
   "source": [
    "# precipitation_type für WS100\n",
    "\n",
    "# 0 = No precipitation\n",
    "# 60 = Liquid precipitation, e.g. rain\n",
    "# 70 = Solid precipitation, e.g. snow\n",
    "# 40 = unspecified precipitation\n",
    "# (WS401-UMB, WS601-UMB, external\n",
    "# rain gauge)\n",
    "# WS100-UMB only:\n",
    "# 67 = freezing rain\n",
    "# 69 = sleet\n",
    "# 90 = hail"
   ]
  },
  {
   "cell_type": "code",
   "execution_count": 13,
   "metadata": {},
   "outputs": [
    {
     "data": {
      "text/plain": [
       "0.7577890469189317"
      ]
     },
     "execution_count": 13,
     "metadata": {},
     "output_type": "execute_result"
    }
   ],
   "source": [
    "fct.calculate_correlation_with_without_resample(WS100_rtu, Raine_rtu, 'precipitation.1', 'Niederschlagsmenge', 0.99, True, True)"
   ]
  },
  {
   "cell_type": "code",
   "execution_count": 14,
   "metadata": {},
   "outputs": [
    {
     "name": "stderr",
     "output_type": "stream",
     "text": [
      "c:\\Users\\illic\\miniforge3\\envs\\ts\\lib\\site-packages\\numpy\\lib\\function_base.py:2897: RuntimeWarning: invalid value encountered in divide\n",
      "  c /= stddev[:, None]\n",
      "c:\\Users\\illic\\miniforge3\\envs\\ts\\lib\\site-packages\\numpy\\lib\\function_base.py:2898: RuntimeWarning: invalid value encountered in divide\n",
      "  c /= stddev[None, :]\n"
     ]
    },
    {
     "data": {
      "text/plain": [
       "nan"
      ]
     },
     "execution_count": 14,
     "metadata": {},
     "output_type": "execute_result"
    }
   ],
   "source": [
    "fct.calculate_correlation_with_without_resample(WS300_rtu, Raine_rtu, 'precipitation.1', 'Niederschlagsmenge', 0.99, True, True) # nan weil haben keinen gemeinsamen Zeitraum"
   ]
  },
  {
   "cell_type": "code",
   "execution_count": 15,
   "metadata": {},
   "outputs": [
    {
     "data": {
      "text/plain": [
       "0.8512214612497429"
      ]
     },
     "execution_count": 15,
     "metadata": {},
     "output_type": "execute_result"
    }
   ],
   "source": [
    "fct.calculate_correlation_with_without_resample(L_pcp_rtu, Raine_rtu, 'rr_07', 'Niederschlagsmenge', 0.99, True, True)"
   ]
  },
  {
   "cell_type": "code",
   "execution_count": 16,
   "metadata": {},
   "outputs": [
    {
     "data": {
      "text/plain": [
       "0.863497449509153"
      ]
     },
     "execution_count": 16,
     "metadata": {},
     "output_type": "execute_result"
    }
   ],
   "source": [
    "fct.calculate_correlation_with_without_resample(L_pcp_rtu, Raine_rtu, 'rr_09', 'Niederschlagsmenge', 0.99, True, True)"
   ]
  },
  {
   "cell_type": "code",
   "execution_count": 17,
   "metadata": {},
   "outputs": [
    {
     "data": {
      "text/plain": [
       "0.863497449509153"
      ]
     },
     "execution_count": 17,
     "metadata": {},
     "output_type": "execute_result"
    }
   ],
   "source": [
    "fct.calculate_correlation_with_without_resample(L_pcp_rtu, Raine_rtu, 'rr_10', 'Niederschlagsmenge', 0.99, True, True)"
   ]
  },
  {
   "cell_type": "code",
   "execution_count": 18,
   "metadata": {},
   "outputs": [
    {
     "name": "stdout",
     "output_type": "stream",
     "text": [
      "0.8012618818018999\n",
      "0.8635549779337797\n",
      "0.8694268853084303\n",
      "0.8543778283797149\n"
     ]
    }
   ],
   "source": [
    "print(fct.calculate_correlation_with_without_resample(lhg_rtu, Raine_rtu, 'lhg05', 'Niederschlagsmenge', 0.99, True, True))\n",
    "print(fct.calculate_correlation_with_without_resample(lhg_rtu, Raine_rtu, 'lhg07', 'Niederschlagsmenge', 0.99, True, True))\n",
    "# print(fct.calculate_correlation_with_without_resample(lhg_rtu, Raine_rtu, 'lhg09', 'Niederschlagsmenge', 0.99, True, True))\n",
    "print(fct.calculate_correlation_with_without_resample(lhg_rtu, Raine_rtu, 'lhg10', 'Niederschlagsmenge', 0.99, True, True))\n",
    "print(fct.calculate_correlation_with_without_resample(lhg_rtu, Raine_rtu, 'lhg11', 'Niederschlagsmenge', 0.99, True, True))"
   ]
  },
  {
   "cell_type": "code",
   "execution_count": 19,
   "metadata": {},
   "outputs": [],
   "source": [
    "lhg05_rtu_1M = fct.resampleDf(lhg_rtu[['lhg05']], '1M', max_nan=1000000000)\n",
    "lhg07_rtu_1M = fct.resampleDf(lhg_rtu[['lhg07']], '1M', max_nan=1000000000)\n",
    "lhg09_rtu_1M = fct.resampleDf(lhg_rtu[['lhg09']], '1M', max_nan=1000000000)\n",
    "lhg10_rtu_1M = fct.resampleDf(lhg_rtu[['lhg10']], '1M', max_nan=1000000000)\n",
    "lhg11_rtu_1M = fct.resampleDf(lhg_rtu[['lhg11']], '1M', max_nan=1000000000)"
   ]
  },
  {
   "cell_type": "code",
   "execution_count": 20,
   "metadata": {},
   "outputs": [],
   "source": [
    "mask_lhg05 = lhg_rtu['lhg05'].notnull() # true wenn wert, false wenn nan"
   ]
  },
  {
   "cell_type": "code",
   "execution_count": 21,
   "metadata": {},
   "outputs": [],
   "source": [
    "mask_raine = Raine_rtu['Niederschlagsmenge'].notnull()"
   ]
  },
  {
   "cell_type": "code",
   "execution_count": 22,
   "metadata": {},
   "outputs": [],
   "source": [
    "mask = pd.concat([mask_lhg05, mask_raine], axis=1)"
   ]
  },
  {
   "cell_type": "code",
   "execution_count": 23,
   "metadata": {},
   "outputs": [
    {
     "data": {
      "text/html": [
       "<div>\n",
       "<style scoped>\n",
       "    .dataframe tbody tr th:only-of-type {\n",
       "        vertical-align: middle;\n",
       "    }\n",
       "\n",
       "    .dataframe tbody tr th {\n",
       "        vertical-align: top;\n",
       "    }\n",
       "\n",
       "    .dataframe thead th {\n",
       "        text-align: right;\n",
       "    }\n",
       "</style>\n",
       "<table border=\"1\" class=\"dataframe\">\n",
       "  <thead>\n",
       "    <tr style=\"text-align: right;\">\n",
       "      <th></th>\n",
       "      <th>lhg05</th>\n",
       "      <th>Niederschlagsmenge</th>\n",
       "    </tr>\n",
       "  </thead>\n",
       "  <tbody>\n",
       "    <tr>\n",
       "      <th>2021-01-01 01:05:00</th>\n",
       "      <td>False</td>\n",
       "      <td>NaN</td>\n",
       "    </tr>\n",
       "    <tr>\n",
       "      <th>2021-01-01 01:10:00</th>\n",
       "      <td>False</td>\n",
       "      <td>NaN</td>\n",
       "    </tr>\n",
       "    <tr>\n",
       "      <th>2021-01-01 01:15:00</th>\n",
       "      <td>False</td>\n",
       "      <td>NaN</td>\n",
       "    </tr>\n",
       "    <tr>\n",
       "      <th>2021-01-01 01:20:00</th>\n",
       "      <td>False</td>\n",
       "      <td>NaN</td>\n",
       "    </tr>\n",
       "    <tr>\n",
       "      <th>2021-01-01 01:25:00</th>\n",
       "      <td>False</td>\n",
       "      <td>NaN</td>\n",
       "    </tr>\n",
       "    <tr>\n",
       "      <th>...</th>\n",
       "      <td>...</td>\n",
       "      <td>...</td>\n",
       "    </tr>\n",
       "    <tr>\n",
       "      <th>2024-04-22 17:09:00</th>\n",
       "      <td>NaN</td>\n",
       "      <td>True</td>\n",
       "    </tr>\n",
       "    <tr>\n",
       "      <th>2024-04-22 17:10:00</th>\n",
       "      <td>NaN</td>\n",
       "      <td>True</td>\n",
       "    </tr>\n",
       "    <tr>\n",
       "      <th>2024-04-22 17:11:00</th>\n",
       "      <td>NaN</td>\n",
       "      <td>True</td>\n",
       "    </tr>\n",
       "    <tr>\n",
       "      <th>2024-04-22 17:12:00</th>\n",
       "      <td>NaN</td>\n",
       "      <td>True</td>\n",
       "    </tr>\n",
       "    <tr>\n",
       "      <th>2024-04-22 17:13:00</th>\n",
       "      <td>NaN</td>\n",
       "      <td>True</td>\n",
       "    </tr>\n",
       "  </tbody>\n",
       "</table>\n",
       "<p>965454 rows × 2 columns</p>\n",
       "</div>"
      ],
      "text/plain": [
       "                     lhg05 Niederschlagsmenge\n",
       "2021-01-01 01:05:00  False                NaN\n",
       "2021-01-01 01:10:00  False                NaN\n",
       "2021-01-01 01:15:00  False                NaN\n",
       "2021-01-01 01:20:00  False                NaN\n",
       "2021-01-01 01:25:00  False                NaN\n",
       "...                    ...                ...\n",
       "2024-04-22 17:09:00    NaN               True\n",
       "2024-04-22 17:10:00    NaN               True\n",
       "2024-04-22 17:11:00    NaN               True\n",
       "2024-04-22 17:12:00    NaN               True\n",
       "2024-04-22 17:13:00    NaN               True\n",
       "\n",
       "[965454 rows x 2 columns]"
      ]
     },
     "execution_count": 23,
     "metadata": {},
     "output_type": "execute_result"
    }
   ],
   "source": [
    "mask"
   ]
  },
  {
   "cell_type": "code",
   "execution_count": 24,
   "metadata": {},
   "outputs": [],
   "source": [
    "index = mask[(mask['lhg05'] == True) & (mask['Niederschlagsmenge'] == True)].index"
   ]
  },
  {
   "cell_type": "code",
   "execution_count": 25,
   "metadata": {},
   "outputs": [
    {
     "data": {
      "text/plain": [
       "DatetimeIndex(['2022-11-03 12:25:00', '2022-11-03 12:30:00',\n",
       "               '2022-11-03 12:35:00', '2022-11-03 12:40:00',\n",
       "               '2022-11-03 12:45:00', '2022-11-03 12:50:00',\n",
       "               '2022-11-03 12:55:00', '2022-11-03 13:00:00',\n",
       "               '2022-11-03 13:05:00', '2022-11-03 13:10:00',\n",
       "               ...\n",
       "               '2023-10-14 21:15:00', '2023-10-14 21:20:00',\n",
       "               '2023-10-14 21:25:00', '2023-10-14 21:30:00',\n",
       "               '2023-10-14 21:35:00', '2023-10-14 21:40:00',\n",
       "               '2023-10-14 21:45:00', '2023-10-14 21:50:00',\n",
       "               '2023-10-14 21:55:00', '2023-10-14 22:00:00'],\n",
       "              dtype='datetime64[ns]', length=78549, freq=None)"
      ]
     },
     "execution_count": 25,
     "metadata": {},
     "output_type": "execute_result"
    }
   ],
   "source": [
    "index"
   ]
  },
  {
   "cell_type": "code",
   "execution_count": 26,
   "metadata": {},
   "outputs": [],
   "source": [
    "lhg05_rtu_mit_mask = lhg_rtu[['lhg05']][lhg_rtu['lhg05'].index.isin(index)]"
   ]
  },
  {
   "cell_type": "code",
   "execution_count": 27,
   "metadata": {},
   "outputs": [],
   "source": [
    "Raine_rtu_mit_mask = Raine_rtu[['Niederschlagsmenge']][Raine_rtu['Niederschlagsmenge'].index.isin(index)]"
   ]
  },
  {
   "cell_type": "code",
   "execution_count": 28,
   "metadata": {},
   "outputs": [
    {
     "data": {
      "text/plain": [
       "0.6161942066540922"
      ]
     },
     "execution_count": 28,
     "metadata": {},
     "output_type": "execute_result"
    }
   ],
   "source": [
    "fct.calculate_correlation_with_without_resample(lhg05_rtu_mit_mask, Raine_rtu_mit_mask, 'lhg05', 'Niederschlagsmenge', 0.99, True, True)"
   ]
  },
  {
   "cell_type": "code",
   "execution_count": 29,
   "metadata": {},
   "outputs": [],
   "source": [
    "def index_2_werte(df1, df2, col1, col2):\n",
    "    mask1 = df1[col1].notnull() # true wenn wert, false wenn nan\n",
    "    mask2 = df2[col2].notnull() # true wenn wert, false wenn nan\n",
    "\n",
    "    mask = pd.concat([mask1, mask2], axis=1)\n",
    "\n",
    "    index = mask[(mask[col1] == True) & (mask[col2] == True)].index\n",
    "\n",
    "    df1_mit_mask = df1[[col1]][df1[col1].index.isin(index)]\n",
    "\n",
    "    df2_mit_mask = df2[[col2]][df2[col2].index.isin(index)]\n",
    "\n",
    "    return df1_mit_mask, df2_mit_mask"
   ]
  },
  {
   "cell_type": "code",
   "execution_count": 51,
   "metadata": {},
   "outputs": [],
   "source": [
    "WS100_rr, raine = index_2_werte(WS100_rtu, Raine_rtu, 'precipitation.1', 'Niederschlagsmenge')"
   ]
  },
  {
   "cell_type": "code",
   "execution_count": 52,
   "metadata": {},
   "outputs": [
    {
     "data": {
      "text/plain": [
       "0.7504243979470994"
      ]
     },
     "execution_count": 52,
     "metadata": {},
     "output_type": "execute_result"
    }
   ],
   "source": [
    "fct.calculate_correlation_with_without_resample(WS100_rr, raine, 'precipitation.1', 'Niederschlagsmenge', 0.99, True, True)"
   ]
  },
  {
   "cell_type": "code",
   "execution_count": 59,
   "metadata": {},
   "outputs": [
    {
     "name": "stdout",
     "output_type": "stream",
     "text": [
      "0.4070683811442091\n"
     ]
    }
   ],
   "source": [
    "data_primary = L_pcp_rtu\n",
    "data_secondary = Raine_rtu\n",
    "prim_station = 'rr_10'\n",
    "sec_station = 'Niederschlagsmenge'\n",
    "percentile = 0.99\n",
    "resample_sec = True\n",
    "resample_prim = True\n",
    "\n",
    "if resample_sec == True:\n",
    "    df_agg = fct.resampleDf(data_secondary[sec_station], 'H', closed='right', label='right', shift=False, leave_nan=True, label_shift=None, temp_shift=0, max_nan=2)\n",
    "else:\n",
    "    df_agg = data_secondary[sec_station]\n",
    "\n",
    "index_start = data_secondary.index[0]\n",
    "index_end = data_secondary.index[-1]\n",
    "\n",
    "if resample_prim == True:\n",
    "    df_reference = fct.resampleDf(data_primary[prim_station][index_start:index_end], 'H', closed='right', label='right', shift=False, leave_nan=True, label_shift=None, temp_shift=0, max_nan=2)\n",
    "else:\n",
    "    df_reference = data_primary[prim_station][index_start:index_end]\n",
    "\n",
    "mask1 = data_primary[prim_station].notnull() # true wenn wert, false wenn nan\n",
    "mask2 = data_secondary[sec_station].notnull() # true wenn wert, false wenn nan\n",
    "\n",
    "mask = pd.concat([mask1, mask2], axis=1)\n",
    "\n",
    "index = mask[(mask[prim_station] == True) & (mask[sec_station] == True)].index\n",
    "\n",
    "df1_mit_mask = data_primary[[prim_station]][data_primary[prim_station].index.isin(index)]\n",
    "\n",
    "df2_mit_mask = data_secondary[[sec_station]][data_secondary[sec_station].index.isin(index)]\n",
    "\n",
    "df_for_correlation = pd.concat([df1_mit_mask, df2_mit_mask], axis=1)\n",
    "df_for_correlation = df_for_correlation.dropna() # ohne wäre correlation nan\n",
    "\n",
    "cc, a_dataset, b_dataset = fct.calc_indicator_correlation(df_for_correlation.iloc[:, 0].values, df_for_correlation.iloc[:, 1].values, percentile)\n",
    "print(cc)"
   ]
  },
  {
   "cell_type": "code",
   "execution_count": null,
   "metadata": {},
   "outputs": [],
   "source": []
  }
 ],
 "metadata": {
  "kernelspec": {
   "display_name": "ts",
   "language": "python",
   "name": "python3"
  },
  "language_info": {
   "codemirror_mode": {
    "name": "ipython",
    "version": 3
   },
   "file_extension": ".py",
   "mimetype": "text/x-python",
   "name": "python",
   "nbconvert_exporter": "python",
   "pygments_lexer": "ipython3",
   "version": "3.10.8"
  }
 },
 "nbformat": 4,
 "nbformat_minor": 2
}
