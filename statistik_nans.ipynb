{
 "cells": [
  {
   "cell_type": "code",
   "execution_count": 1,
   "metadata": {},
   "outputs": [],
   "source": [
    "# import packages\n",
    "import pandas as pd\n",
    "import matplotlib.pyplot as plt\n",
    "import os\n",
    "import numpy as np\n",
    "import datetime\n",
    "import functions_hiwi as fct"
   ]
  },
  {
   "cell_type": "code",
   "execution_count": 20,
   "metadata": {},
   "outputs": [],
   "source": [
    "from collections import Counter"
   ]
  },
  {
   "cell_type": "code",
   "execution_count": 2,
   "metadata": {},
   "outputs": [],
   "source": [
    "main_dir = r'C:\\Users\\illic\\Python\\data_hiwi'"
   ]
  },
  {
   "cell_type": "code",
   "execution_count": 3,
   "metadata": {},
   "outputs": [],
   "source": [
    "# set paths to specific data\n",
    "WS100_rtu_path = os.path.join(main_dir, r'WS100_ready_to_use.csv')\n",
    "WS300_rtu_path = os.path.join(main_dir, r'WS300_ready_to_use.csv')\n",
    "Raine_rtu_path = os.path.join(main_dir, r'Raine_ready_to_use.csv')\n",
    "L_pcp_rtu_path = os.path.join(main_dir, r'L_pcp_ready_to_use.csv')\n",
    "lhg_rtu_path = os.path.join(main_dir, r'lhg_rtu.csv')"
   ]
  },
  {
   "cell_type": "code",
   "execution_count": 4,
   "metadata": {},
   "outputs": [],
   "source": [
    "# read data\n",
    "\n",
    "# read data and convert to utc\n",
    "WS100_rtu = pd.read_csv(WS100_rtu_path, sep=',', index_col=0) # , skiprows=1\n",
    "WS100_rtu.index = pd.to_datetime(WS100_rtu.index, format='%Y-%m-%d %H:%M:%S') # - pd.DateOffset(hours=1)\n",
    "\n",
    "WS300_rtu = pd.read_csv(WS300_rtu_path, sep=',', index_col=0) # , skiprows=1\n",
    "WS300_rtu.index = pd.to_datetime(WS300_rtu.index, format='%Y-%m-%d %H:%M:%S') # - pd.DateOffset(hours=1)\n",
    "\n",
    "Raine_rtu = pd.read_csv(Raine_rtu_path, sep=',', index_col=0) # , skiprows=1\n",
    "Raine_rtu.index = pd.to_datetime(Raine_rtu.index, format='%Y-%m-%d %H:%M:%S') # - pd.DateOffset(hours=1)\n",
    "\n",
    "L_pcp_rtu = pd.read_csv(L_pcp_rtu_path, sep=',', index_col=0) # , skiprows=1\n",
    "L_pcp_rtu.index = pd.to_datetime(L_pcp_rtu.index, format='%Y-%m-%d %H:%M:%S') # - pd.DateOffset(hours=1)"
   ]
  },
  {
   "cell_type": "code",
   "execution_count": 5,
   "metadata": {},
   "outputs": [],
   "source": [
    "lhg_rtu = pd.read_csv(lhg_rtu_path, sep=',', index_col=0) # , skiprows=1\n",
    "lhg_rtu.index = pd.to_datetime(lhg_rtu.index, format='%Y-%m-%d %H:%M:%S') + pd.DateOffset(hours=1)"
   ]
  },
  {
   "cell_type": "code",
   "execution_count": 6,
   "metadata": {},
   "outputs": [],
   "source": [
    "# # Ausreißer manuell auf np.nan setzen\n",
    "# WS100_rtu['precipitation.1'][WS100_rtu['precipitation.1'] == WS100_rtu['precipitation.1'].max()] = np.nan\n",
    "\n",
    "# WS100_rtu['precipitation.2'][WS100_rtu['precipitation.2'] == WS100_rtu['precipitation.2'].max()] = np.nan\n",
    "# WS100_rtu['precipitation.2'][WS100_rtu['precipitation.2'] == WS100_rtu['precipitation.2'].max()] = np.nan\n",
    "\n",
    "# L_pcp_rtu['rr_10'][L_pcp_rtu['rr_10'] == L_pcp_rtu['rr_10'].max()] = np.nan\n",
    "# L_pcp_rtu['rr_10'][L_pcp_rtu['rr_10'] == L_pcp_rtu['rr_10'].max()] = np.nan"
   ]
  },
  {
   "cell_type": "code",
   "execution_count": 7,
   "metadata": {},
   "outputs": [],
   "source": [
    "# precipitation_type für WS100\n",
    "\n",
    "# 0 = No precipitation\n",
    "# 60 = Liquid precipitation, e.g. rain\n",
    "# 70 = Solid precipitation, e.g. snow\n",
    "# 40 = unspecified precipitation\n",
    "# (WS401-UMB, WS601-UMB, external\n",
    "# rain gauge)\n",
    "# WS100-UMB only:\n",
    "# 67 = freezing rain\n",
    "# 69 = sleet\n",
    "# 90 = hail"
   ]
  },
  {
   "cell_type": "code",
   "execution_count": 8,
   "metadata": {},
   "outputs": [],
   "source": [
    "# nan Auswertung"
   ]
  },
  {
   "cell_type": "code",
   "execution_count": 9,
   "metadata": {},
   "outputs": [
    {
     "name": "stdout",
     "output_type": "stream",
     "text": [
      "WS100\n",
      "count of nans: 8 \n",
      "length of data: 1051019 \n",
      "Ratio of nan/nonan: 0.0 %\n",
      "count of nans: 8 \n",
      "length of data: 1051019 \n",
      "Ratio of nan/nonan: 0.0 %\n",
      "\n",
      "\n",
      "WS300\n",
      "count of nans: 493811 \n",
      "length of data: 1575142 \n",
      "Ratio of nan/nonan: 31.35 %\n",
      "\n",
      "\n",
      "Raine\n",
      "count of nans: 193 \n",
      "length of data: 772077 \n",
      "Ratio of nan/nonan: 0.02 %\n",
      "\n",
      "\n",
      "L_pcp\n",
      "count of nans: 2660 \n",
      "length of data: 2266560 \n",
      "Ratio of nan/nonan: 0.12 %\n",
      "count of nans: 2660 \n",
      "length of data: 2266560 \n",
      "Ratio of nan/nonan: 0.12 %\n",
      "count of nans: 2660 \n",
      "length of data: 2266560 \n",
      "Ratio of nan/nonan: 0.12 %\n"
     ]
    }
   ],
   "source": [
    "print('WS100')\n",
    "fct.nan_nonan_ratio(WS100_rtu, 'precipitation.1')\n",
    "fct.nan_nonan_ratio(WS100_rtu, 'precipitation.2')\n",
    "print('\\n')\n",
    "print('WS300')\n",
    "fct.nan_nonan_ratio(WS300_rtu, 'precipitation.1')\n",
    "print('\\n')\n",
    "print('Raine')\n",
    "fct.nan_nonan_ratio(Raine_rtu, 'Niederschlagsmenge')\n",
    "print('\\n')\n",
    "print('L_pcp')\n",
    "fct.nan_nonan_ratio(L_pcp_rtu, 'rr_07')\n",
    "fct.nan_nonan_ratio(L_pcp_rtu, 'rr_09')\n",
    "fct.nan_nonan_ratio(L_pcp_rtu, 'rr_10')"
   ]
  },
  {
   "cell_type": "code",
   "execution_count": 10,
   "metadata": {},
   "outputs": [
    {
     "name": "stdout",
     "output_type": "stream",
     "text": [
      "{'precipitation.1': 3}\n",
      "{'precipitation.2': 3}\n",
      "\n",
      "\n",
      "{'precipitation.1': 493798}\n",
      "\n",
      "\n",
      "{'Niederschlagsmenge': 159}\n",
      "\n",
      "\n",
      "{'rr_07': 1390}\n",
      "{'rr_09': 1390}\n",
      "{'rr_10': 1390}\n"
     ]
    }
   ],
   "source": [
    "x = fct.longest_nan_sequence(WS100_rtu, 'precipitation.1')\n",
    "print(x)\n",
    "x = fct.longest_nan_sequence(WS100_rtu, 'precipitation.2')\n",
    "print(x)\n",
    "print('\\n')\n",
    "x = fct.longest_nan_sequence(WS300_rtu, 'precipitation.1')\n",
    "print(x)\n",
    "print('\\n')\n",
    "x = fct.longest_nan_sequence(Raine_rtu, 'Niederschlagsmenge')\n",
    "print(x)\n",
    "print('\\n')\n",
    "x = fct.longest_nan_sequence(L_pcp_rtu, 'rr_07')\n",
    "print(x)\n",
    "x = fct.longest_nan_sequence(L_pcp_rtu, 'rr_09')\n",
    "print(x)\n",
    "x = fct.longest_nan_sequence(L_pcp_rtu, 'rr_10')\n",
    "print(x)\n"
   ]
  },
  {
   "cell_type": "code",
   "execution_count": 11,
   "metadata": {},
   "outputs": [],
   "source": [
    "def list_nan_sequences(dataframe, column, min_len):\n",
    "\n",
    "    dataframe = dataframe\n",
    "    dataframe_mask = dataframe.isna()\n",
    "    column = column\n",
    "\n",
    "    list = []\n",
    "\n",
    "    count = 0\n",
    "    index_count = 0\n",
    "\n",
    "    for value in dataframe_mask[column]:\n",
    "        if value == True:\n",
    "            if count == 0:    \n",
    "                index_start = dataframe[column].index[index_count]\n",
    "                count += 1\n",
    "            else:\n",
    "                count += 1\n",
    "                if dataframe[column].index[index_count] == dataframe[column].index[-1]:\n",
    "                    index_end = dataframe[column].index[index_count]\n",
    "                    if count < min_len:\n",
    "                        pass\n",
    "                    else:\n",
    "                        list.append([count, index_start, index_end])\n",
    "\n",
    "        else:\n",
    "            if count == 0:\n",
    "                pass\n",
    "            else:\n",
    "                index_end = dataframe[column].index[index_count - 1]\n",
    "                if count < min_len:\n",
    "                    pass\n",
    "                else:\n",
    "                    list.append([count, index_start, index_end])\n",
    "                count = 0\n",
    "        index_count += 1\n",
    "\n",
    "    print('Count of nan sequences with min len ' + str(min_len) + ':', len(list))\n",
    "\n",
    "    return list"
   ]
  },
  {
   "cell_type": "code",
   "execution_count": 12,
   "metadata": {},
   "outputs": [
    {
     "name": "stdout",
     "output_type": "stream",
     "text": [
      "Count of nan sequences with min len 0: 4\n",
      "[[2, Timestamp('2021-11-05 08:31:00'), Timestamp('2021-11-05 08:32:00')], [1, Timestamp('2021-11-05 08:43:00'), Timestamp('2021-11-05 08:43:00')], [3, Timestamp('2022-11-03 11:10:00'), Timestamp('2022-11-03 11:12:00')], [2, Timestamp('2022-11-21 16:21:00'), Timestamp('2022-11-21 16:22:00')]]\n",
      "Count of nan sequences with min len 0: 8\n",
      "[[3, Timestamp('2021-02-24 08:00:00'), Timestamp('2021-02-24 08:06:00')], [2, Timestamp('2021-04-29 11:30:00'), Timestamp('2021-04-29 12:00:00')], [1, Timestamp('2021-09-16 14:59:00'), Timestamp('2021-09-16 14:59:00')], [1, Timestamp('2021-09-27 09:42:00'), Timestamp('2021-09-27 09:42:00')], [2, Timestamp('2021-11-05 08:31:00'), Timestamp('2021-11-05 08:32:00')], [1, Timestamp('2021-11-05 08:43:00'), Timestamp('2021-11-05 08:43:00')], [3, Timestamp('2022-11-03 11:10:00'), Timestamp('2022-11-03 11:12:00')], [493798, Timestamp('2022-11-14 10:49:00'), Timestamp('2023-10-23 08:46:00')]]\n",
      "Count of nan sequences with min len 0: 3\n",
      "[[32, Timestamp('2022-11-03 11:46:00'), Timestamp('2022-11-03 12:18:00')], [159, Timestamp('2022-11-21 12:14:00'), Timestamp('2022-11-21 14:52:00')], [2, Timestamp('2022-11-21 16:21:00'), Timestamp('2022-11-21 16:22:00')]]\n",
      "Count of nan sequences with min len 5: 9\n",
      "[[36, Timestamp('2020-05-13 12:49:00'), Timestamp('2020-05-13 13:24:00')], [5, Timestamp('2020-05-13 13:26:00'), Timestamp('2020-05-13 13:30:00')], [5, Timestamp('2020-07-30 11:55:00'), Timestamp('2020-07-30 11:59:00')], [6, Timestamp('2020-07-31 00:16:00'), Timestamp('2020-07-31 00:21:00')], [10, Timestamp('2020-07-31 01:35:00'), Timestamp('2020-07-31 01:44:00')], [5, Timestamp('2020-07-31 03:02:00'), Timestamp('2020-07-31 03:06:00')], [17, Timestamp('2020-07-31 03:08:00'), Timestamp('2020-07-31 03:24:00')], [1150, Timestamp('2020-07-31 16:30:00'), Timestamp('2020-08-01 11:39:00')], [1390, Timestamp('2021-06-15 09:51:00'), Timestamp('2021-06-16 09:00:00')]]\n",
      "Count of nan sequences with min len 5: 9\n",
      "[[36, Timestamp('2020-05-13 12:49:00'), Timestamp('2020-05-13 13:24:00')], [5, Timestamp('2020-05-13 13:26:00'), Timestamp('2020-05-13 13:30:00')], [5, Timestamp('2020-07-30 11:55:00'), Timestamp('2020-07-30 11:59:00')], [6, Timestamp('2020-07-31 00:16:00'), Timestamp('2020-07-31 00:21:00')], [10, Timestamp('2020-07-31 01:35:00'), Timestamp('2020-07-31 01:44:00')], [5, Timestamp('2020-07-31 03:02:00'), Timestamp('2020-07-31 03:06:00')], [17, Timestamp('2020-07-31 03:08:00'), Timestamp('2020-07-31 03:24:00')], [1150, Timestamp('2020-07-31 16:30:00'), Timestamp('2020-08-01 11:39:00')], [1390, Timestamp('2021-06-15 09:51:00'), Timestamp('2021-06-16 09:00:00')]]\n",
      "Count of nan sequences with min len 5: 9\n",
      "[[36, Timestamp('2020-05-13 12:49:00'), Timestamp('2020-05-13 13:24:00')], [5, Timestamp('2020-05-13 13:26:00'), Timestamp('2020-05-13 13:30:00')], [5, Timestamp('2020-07-30 11:55:00'), Timestamp('2020-07-30 11:59:00')], [6, Timestamp('2020-07-31 00:16:00'), Timestamp('2020-07-31 00:21:00')], [10, Timestamp('2020-07-31 01:35:00'), Timestamp('2020-07-31 01:44:00')], [5, Timestamp('2020-07-31 03:02:00'), Timestamp('2020-07-31 03:06:00')], [17, Timestamp('2020-07-31 03:08:00'), Timestamp('2020-07-31 03:24:00')], [1150, Timestamp('2020-07-31 16:30:00'), Timestamp('2020-08-01 11:39:00')], [1390, Timestamp('2021-06-15 09:51:00'), Timestamp('2021-06-16 09:00:00')]]\n"
     ]
    }
   ],
   "source": [
    "print(list_nan_sequences(WS100_rtu, 'precipitation.1', 0))\n",
    "print(list_nan_sequences(WS300_rtu, 'precipitation.1', 0))\n",
    "print(list_nan_sequences(Raine_rtu, 'Niederschlagsmenge', 0))\n",
    "print(list_nan_sequences(L_pcp_rtu, 'rr_07', 5))\n",
    "print(list_nan_sequences(L_pcp_rtu, 'rr_09', 5))\n",
    "print(list_nan_sequences(L_pcp_rtu, 'rr_10', 5))"
   ]
  },
  {
   "cell_type": "code",
   "execution_count": 13,
   "metadata": {},
   "outputs": [],
   "source": [
    "def i_nans_before_peak(data, station, quantile):\n",
    "\n",
    "    # if y == 'pr':\n",
    "    #     timegap = datetime.timedelta(hours=1)\n",
    "    # elif y == 'sc':\n",
    "    #     timegap = datetime.timedelta(minutes=5)\n",
    "\n",
    "    timegap = datetime.timedelta(minutes=1)\n",
    "\n",
    "    dataframe = data[station]\n",
    "\n",
    "    peaks = dataframe[dataframe > dataframe.quantile(quantile)]\n",
    "    \n",
    "    for index_peak in peaks.index:\n",
    "        count = 0\n",
    "        for i in reversed(dataframe.loc[: index_peak - timegap].isna()):\n",
    "            if i == True:\n",
    "                count += 1\n",
    "            else:\n",
    "                if count > 0:\n",
    "                    print(count, 'leading nans before', index_peak)\n",
    "                    break\n",
    "                else:\n",
    "                    # print('no leading nans before', index_peak)\n",
    "                    break      \n",
    "    return"
   ]
  },
  {
   "cell_type": "code",
   "execution_count": 14,
   "metadata": {},
   "outputs": [],
   "source": [
    "# print(i_nans_before_peak(WS100_rtu, 'precipitation.1', 0.9))"
   ]
  },
  {
   "cell_type": "code",
   "execution_count": 15,
   "metadata": {},
   "outputs": [],
   "source": [
    "# print(i_nans_before_peak(WS300_rtu, 'precipitation.1', 0.9))"
   ]
  },
  {
   "cell_type": "code",
   "execution_count": 16,
   "metadata": {},
   "outputs": [],
   "source": [
    "# print(i_nans_before_peak(Raine_rtu, 'Niederschlagsmenge', 0.9))"
   ]
  },
  {
   "cell_type": "code",
   "execution_count": 17,
   "metadata": {},
   "outputs": [],
   "source": [
    "# print(i_nans_before_peak(L_pcp_rtu, 'rr_07', 0.9))\n",
    "# print(i_nans_before_peak(L_pcp_rtu, 'rr_09', 0.9))\n",
    "# print(i_nans_before_peak(L_pcp_rtu, 'rr_10', 0.9))"
   ]
  },
  {
   "cell_type": "code",
   "execution_count": 18,
   "metadata": {},
   "outputs": [],
   "source": [
    "def list_nan_sequences(dataframe, column, min_len):\n",
    "\n",
    "    dataframe = dataframe\n",
    "    dataframe_mask = dataframe.isna()\n",
    "    column = column\n",
    "\n",
    "    list = []\n",
    "\n",
    "    count = 0\n",
    "    index_count = 0\n",
    "\n",
    "    for value in dataframe_mask[column]:\n",
    "        if value == True:\n",
    "            if count == 0:    \n",
    "                index_start = dataframe[column].index[index_count]\n",
    "                count += 1\n",
    "            else:\n",
    "                count += 1\n",
    "                if dataframe[column].index[index_count] == dataframe[column].index[-1]:\n",
    "                    index_end = dataframe[column].index[index_count]\n",
    "                    if count < min_len:\n",
    "                        pass\n",
    "                    else:\n",
    "                        list.append(count) # , index_start, index_end])\n",
    "\n",
    "        else:\n",
    "            if count == 0:\n",
    "                pass\n",
    "            else:\n",
    "                index_end = dataframe[column].index[index_count - 1]\n",
    "                if count < min_len:\n",
    "                    pass\n",
    "                else:\n",
    "                    list.append(count) # , index_start, index_end])\n",
    "                count = 0\n",
    "        index_count += 1\n",
    "\n",
    "    print('Count of nan sequences with min len ' + str(min_len) + ':', len(list))\n",
    "    Counter(list)\n",
    "\n",
    "    return list"
   ]
  },
  {
   "cell_type": "code",
   "execution_count": 49,
   "metadata": {},
   "outputs": [
    {
     "name": "stdout",
     "output_type": "stream",
     "text": [
      "Count of nan sequences with min len 1: 4\n",
      "Count of nan sequences with min len 1: 8\n",
      "Count of nan sequences with min len 1: 3\n",
      "Count of nan sequences with min len 1: 32\n",
      "Count of nan sequences with min len 1: 32\n",
      "Count of nan sequences with min len 1: 32\n"
     ]
    }
   ],
   "source": [
    "WS100_list = list_nan_sequences(WS100_rtu, 'precipitation.1', 1)\n",
    "WS300_list = list_nan_sequences(WS300_rtu, 'precipitation.1', 1)\n",
    "Raine_list = list_nan_sequences(Raine_rtu, 'Niederschlagsmenge', 1)\n",
    "rr07_list = list_nan_sequences(L_pcp_rtu, 'rr_07', 1)\n",
    "rr09_list = list_nan_sequences(L_pcp_rtu, 'rr_09', 1)\n",
    "rr10_list = list_nan_sequences(L_pcp_rtu, 'rr_10', 1)"
   ]
  },
  {
   "cell_type": "code",
   "execution_count": 50,
   "metadata": {},
   "outputs": [
    {
     "name": "stdout",
     "output_type": "stream",
     "text": [
      "Count of nan sequences with min len 1: 8959\n",
      "Count of nan sequences with min len 1: 8729\n",
      "Count of nan sequences with min len 1: 385\n",
      "Count of nan sequences with min len 1: 7281\n",
      "Count of nan sequences with min len 1: 5623\n"
     ]
    }
   ],
   "source": [
    "lhg05_list = list_nan_sequences(lhg_rtu, 'lhg05', 1)\n",
    "lhg07_list = list_nan_sequences(lhg_rtu, 'lhg07', 1)\n",
    "lhg09_list = list_nan_sequences(lhg_rtu, 'lhg09', 1)\n",
    "lhg10_list = list_nan_sequences(lhg_rtu, 'lhg10', 1)\n",
    "lhg11_list = list_nan_sequences(lhg_rtu, 'lhg11', 1)"
   ]
  },
  {
   "cell_type": "code",
   "execution_count": 27,
   "metadata": {},
   "outputs": [],
   "source": [
    "counter = Counter(x)"
   ]
  },
  {
   "cell_type": "code",
   "execution_count": 28,
   "metadata": {},
   "outputs": [],
   "source": [
    "a, b = np.unique(x, return_counts=True)"
   ]
  },
  {
   "cell_type": "code",
   "execution_count": 51,
   "metadata": {},
   "outputs": [],
   "source": [
    "# counter"
   ]
  },
  {
   "cell_type": "code",
   "execution_count": 30,
   "metadata": {},
   "outputs": [
    {
     "data": {
      "text/plain": [
       "1"
      ]
     },
     "execution_count": 30,
     "metadata": {},
     "output_type": "execute_result"
    }
   ],
   "source": [
    "counter[17]"
   ]
  },
  {
   "cell_type": "code",
   "execution_count": 31,
   "metadata": {},
   "outputs": [],
   "source": [
    "x_log = np.log(x)"
   ]
  },
  {
   "cell_type": "code",
   "execution_count": 52,
   "metadata": {},
   "outputs": [],
   "source": [
    "# x_log"
   ]
  },
  {
   "cell_type": "code",
   "execution_count": 96,
   "metadata": {},
   "outputs": [],
   "source": [
    "# np.percentile(x, 94)"
   ]
  },
  {
   "cell_type": "code",
   "execution_count": 36,
   "metadata": {},
   "outputs": [
    {
     "name": "stdout",
     "output_type": "stream",
     "text": [
      "Absolute Frequencies:  {1: 15, 2: 4, 3: 3, 4: 1, 5: 3, 6: 1, 10: 1, 17: 1, 36: 1, 1150: 1, 1390: 1}\n",
      "Relative Frequencies:  {1: 0.46875, 2: 0.125, 3: 0.09375, 4: 0.03125, 5: 0.09375, 6: 0.03125, 10: 0.03125, 17: 0.03125, 36: 0.03125, 1150: 0.03125, 1390: 0.03125}\n"
     ]
    }
   ],
   "source": [
    "absolute_frequencies = np.unique(x, return_counts=True)\n",
    "\n",
    "# Berechnen Sie die relative Häufigkeit jeder Kategorie\n",
    "relative_frequencies = absolute_frequencies[1] / len(x)\n",
    "\n",
    "print(\"Absolute Frequencies: \", dict(zip(absolute_frequencies[0], absolute_frequencies[1])))\n",
    "print(\"Relative Frequencies: \", dict(zip(absolute_frequencies[0], relative_frequencies)))"
   ]
  },
  {
   "cell_type": "code",
   "execution_count": 102,
   "metadata": {},
   "outputs": [
    {
     "data": {
      "image/png": "[encoded data removed]",
      "text/plain": [
       "<Figure size 640x480 with 1 Axes>"
      ]
     },
     "metadata": {},
     "output_type": "display_data"
    }
   ],
   "source": [
    "fig, ax = plt.subplots()\n",
    "\n",
    "station = lhg05_list\n",
    "\n",
    "absolute_frequencies = np.unique(station, return_counts=True)\n",
    "\n",
    "bins = np.logspace(np.log10(min(station)), np.log10(max(station)), num=50)\n",
    "\n",
    "ax.hist(station, bins=bins, linewidth=0.5, edgecolor=\"white\")\n",
    "\n",
    "plt.xscale('log')\n",
    "ticks = [10**i for i in range(6)]  # Erzeugt eine Liste [1, 10, 100, 1000]\n",
    "plt.xticks(ticks, labels=ticks)  # Setzt die x-Achsenwerte und -Beschriftungen\n",
    "\n",
    "plt.yscale('log')\n",
    "ticks = [10**i for i in range(6)]  # Erzeugt eine Liste [1, 10, 100, 1000]\n",
    "plt.yticks(ticks, labels=ticks)  # Setzt die x-Achsenwerte und -Beschriftungen\n",
    "\n",
    "# ax.set(xlim=(0, max(absolute_frequencies[0])),\n",
    "#        ylim=(0, max(absolute_frequencies[1])))\n",
    "\n",
    "plt.xlabel('Länge der nan-Sequenz')\n",
    "plt.ylabel('Vorkommen der Länge')\n",
    "plt.title('Vorkommen der Länge der nan-Sequenzen')\n",
    "\n",
    "plt.show()"
   ]
  },
  {
   "cell_type": "code",
   "execution_count": null,
   "metadata": {},
   "outputs": [],
   "source": [
    "# absolute_frequencies[0]: Lückenlänge\n",
    "# absolute_frequencies[1]: Anzahl der Lücken dieser Länge"
   ]
  },
  {
   "cell_type": "code",
   "execution_count": 108,
   "metadata": {},
   "outputs": [
    {
     "data": {
      "image/png": "[encoded data removed]",
      "text/plain": [
       "<Figure size 640x480 with 1 Axes>"
      ]
     },
     "metadata": {},
     "output_type": "display_data"
    }
   ],
   "source": [
    "# make the data\n",
    "\n",
    "station = lhg05_list\n",
    "\n",
    "absolute_frequencies = np.unique(station, return_counts=True)\n",
    "\n",
    "x = absolute_frequencies[0]\n",
    "y = absolute_frequencies[1]\n",
    "\n",
    "# size and color:\n",
    "# sizes = np.random.uniform(15, 80, len(x))\n",
    "# colors = np.random.uniform(15, 80, len(x))\n",
    "\n",
    "# plot\n",
    "fig, ax = plt.subplots()\n",
    "\n",
    "ax.scatter(x, y, marker='.', alpha=0.5, edgecolors='none', s=100)\n",
    "\n",
    "plt.xscale('log')\n",
    "ticks = [10**i for i in range(5)]  # Erzeugt eine Liste [1, 10, 100, 1000]\n",
    "plt.xticks(ticks, labels=ticks)  # Setzt die x-Achsenwerte und -Beschriftungen\n",
    "\n",
    "plt.yscale('log')\n",
    "plt.yticks(ticks, labels=ticks)  # Setzt die y-Achsenwerte und -Beschriftungen\n",
    "\n",
    "plt.xlabel('Länge der nan-Sequenz')\n",
    "plt.ylabel('Vorkommen der Länge')\n",
    "plt.title('Vorkommen der Länge der nan-Sequenzen')\n",
    "\n",
    "plt.show()\n"
   ]
  },
  {
   "cell_type": "code",
   "execution_count": 113,
   "metadata": {},
   "outputs": [],
   "source": [
    "station = lhg05_list\n",
    "\n",
    "absolute_frequencies = np.unique(station, return_counts=True)\n",
    "\n",
    "x = absolute_frequencies[0]\n",
    "y = absolute_frequencies[1]\n",
    "\n",
    "# absolute_frequencies"
   ]
  },
  {
   "cell_type": "code",
   "execution_count": 121,
   "metadata": {},
   "outputs": [],
   "source": [
    "groups_längen = [absolute_frequencies[0][i:i+10] for i in range(0, len(absolute_frequencies[0]), 10)]"
   ]
  },
  {
   "cell_type": "code",
   "execution_count": 131,
   "metadata": {},
   "outputs": [
    {
     "data": {
      "text/plain": [
       "[array([ 1,  2,  3,  4,  5,  6,  7,  8,  9, 10]),\n",
       " array([11, 12, 13, 14, 15, 16, 17, 18, 19, 20]),\n",
       " array([21, 22, 23, 24, 25, 26, 27, 28, 29, 30]),\n",
       " array([31, 32, 33, 34, 35, 36, 37, 38, 39, 40]),\n",
       " array([41, 42, 43, 45, 46, 47, 48, 49, 50, 51]),\n",
       " array([52, 53, 54, 55, 56, 58, 59, 60, 61, 62]),\n",
       " array([63, 64, 65, 66, 67, 69, 70, 71, 72, 73]),\n",
       " array([74, 75, 79, 81, 82, 83, 84, 85, 86, 87]),\n",
       " array([ 88,  89,  90,  91,  93,  96,  98, 100, 101, 102]),\n",
       " array([104, 105, 106, 107, 108, 109, 110, 111, 112, 113]),\n",
       " array([114, 115, 116, 117, 118, 120, 121, 122, 124, 125]),\n",
       " array([126, 127, 128, 129, 130, 132, 133, 134, 135, 136]),\n",
       " array([137, 138, 139, 140, 141, 143, 144, 145, 146, 152]),\n",
       " array([154, 155, 158, 163, 165, 166, 168, 170, 171, 172]),\n",
       " array([173, 179, 180, 181, 183, 184, 186, 190, 191, 194]),\n",
       " array([197, 202, 206, 218, 237, 253, 267, 268, 271, 288]),\n",
       " array([300, 311, 330, 350, 354, 356, 362, 370, 410, 489]),\n",
       " array([ 496,  509,  579,  582,  718,  750,  812,  853, 1063, 1283]),\n",
       " array([1990, 2319, 3907])]"
      ]
     },
     "execution_count": 131,
     "metadata": {},
     "output_type": "execute_result"
    }
   ],
   "source": [
    "groups_längen"
   ]
  },
  {
   "cell_type": "code",
   "execution_count": 123,
   "metadata": {},
   "outputs": [],
   "source": [
    "groups_vorkommen = [absolute_frequencies[1][i:i+10] for i in range(0, len(absolute_frequencies[1]), 10)]"
   ]
  },
  {
   "cell_type": "code",
   "execution_count": 125,
   "metadata": {},
   "outputs": [],
   "source": [
    "groups_vorkommen_sums = [sum(group) for group in groups_vorkommen]"
   ]
  },
  {
   "cell_type": "code",
   "execution_count": 126,
   "metadata": {},
   "outputs": [
    {
     "name": "stdout",
     "output_type": "stream",
     "text": [
      "[8252, 254, 91, 71, 54, 35, 23, 20, 18, 27, 28, 15, 13, 12, 12, 11, 10, 10, 3]\n"
     ]
    }
   ],
   "source": [
    "print(groups_vorkommen_sums)"
   ]
  },
  {
   "cell_type": "code",
   "execution_count": 109,
   "metadata": {},
   "outputs": [
    {
     "data": {
      "image/png": "[encoded data removed]",
      "text/plain": [
       "<Figure size 640x480 with 1 Axes>"
      ]
     },
     "metadata": {},
     "output_type": "display_data"
    }
   ],
   "source": [
    "# make the data\n",
    "\n",
    "station = lhg05_list\n",
    "\n",
    "absolute_frequencies = np.unique(station, return_counts=True)\n",
    "\n",
    "x = absolute_frequencies[0]\n",
    "y = absolute_frequencies[1]\n",
    "\n",
    "# size and color:\n",
    "# sizes = np.random.uniform(15, 80, len(x))\n",
    "# colors = np.random.uniform(15, 80, len(x))\n",
    "\n",
    "# plot\n",
    "fig, ax = plt.subplots()\n",
    "\n",
    "ax.scatter(x, y, marker='.', alpha=0.5, edgecolors='none', s=100)\n",
    "\n",
    "plt.xscale('log')\n",
    "ticks = [10**i for i in range(5)]  # Erzeugt eine Liste [1, 10, 100, 1000]\n",
    "plt.xticks(ticks, labels=ticks)  # Setzt die x-Achsenwerte und -Beschriftungen\n",
    "\n",
    "plt.yscale('log')\n",
    "plt.yticks(ticks, labels=ticks)  # Setzt die y-Achsenwerte und -Beschriftungen\n",
    "\n",
    "plt.xlabel('Länge der nan-Sequenz')\n",
    "plt.ylabel('Vorkommen der Länge')\n",
    "plt.title('Vorkommen der Länge der nan-Sequenzen')\n",
    "\n",
    "plt.show()\n"
   ]
  },
  {
   "cell_type": "code",
   "execution_count": 142,
   "metadata": {},
   "outputs": [
    {
     "name": "stdout",
     "output_type": "stream",
     "text": [
      "1 < x < 10 : 8452\n",
      "10 < x < 100 : 17433\n",
      "100 < x < 1000 : 26302\n",
      "1000 < x < 10000 : 10562\n",
      "10000 < x < 100000 : 0\n"
     ]
    }
   ],
   "source": [
    "for i in range(1, 6):\n",
    "    interval = f'{10**(i-1)} < x < {10**i}'\n",
    "    print(interval, ':', sum([x for x in lhg05_list if 10**(i-1) < x < 10**i]))"
   ]
  },
  {
   "cell_type": "code",
   "execution_count": null,
   "metadata": {},
   "outputs": [],
   "source": []
  }
 ],
 "metadata": {
  "kernelspec": {
   "display_name": "ts",
   "language": "python",
   "name": "python3"
  },
  "language_info": {
   "codemirror_mode": {
    "name": "ipython",
    "version": 3
   },
   "file_extension": ".py",
   "mimetype": "text/x-python",
   "name": "python",
   "nbconvert_exporter": "python",
   "pygments_lexer": "ipython3",
   "version": "3.10.8"
  }
 },
 "nbformat": 4,
 "nbformat_minor": 2
}
