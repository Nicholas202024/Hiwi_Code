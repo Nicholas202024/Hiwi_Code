{
 "cells": [
  {
   "cell_type": "code",
   "execution_count": 1,
   "metadata": {},
   "outputs": [],
   "source": [
    "# import packages\n",
    "import pandas as pd\n",
    "import matplotlib.pyplot as plt\n",
    "import os\n",
    "import numpy as np\n",
    "import datetime\n",
    "import functions_hiwi as fct"
   ]
  },
  {
   "cell_type": "code",
   "execution_count": 2,
   "metadata": {},
   "outputs": [],
   "source": [
    "main_dir = r'C:\\Users\\illic\\Python\\data_hiwi'"
   ]
  },
  {
   "cell_type": "code",
   "execution_count": 3,
   "metadata": {},
   "outputs": [],
   "source": [
    "# set paths to specific data\n",
    "WS100_rtu_path = os.path.join(main_dir, r'WS100_ready_to_use.csv')\n",
    "WS300_rtu_path = os.path.join(main_dir, r'WS300_ready_to_use.csv')\n",
    "Raine_rtu_path = os.path.join(main_dir, r'Raine_ready_to_use.csv')\n",
    "L_pcp_rtu_path = os.path.join(main_dir, r'L_pcp_ready_to_use.csv')"
   ]
  },
  {
   "cell_type": "code",
   "execution_count": 4,
   "metadata": {},
   "outputs": [],
   "source": [
    "# read data\n",
    "\n",
    "# read data and convert to utc\n",
    "WS100_rtu = pd.read_csv(WS100_rtu_path, sep=',', index_col=0) # , skiprows=1\n",
    "WS100_rtu.index = pd.to_datetime(WS100_rtu.index, format='%Y-%m-%d %H:%M:%S') # - pd.DateOffset(hours=1)\n",
    "\n",
    "WS300_rtu = pd.read_csv(WS300_rtu_path, sep=',', index_col=0) # , skiprows=1\n",
    "WS300_rtu.index = pd.to_datetime(WS300_rtu.index, format='%Y-%m-%d %H:%M:%S') # - pd.DateOffset(hours=1)\n",
    "\n",
    "Raine_rtu = pd.read_csv(Raine_rtu_path, sep=',', index_col=0) # , skiprows=1\n",
    "Raine_rtu.index = pd.to_datetime(Raine_rtu.index, format='%Y-%m-%d %H:%M:%S') # - pd.DateOffset(hours=1)\n",
    "\n",
    "L_pcp_rtu = pd.read_csv(L_pcp_rtu_path, sep=',', index_col=0) # , skiprows=1\n",
    "L_pcp_rtu.index = pd.to_datetime(L_pcp_rtu.index, format='%Y-%m-%d %H:%M:%S') # - pd.DateOffset(hours=1)"
   ]
  },
  {
   "cell_type": "code",
   "execution_count": 5,
   "metadata": {},
   "outputs": [],
   "source": [
    "# Ausreißer manuell auf np.nan setzen\n",
    "WS100_rtu['precipitation.1'][WS100_rtu['precipitation.1'] == WS100_rtu['precipitation.1'].max()] = np.nan\n",
    "\n",
    "WS100_rtu['precipitation.2'][WS100_rtu['precipitation.2'] == WS100_rtu['precipitation.2'].max()] = np.nan\n",
    "WS100_rtu['precipitation.2'][WS100_rtu['precipitation.2'] == WS100_rtu['precipitation.2'].max()] = np.nan\n",
    "\n",
    "L_pcp_rtu['rr_10'][L_pcp_rtu['rr_10'] == L_pcp_rtu['rr_10'].max()] = np.nan\n",
    "L_pcp_rtu['rr_10'][L_pcp_rtu['rr_10'] == L_pcp_rtu['rr_10'].max()] = np.nan"
   ]
  },
  {
   "cell_type": "code",
   "execution_count": 6,
   "metadata": {},
   "outputs": [],
   "source": [
    "# precipitation_type für WS100\n",
    "\n",
    "# 0 = No precipitation\n",
    "# 60 = Liquid precipitation, e.g. rain\n",
    "# 70 = Solid precipitation, e.g. snow\n",
    "# 40 = unspecified precipitation\n",
    "# (WS401-UMB, WS601-UMB, external\n",
    "# rain gauge)\n",
    "# WS100-UMB only:\n",
    "# 67 = freezing rain\n",
    "# 69 = sleet\n",
    "# 90 = hail"
   ]
  },
  {
   "cell_type": "code",
   "execution_count": 7,
   "metadata": {},
   "outputs": [],
   "source": [
    "WS100_rtu_1M = fct.resampleDf(WS100_rtu, '1M', max_nan=2)"
   ]
  },
  {
   "cell_type": "code",
   "execution_count": 8,
   "metadata": {},
   "outputs": [],
   "source": [
    "# dataframe = L_pcp_rtu_1M\n",
    "# column = 'rr_07'\n",
    "# name = 'rr_07 1M Resample'\n",
    "\n",
    "# fig, ax = plt.subplots(figsize=(10, 5))\n",
    "\n",
    "# ax.bar(dataframe.index, dataframe[column], width=20, align='edge')\n",
    "\n",
    "# ax.set_title(name)\n",
    "# ax.set_xlabel('DateTime')\n",
    "# ax.set_ylabel('Precipitation in [mm]')\n",
    "\n",
    "# timedelta = dataframe.index[2] - dataframe.index[1]\n",
    "\n",
    "# if timedelta == datetime.timedelta(days=30) or timedelta == datetime.timedelta(days=31) or timedelta == datetime.timedelta(days=28) or timedelta == datetime.timedelta(days=29):\n",
    "#     plt.xticks(dataframe.index[::3], rotation=45)\n",
    "# else:\n",
    "#     plt.xticks(dataframe.index, rotation=45)\n",
    "    \n",
    "# plt.yticks(rotation=45)\n",
    "\n",
    "# plt.show()"
   ]
  },
  {
   "cell_type": "code",
   "execution_count": 9,
   "metadata": {},
   "outputs": [],
   "source": [
    "WS100_rtu_3M = fct.resampleDf(WS100_rtu, '3M', leave_nan=False)"
   ]
  },
  {
   "cell_type": "code",
   "execution_count": 10,
   "metadata": {},
   "outputs": [],
   "source": [
    "WS100_rtu_6M = fct.resampleDf(WS100_rtu, '6M', leave_nan=False)"
   ]
  },
  {
   "cell_type": "code",
   "execution_count": 11,
   "metadata": {},
   "outputs": [],
   "source": [
    "WS100_rtu_1Y = fct.resampleDf(WS100_rtu, '1Y', leave_nan=False)"
   ]
  },
  {
   "cell_type": "code",
   "execution_count": 12,
   "metadata": {},
   "outputs": [],
   "source": [
    "def balkendiagramm(dataframe, column, name):\n",
    "\n",
    "    fig, ax = plt.subplots(figsize=(10, 5))\n",
    "\n",
    "    ax.bar(dataframe.index, dataframe[column], width=20, align='edge')\n",
    "\n",
    "    ax.set_title(name)\n",
    "    ax.set_xlabel('DateTime')\n",
    "    ax.set_ylabel('Precipitation in [mm]')\n",
    "\n",
    "    timedelta = dataframe.index[2] - dataframe.index[1]\n",
    "\n",
    "    if timedelta == datetime.timedelta(days=30) or timedelta == datetime.timedelta(days=31) or timedelta == datetime.timedelta(days=28) or timedelta == datetime.timedelta(days=29):\n",
    "        plt.xticks(dataframe.index[::3], rotation=45)\n",
    "    else:\n",
    "        plt.xticks(dataframe.index, rotation=45)\n",
    "\n",
    "    plt.yticks(rotation=45)\n",
    "\n",
    "    plt.show()\n",
    "    \n",
    "    return"
   ]
  },
  {
   "cell_type": "code",
   "execution_count": 13,
   "metadata": {},
   "outputs": [
    {
     "name": "stderr",
     "output_type": "stream",
     "text": [
      "C:\\Users\\illic\\AppData\\Local\\Temp\\ipykernel_15124\\3212098018.py:3: FutureWarning: Setting an item of incompatible dtype is deprecated and will raise in a future error of pandas. Value '' has dtype incompatible with float64, please explicitly cast to a compatible dtype first.\n",
      "  summen_WS100.fillna('', inplace=True)\n"
     ]
    }
   ],
   "source": [
    "summen_WS100 = pd.concat([WS100_rtu_1M['precipitation.1'], WS100_rtu_3M['precipitation.1'], WS100_rtu_6M['precipitation.1'], WS100_rtu_1Y['precipitation.1']], axis=1)\n",
    "summen_WS100.columns = ['1M', '3M', '6M', '1Y']\n",
    "summen_WS100.fillna('', inplace=True)"
   ]
  },
  {
   "cell_type": "code",
   "execution_count": 14,
   "metadata": {},
   "outputs": [],
   "source": [
    "# summen_WS100 # bis auf 1M Resample wurden die anderen Resamples mit leave_nan=False gemacht"
   ]
  },
  {
   "cell_type": "code",
   "execution_count": 15,
   "metadata": {},
   "outputs": [],
   "source": [
    "WS300_rtu_1M = fct.resampleDf(WS300_rtu, '1M', max_nan=2)\n",
    "WS300_rtu_3M = fct.resampleDf(WS300_rtu, '3M', leave_nan=False)\n",
    "WS300_rtu_6M = fct.resampleDf(WS300_rtu, '6M', leave_nan=False)\n",
    "WS300_rtu_1Y = fct.resampleDf(WS300_rtu, '1Y', leave_nan=False)"
   ]
  },
  {
   "cell_type": "code",
   "execution_count": 16,
   "metadata": {},
   "outputs": [
    {
     "name": "stderr",
     "output_type": "stream",
     "text": [
      "C:\\Users\\illic\\AppData\\Local\\Temp\\ipykernel_15124\\1589562735.py:3: FutureWarning: Setting an item of incompatible dtype is deprecated and will raise in a future error of pandas. Value '' has dtype incompatible with float64, please explicitly cast to a compatible dtype first.\n",
      "  summen_WS300.fillna('', inplace=True)\n"
     ]
    }
   ],
   "source": [
    "summen_WS300 = pd.concat([WS300_rtu_1M['precipitation.1'], WS300_rtu_3M['precipitation.1'], WS300_rtu_6M['precipitation.1'], WS300_rtu_1Y['precipitation.1']], axis=1)\n",
    "summen_WS300.columns = ['1M', '3M', '6M', '1Y']\n",
    "summen_WS300.fillna('', inplace=True)"
   ]
  },
  {
   "cell_type": "code",
   "execution_count": 17,
   "metadata": {},
   "outputs": [],
   "source": [
    "# summen_WS300"
   ]
  },
  {
   "cell_type": "code",
   "execution_count": 18,
   "metadata": {},
   "outputs": [],
   "source": [
    "Raine_rtu_1M = fct.resampleDf(Raine_rtu, '1M', max_nan=2)\n",
    "Raine_rtu_3M = fct.resampleDf(Raine_rtu, '3M', leave_nan=False)\n",
    "Raine_rtu_6M = fct.resampleDf(Raine_rtu, '6M', leave_nan=False)\n",
    "Raine_rtu_1Y = fct.resampleDf(Raine_rtu, '1Y', leave_nan=False)"
   ]
  },
  {
   "cell_type": "code",
   "execution_count": 19,
   "metadata": {},
   "outputs": [
    {
     "name": "stderr",
     "output_type": "stream",
     "text": [
      "C:\\Users\\illic\\AppData\\Local\\Temp\\ipykernel_15124\\2636199226.py:3: FutureWarning: Setting an item of incompatible dtype is deprecated and will raise in a future error of pandas. Value '' has dtype incompatible with float64, please explicitly cast to a compatible dtype first.\n",
      "  summe_Raine.fillna('', inplace=True)\n"
     ]
    }
   ],
   "source": [
    "summe_Raine = pd.concat([Raine_rtu_1M['Niederschlagsmenge'], Raine_rtu_3M['Niederschlagsmenge'], Raine_rtu_6M['Niederschlagsmenge'], Raine_rtu_1Y['Niederschlagsmenge']], axis=1)\n",
    "summe_Raine.columns = ['1M', '3M', '6M', '1Y']\n",
    "summe_Raine.fillna('', inplace=True)"
   ]
  },
  {
   "cell_type": "code",
   "execution_count": 20,
   "metadata": {},
   "outputs": [],
   "source": [
    "# summe_Raine"
   ]
  },
  {
   "cell_type": "code",
   "execution_count": 21,
   "metadata": {},
   "outputs": [],
   "source": [
    "L_pcp_rtu_1M = fct.resampleDf(L_pcp_rtu, '1M', max_nan=2)\n",
    "L_pcp_rtu_3M = fct.resampleDf(L_pcp_rtu, '3M', leave_nan=False)\n",
    "L_pcp_rtu_6M = fct.resampleDf(L_pcp_rtu, '6M', leave_nan=False)\n",
    "L_pcp_rtu_1Y = fct.resampleDf(L_pcp_rtu, '1Y', leave_nan=False)"
   ]
  },
  {
   "cell_type": "code",
   "execution_count": 22,
   "metadata": {},
   "outputs": [],
   "source": [
    "# L_pcp_rtu_1M"
   ]
  },
  {
   "cell_type": "code",
   "execution_count": 23,
   "metadata": {},
   "outputs": [
    {
     "name": "stderr",
     "output_type": "stream",
     "text": [
      "C:\\Users\\illic\\AppData\\Local\\Temp\\ipykernel_15124\\529363343.py:7: FutureWarning: Setting an item of incompatible dtype is deprecated and will raise in a future error of pandas. Value '' has dtype incompatible with float64, please explicitly cast to a compatible dtype first.\n",
      "  summe_L_pcp.fillna('', inplace=True)\n"
     ]
    }
   ],
   "source": [
    "summe_L_pcp = pd.concat([L_pcp_rtu_1M, L_pcp_rtu_3M, L_pcp_rtu_6M, L_pcp_rtu_1Y], axis=1)\n",
    "# summe_L_pcp.columns = ['', '1M', '', '', '3M', '', '', '6M', '', '', '1Y', '',]\n",
    "summe_L_pcp.columns = pd.MultiIndex.from_tuples([('', 'rr07'), ('1M', 'rr09'), ('', 'rr10'), \n",
    "                                                 ('', 'rr07'), ('3M', 'rr09'), ('', 'rr10'), \n",
    "                                                 ('', 'rr07'), ('6M', 'rr09'), ('', 'rr10'), \n",
    "                                                 ('', 'rr07'), ('1Y', 'rr09'), ('', 'rr10')])\n",
    "summe_L_pcp.fillna('', inplace=True)"
   ]
  },
  {
   "cell_type": "code",
   "execution_count": 24,
   "metadata": {},
   "outputs": [],
   "source": [
    "# summe_L_pcp"
   ]
  },
  {
   "cell_type": "code",
   "execution_count": 25,
   "metadata": {},
   "outputs": [],
   "source": [
    "summen_alle_Stationen = pd.concat([summen_WS100, summen_WS300, summe_Raine, summe_L_pcp], axis=1)"
   ]
  },
  {
   "cell_type": "code",
   "execution_count": 26,
   "metadata": {},
   "outputs": [],
   "source": [
    "# summen_alle_Stationen"
   ]
  },
  {
   "cell_type": "code",
   "execution_count": 27,
   "metadata": {},
   "outputs": [],
   "source": [
    "summen_WS100.to_csv(r'C:\\Users\\illic\\Python\\data_hiwi\\Summen\\summen_WS100.csv', sep=';')\n",
    "summen_WS300.to_csv(r'C:\\Users\\illic\\Python\\data_hiwi\\Summen\\summen_WS300.csv', sep=';')\n",
    "summe_Raine.to_csv(r'C:\\Users\\illic\\Python\\data_hiwi\\Summen\\summe_Raine.csv', sep=';')\n",
    "summe_L_pcp.to_csv(r'C:\\Users\\illic\\Python\\data_hiwi\\Summen\\summe_L_pcp.csv', sep=';')"
   ]
  },
  {
   "cell_type": "code",
   "execution_count": 28,
   "metadata": {},
   "outputs": [],
   "source": [
    "# Raine_rtu"
   ]
  },
  {
   "cell_type": "code",
   "execution_count": 29,
   "metadata": {},
   "outputs": [],
   "source": [
    "list_stations_columns = [[WS100_rtu_1M, 'precipitation.1', 'WS100 1M Resample'], \n",
    "                         [WS100_rtu_3M, 'precipitation.1', 'WS100 3M Resample'], \n",
    "                         [WS100_rtu_6M, 'precipitation.1', 'WS100 6M Resample'], \n",
    "                         [WS100_rtu_1Y, 'precipitation.1', 'WS100 1Y Resample'], \n",
    "                         [WS300_rtu_1M, 'precipitation.1', 'WS300 1M Resample'], \n",
    "                         [WS300_rtu_3M, 'precipitation.1', 'WS300 3M Resample'], \n",
    "                         [WS300_rtu_6M, 'precipitation.1', 'WS300 6M Resample'], \n",
    "                         [WS300_rtu_1Y, 'precipitation.1', 'WS300 1Y Resample'], \n",
    "                         [Raine_rtu_1M, 'Niederschlagsmenge', 'Raine 1M Resample'], \n",
    "                         [Raine_rtu_3M, 'Niederschlagsmenge', 'Raine 3M Resample'], \n",
    "                         [Raine_rtu_6M, 'Niederschlagsmenge', 'Raine 6M Resample'], \n",
    "                         [Raine_rtu_1Y, 'Niederschlagsmenge', 'Raine 1Y Resample'], \n",
    "                         [L_pcp_rtu_1M, 'rr_07', 'L_pcp rr_07 1M Resample'], \n",
    "                         [L_pcp_rtu_3M, 'rr_07', 'L_pcp rr_07 3M Resample'], \n",
    "                         [L_pcp_rtu_6M, 'rr_07', 'L_pcp rr_07 6M Resample'], \n",
    "                         [L_pcp_rtu_1Y, 'rr_07', 'L_pcp rr_07 1Y Resample'],  \n",
    "                         [L_pcp_rtu_1M, 'rr_09', 'L_pcp rr_09 1M Resample'], \n",
    "                         [L_pcp_rtu_3M, 'rr_09', 'L_pcp rr_09 3M Resample'], \n",
    "                         [L_pcp_rtu_6M, 'rr_09', 'L_pcp rr_09 6M Resample'], \n",
    "                         [L_pcp_rtu_1Y, 'rr_09', 'L_pcp rr_09 1Y Resample'], \n",
    "                         [L_pcp_rtu_1M, 'rr_10', 'L_pcp rr_10 1M Resample'], \n",
    "                         [L_pcp_rtu_3M, 'rr_10', 'L_pcp rr_10 3M Resample'], \n",
    "                         [L_pcp_rtu_6M, 'rr_10', 'L_pcp rr_10 6M Resample'], \n",
    "                         [L_pcp_rtu_1Y, 'rr_10', 'L_pcp rr_10 1Y Resample']]"
   ]
  },
  {
   "cell_type": "code",
   "execution_count": 30,
   "metadata": {},
   "outputs": [],
   "source": [
    "# for list in list_stations_columns:\n",
    "#     balkendiagramm(list[0], list[1], list[2])"
   ]
  },
  {
   "cell_type": "code",
   "execution_count": 31,
   "metadata": {},
   "outputs": [],
   "source": [
    "# Summenwerte der verschiedenen Stationen vergleichen"
   ]
  },
  {
   "cell_type": "code",
   "execution_count": 32,
   "metadata": {},
   "outputs": [],
   "source": [
    "# startindex WS100: 2021-10-20 17:00:00\t\n",
    "# endtindex WS100: 2023-10-20 16:21:00\t\n",
    "\n",
    "# startindex WS300: 2020-10-23 09:00:00\t\n",
    "# endtindex WS300: 2023-10-23 08:46:00\t\n",
    "\n",
    "# startindex Raine: 2022-11-03 11:46:00\t\n",
    "# endtindex Raine: 2024-04-22 17:13:00\t\n",
    "\n",
    "# startindex L_pcp: 2020-01-01 00:01:00\t\n",
    "# endtindex L_pcp: 2024-04-23 00:00:00\t"
   ]
  },
  {
   "cell_type": "code",
   "execution_count": 57,
   "metadata": {},
   "outputs": [],
   "source": [
    "# erstelle datetime index\n",
    "start = datetime.datetime(2020, 1, 1)\n",
    "end = datetime.datetime(2024, 4, 23)\n",
    "index_max_range = pd.date_range(start, end, freq='M')"
   ]
  },
  {
   "cell_type": "code",
   "execution_count": 58,
   "metadata": {},
   "outputs": [],
   "source": [
    "# # 1M\n",
    "list_stations = [WS100_rtu_1M['precipitation.1'], WS300_rtu_1M['precipitation.1'], Raine_rtu_1M['Niederschlagsmenge'], L_pcp_rtu_1M['rr_07'], L_pcp_rtu_1M['rr_09'], L_pcp_rtu_1M['rr_10']]\n",
    "# # 3M\n",
    "# list_stations = [WS100_rtu_3M['precipitation.1'], WS300_rtu_3M['precipitation.1'], Raine_rtu_3M['Niederschlagsmenge'], L_pcp_rtu_3M['rr_07'], L_pcp_rtu_3M['rr_09'], L_pcp_rtu_3M['rr_10']]\n",
    "# # 6M\n",
    "# list_stations = [WS100_rtu_6M['precipitation.1'], WS300_rtu_6M['precipitation.1'], Raine_rtu_6M['Niederschlagsmenge'], L_pcp_rtu_6M['rr_07'], L_pcp_rtu_6M['rr_09'], L_pcp_rtu_6M['rr_10']]\n",
    "# # 1Y\n",
    "# list_stations = [WS100_rtu_1Y['precipitation.1'], WS300_rtu_1Y['precipitation.1'], Raine_rtu_1Y['Niederschlagsmenge'], L_pcp_rtu_1Y['rr_07'], L_pcp_rtu_1Y['rr_09'], L_pcp_rtu_1Y['rr_10']]\n",
    "\n",
    "list_min_max_precip = [] # ['---', 'Sum_values_1M', '---']\n",
    "list_min_max_index = []\n",
    "\n",
    "for index in index_max_range:\n",
    "\n",
    "    min_sum_val = 1000000000000\n",
    "    min_found = False\n",
    "    max_sum_val = 0\n",
    "    max_found = False\n",
    "\n",
    "    for station in list_stations:\n",
    "        try:\n",
    "            if station.loc[index] < min_sum_val:\n",
    "                min_sum_val = station.loc[index]\n",
    "                min_found = True\n",
    "            if station.loc[index] > max_sum_val:\n",
    "                max_sum_val = station.loc[index]\n",
    "                max_found = True\n",
    "        except KeyError:\n",
    "            pass\n",
    "    # if min_found and max_found == False:\n",
    "    #     list_min_max_precip.append([index, round(min_sum_val, 2), 'No max value found'])\n",
    "    # elif max_found and min_found == False:\n",
    "    #     list_min_max_precip.append([index, 'No min value found', round(max_sum_val, 2)])\n",
    "    # elif max_found and min_found:\n",
    "    if min_found and max_found:\n",
    "        # list_min_max_precip.append([index, round(min_sum_val, 2), round(max_sum_val, 2)])\n",
    "        list_min_max_precip.append(round(max_sum_val - min_sum_val, 2))\n",
    "        list_min_max_index.append(index)"
   ]
  },
  {
   "cell_type": "code",
   "execution_count": 59,
   "metadata": {},
   "outputs": [
    {
     "data": {
      "image/png": "[encoded data removed]",
      "text/plain": [
       "<Figure size 1000x500 with 1 Axes>"
      ]
     },
     "metadata": {},
     "output_type": "display_data"
    }
   ],
   "source": [
    "fig, ax = plt.subplots(figsize=(10, 5))\n",
    "\n",
    "ax.bar(list_min_max_index, list_min_max_precip, width=20, align='edge')\n",
    "\n",
    "ax.set_title('maximale Messdifferenz zwischen den Stationen')\n",
    "ax.set_xlabel('DateTime')\n",
    "ax.set_ylabel('Differenz in [mm]')\n",
    "\n",
    "timedelta = list_min_max_index[2] - list_min_max_index[1]\n",
    "if timedelta == datetime.timedelta(days=30) or timedelta == datetime.timedelta(days=31) or timedelta == datetime.timedelta(days=28) or timedelta == datetime.timedelta(days=29):\n",
    "        plt.xticks(list_min_max_index[::3], rotation=45)\n",
    "else:\n",
    "    plt.xticks(list_min_max_index, rotation=45)\n",
    "    \n",
    "plt.yticks(rotation=45)\n",
    "\n",
    "plt.show()"
   ]
  },
  {
   "cell_type": "code",
   "execution_count": 53,
   "metadata": {},
   "outputs": [],
   "source": [
    "# WS100_rtu_1Y['precipitation.1']"
   ]
  },
  {
   "cell_type": "code",
   "execution_count": 54,
   "metadata": {},
   "outputs": [],
   "source": [
    "# WS300_rtu_1Y['precipitation.1']"
   ]
  },
  {
   "cell_type": "code",
   "execution_count": 55,
   "metadata": {},
   "outputs": [],
   "source": [
    "# Raine_rtu_1Y['Niederschlagsmenge']"
   ]
  },
  {
   "cell_type": "code",
   "execution_count": 56,
   "metadata": {},
   "outputs": [],
   "source": [
    "# L_pcp_rtu_1Y"
   ]
  },
  {
   "cell_type": "code",
   "execution_count": null,
   "metadata": {},
   "outputs": [],
   "source": [
    "# summen_alle_Stationen.loc['31-10-2023']"
   ]
  },
  {
   "cell_type": "code",
   "execution_count": null,
   "metadata": {},
   "outputs": [],
   "source": [
    "# len(index_max_range)"
   ]
  },
  {
   "cell_type": "code",
   "execution_count": null,
   "metadata": {},
   "outputs": [],
   "source": [
    "# print(list_min_max_precip)"
   ]
  },
  {
   "cell_type": "code",
   "execution_count": null,
   "metadata": {},
   "outputs": [],
   "source": [
    "# differenz für die jeweiligen Monate plotten"
   ]
  },
  {
   "cell_type": "code",
   "execution_count": null,
   "metadata": {},
   "outputs": [],
   "source": [
    "# summen_alle_Stationen.fillna('', inplace=True)"
   ]
  },
  {
   "cell_type": "code",
   "execution_count": null,
   "metadata": {},
   "outputs": [],
   "source": [
    "# summen_alle_Stationen"
   ]
  },
  {
   "cell_type": "code",
   "execution_count": null,
   "metadata": {},
   "outputs": [],
   "source": [
    "# summen_alle_Stationen = summen_alle_Stationen.applymap(lambda x: np.nan if isinstance(x, str) else x)"
   ]
  },
  {
   "cell_type": "code",
   "execution_count": null,
   "metadata": {},
   "outputs": [],
   "source": [
    "# summen_alle_Stationen"
   ]
  },
  {
   "cell_type": "code",
   "execution_count": 62,
   "metadata": {},
   "outputs": [],
   "source": [
    "# zahl_mal_2 = lambda x, y: x * 2 + y"
   ]
  },
  {
   "cell_type": "code",
   "execution_count": 64,
   "metadata": {},
   "outputs": [],
   "source": [
    "# zahl_mal_2(3, 4)"
   ]
  },
  {
   "cell_type": "code",
   "execution_count": null,
   "metadata": {},
   "outputs": [],
   "source": []
  }
 ],
 "metadata": {
  "kernelspec": {
   "display_name": "ts",
   "language": "python",
   "name": "python3"
  },
  "language_info": {
   "codemirror_mode": {
    "name": "ipython",
    "version": 3
   },
   "file_extension": ".py",
   "mimetype": "text/x-python",
   "name": "python",
   "nbconvert_exporter": "python",
   "pygments_lexer": "ipython3",
   "version": "3.10.8"
  }
 },
 "nbformat": 4,
 "nbformat_minor": 2
}
